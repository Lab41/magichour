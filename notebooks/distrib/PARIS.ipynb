{
 "cells": [
  {
   "cell_type": "code",
   "execution_count": 1,
   "metadata": {
    "collapsed": false
   },
   "outputs": [
    {
     "ename": "SyntaxError",
     "evalue": "unexpected EOF while parsing (<ipython-input-1-2f9f07d70d07>, line 1)",
     "output_type": "error",
     "traceback": [
      "\u001b[1;36m  File \u001b[1;32m\"<ipython-input-1-2f9f07d70d07>\"\u001b[1;36m, line \u001b[1;32m1\u001b[0m\n\u001b[1;33m    def get_best_representation(D, A):\u001b[0m\n\u001b[1;37m                                      ^\u001b[0m\n\u001b[1;31mSyntaxError\u001b[0m\u001b[1;31m:\u001b[0m unexpected EOF while parsing\n"
     ]
    }
   ],
   "source": [
    "def get_best_representation(di, A):\n",
    "    '''\n",
    "    Get best possible representation for di given a set of atoms A\n",
    "    '''\n",
    "    # Start with empty set for this representation\n",
    "    curr_r = set()\n",
    "\n",
    "    # degenerate case\n",
    "    if len(di)  == 0:\n",
    "        return curr_r\n",
    "\n",
    "    min_atom_ind =-1\n",
    "    min_distance = paris_distance(di, A, curr_r, r_slack) + 1.0/len(di)*len(curr_r)\n",
    "    # Keep adding atoms to the representation until we are unable to improve the result\n",
    "    while min_atom_ind is not None:\n",
    "        # Find atom to add to the representation that minimizes total distance\n",
    "        min_atom_ind = None\n",
    "        for i in range(len(A)):\n",
    "            # Only check distance for items where there is some intersection between the line and the atom\n",
    "            if i not in curr_r and len(di.intersection(A[i])) > 0:\n",
    "                attempted_r = deepcopy(curr_r)\n",
    "                attempted_r.add(i)\n",
    "                dist = paris_distance(di, A, attempted_r, r_slack) + 1.0/len(di)*len(attempted_r)\n",
    "                if verbose:\n",
    "                    print 'Dist, min_dist', dist, min_distance\n",
    "                if min_distance is None or dist < min_distance:\n",
    "                    min_distance = dist\n",
    "                    min_atom_ind = i\n",
    "\n",
    "        if min_atom_ind is not None:\n",
    "            curr_r.add(min_atom_ind)\n",
    "    return curr_r\n",
    "\n",
    "def get_global_best_representation(D, A):\n",
    "    def get_individual_rep(di, A=A):\n",
    "        return lambda di: get_best_representation(di, A)\n",
    "    return D.map(get_individual_rep)"
   ]
  },
  {
   "cell_type": "code",
   "execution_count": null,
   "metadata": {
    "collapsed": true
   },
   "outputs": [],
   "source": [
    "def PARIS(D, num_iterations=1):\n",
    "    for iteration in range(num_iterations):\n",
    "        "
   ]
  }
 ],
 "metadata": {
  "kernelspec": {
   "display_name": "Python 2",
   "language": "python",
   "name": "python2"
  },
  "language_info": {
   "codemirror_mode": {
    "name": "ipython",
    "version": 2
   },
   "file_extension": ".py",
   "mimetype": "text/x-python",
   "name": "python",
   "nbconvert_exporter": "python",
   "pygments_lexer": "ipython2",
   "version": "2.7.10"
  }
 },
 "nbformat": 4,
 "nbformat_minor": 0
}
