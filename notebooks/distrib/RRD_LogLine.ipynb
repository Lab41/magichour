{
 "cells": [
  {
   "cell_type": "code",
   "execution_count": 24,
   "metadata": {
    "collapsed": true
   },
   "outputs": [],
   "source": [
    "from collections import namedtuple\n",
    "import re\n",
    "\n",
    "LogLine = namedtuple('LogLine', ['ts', 'msg',\n",
    "                                 'processed', 'dictionary', 'supportId'])"
   ]
  },
  {
   "cell_type": "code",
   "execution_count": 21,
   "metadata": {
    "collapsed": true
   },
   "outputs": [],
   "source": [
    "def procLogLine(line,logFile):\n",
    "    '''\n",
    "    handles the logfile specific parsing input lines into 2 parts\n",
    "    ts: timestamp float\n",
    "    msg: the rest of the message\n",
    "    \n",
    "    Args:\n",
    "        line(string): text to process\n",
    "        logFile(string): hint of URI used for input\n",
    "                         should use for switching parsing\n",
    "                         based off different directories\n",
    "    \n",
    "    Returns:\n",
    "        retval(list[string,string]): [ts, msg]\n",
    "    '''\n",
    "    return line.strip().rstrip().split(' ', 3)[2:]\n",
    "\n",
    "def rdd_LogLine(line,logFile):\n",
    "    '''\n",
    "    process a log line into a RDD\n",
    "\n",
    "    Args:\n",
    "        line(string): string from the logline\n",
    "        logFile(string): what URI the log lines came from,\n",
    "                         eventually want to do different parsing\n",
    "                         based on the base of the URI\n",
    "\n",
    "    Returns:\n",
    "        retval(LogLine): fills in the first two portions of the LogLine\n",
    "                         namedtuple\n",
    "    '''\n",
    "    l = procLogLine(line,logFile)\n",
    "    return LogLine(float(l[0]), l[1], None, None, None)\n",
    "\n",
    "def rdd_ReadLog(sc, logFile):\n",
    "    '''\n",
    "    read a log/directory into LogLine RDD format\n",
    "    NOTE: only ts, and msg are populated\n",
    "    Args:\n",
    "        sc(sparkContext)\n",
    "        logFile(string): URI to file toprocess\n",
    "\n",
    "    Returns:\n",
    "        retval(RDD(LogLines): RDD of logs read from the LogFile URI  \n",
    "    '''\n",
    "    sparkLogFile = sc.textFile(logFile)\n",
    "    \n",
    "    return sparkLogFile.map(   lambda line: rdd_LogLine(line, logFile))\n"
   ]
  },
  {
   "cell_type": "code",
   "execution_count": 22,
   "metadata": {
    "collapsed": true
   },
   "outputs": [],
   "source": [
    "logs = 'hdfs://l41-srv-mcdh01.b.internal/user/dgrossman/tbird.log.10000.gz'"
   ]
  },
  {
   "cell_type": "code",
   "execution_count": 23,
   "metadata": {
    "collapsed": false
   },
   "outputs": [
    {
     "data": {
      "text/plain": [
       "[LogLine(ts=1131523501.0, msg=u'aadmin1 in.tftpd[14620]: tftp: client does not accept options', processed=None, dictionary=None, supportId=None),\n",
       " LogLine(ts=1131524071.0, msg=u'tbird-admin1 postfix/postdrop[10896]: warning: unable to look up public/pickup: No such file or directory', processed=None, dictionary=None, supportId=None),\n",
       " LogLine(ts=1131524073.0, msg=u'tbird-admin1 postfix/postdrop[10900]: warning: unable to look up public/pickup: No such file or directory', processed=None, dictionary=None, supportId=None),\n",
       " LogLine(ts=1131524106.0, msg=u'tbird-admin1 postfix/postdrop[10910]: warning: unable to look up public/pickup: No such file or directory', processed=None, dictionary=None, supportId=None),\n",
       " LogLine(ts=1131524107.0, msg=u'tbird-admin1 postfix/postdrop[10913]: warning: unable to look up public/pickup: No such file or directory', processed=None, dictionary=None, supportId=None),\n",
       " LogLine(ts=1131524196.0, msg=u'tbird-admin1 postfix/postdrop[10939]: warning: unable to look up public/pickup: No such file or directory', processed=None, dictionary=None, supportId=None),\n",
       " LogLine(ts=1131524197.0, msg=u'tbird-admin1 postfix/postdrop[10943]: warning: unable to look up public/pickup: No such file or directory', processed=None, dictionary=None, supportId=None),\n",
       " LogLine(ts=1131524199.0, msg=u'tbird-admin1 postfix/postdrop[10946]: warning: unable to look up public/pickup: No such file or directory', processed=None, dictionary=None, supportId=None),\n",
       " LogLine(ts=1131524201.0, msg=u'tbird-admin1 postfix/postdrop[10950]: warning: unable to look up public/pickup: No such file or directory', processed=None, dictionary=None, supportId=None),\n",
       " LogLine(ts=1131524202.0, msg=u'tbird-admin1 postfix/postdrop[10953]: warning: unable to look up public/pickup: No such file or directory', processed=None, dictionary=None, supportId=None)]"
      ]
     },
     "execution_count": 23,
     "metadata": {},
     "output_type": "execute_result"
    }
   ],
   "source": [
    "test = rdd_ReadLog(sc,logs)\n",
    "test.take(10)"
   ]
  }
 ],
 "metadata": {
  "kernelspec": {
   "display_name": "Python 2",
   "language": "python",
   "name": "python2"
  },
  "language_info": {
   "codemirror_mode": {
    "name": "ipython",
    "version": 2
   },
   "file_extension": ".py",
   "mimetype": "text/x-python",
   "name": "python",
   "nbconvert_exporter": "python",
   "pygments_lexer": "ipython2",
   "version": "2.7.11"
  }
 },
 "nbformat": 4,
 "nbformat_minor": 0
}
