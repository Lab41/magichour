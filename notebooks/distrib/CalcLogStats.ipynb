{
 "cells": [
  {
   "cell_type": "code",
   "execution_count": 20,
   "metadata": {
    "collapsed": true
   },
   "outputs": [],
   "source": [
    "from pyspark.mllib.stat import Statistics\n",
    "import math"
   ]
  },
  {
   "cell_type": "code",
   "execution_count": 12,
   "metadata": {
    "collapsed": true
   },
   "outputs": [],
   "source": [
    "logs = 'hdfs://l41-srv-mcdh01.b.internal/magichour/tbird500k'"
   ]
  },
  {
   "cell_type": "code",
   "execution_count": 13,
   "metadata": {
    "collapsed": false
   },
   "outputs": [
    {
     "name": "stdout",
     "output_type": "stream",
     "text": [
      "<pyspark.mllib.stat._statistics.MultivariateStatisticalSummary object at 0x7f9c57fe60d0>\n"
     ]
    }
   ],
   "source": [
    "def rdd_LogLine(line):\n",
    "    l = int (len(line))\n",
    "    w = int (len(line.split()))\n",
    "    return [l,w]\n",
    "\n",
    "sparkLogFile = sc.textFile(logs)\n",
    "out = sparkLogFile.map(rdd_LogLine)\n",
    "stats = Statistics.colStats(out)"
   ]
  },
  {
   "cell_type": "code",
   "execution_count": 16,
   "metadata": {
    "collapsed": false
   },
   "outputs": [
    {
     "name": "stdout",
     "output_type": "stream",
     "text": [
      "mean     [ 130.45497467   12.52005647]\n",
      "variance [ 4900.32611837    28.9357902 ]\n",
      "max      [ 1055.   128.]\n",
      "min      [ 38.   4.]\n",
      "count    211212192\n"
     ]
    }
   ],
   "source": [
    "print 'mean    ',stats.mean()\n",
    "print 'variance',stats.variance()\n",
    "print 'max     ',stats.max()\n",
    "print 'min     ',stats.min()\n",
    "print 'count   ',stats.count()\n"
   ]
  }
 ],
 "metadata": {
  "kernelspec": {
   "display_name": "Python 2",
   "language": "python",
   "name": "python2"
  },
  "language_info": {
   "codemirror_mode": {
    "name": "ipython",
    "version": 2
   },
   "file_extension": ".py",
   "mimetype": "text/x-python",
   "name": "python",
   "nbconvert_exporter": "python",
   "pygments_lexer": "ipython2",
   "version": "2.7.11"
  }
 },
 "nbformat": 4,
 "nbformat_minor": 0
}
