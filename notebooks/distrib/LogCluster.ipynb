{
 "cells": [
  {
   "cell_type": "code",
   "execution_count": null,
   "metadata": {
    "collapsed": false
   },
   "outputs": [],
   "source": [
    "# Load Data\n",
    "#tbird_logs = sc.textFile(\"hdfs:///user/ytesfaye/tbird.log.out.logCluster.processed.gz\")#.repartition(10)\n",
    "tbird_logs = sc.textFile(\"hdfs:///user/ytesfaye/tbird.log.preProc.gz\").repartition(10)"
   ]
  },
  {
   "cell_type": "code",
   "execution_count": null,
   "metadata": {
    "collapsed": true
   },
   "outputs": [],
   "source": [
    "from collections import namedtuple\n",
    "LogLine = namedtuple('LogLine', ['ts', 'msg'])\n",
    "def get_tbird_data(line):\n",
    "    ls = line.split(' ', 1)\n",
    "    timestamp = float(ls[0])\n",
    "    msg = ls[1]\n",
    "    return LogLine(ts=timestamp, msg=msg)\n",
    "tbird_loglines = tbird_logs.map(get_tbird_data).cache()"
   ]
  },
  {
   "cell_type": "code",
   "execution_count": null,
   "metadata": {
    "collapsed": false
   },
   "outputs": [],
   "source": [
    "tbird_loglines.take(5)"
   ]
  },
  {
   "cell_type": "code",
   "execution_count": null,
   "metadata": {
    "collapsed": false
   },
   "outputs": [],
   "source": [
    "# Get Words that occur more than support times \n",
    "from collections import defaultdict\n",
    "support = 200\n",
    "def parse_words(line):\n",
    "    words = set(line.msg.split())\n",
    "    return [(word, 1) for word in words]\n",
    "\n",
    "frequentWordDict = tbird_loglines.flatMap(parse_words)\\\n",
    "                                 .reduceByKey(lambda x,y: x+y)\\\n",
    "                                 .filter(lambda (key,count): count > support)\\\n",
    "                                 .collectAsMap()\n",
    "frequentWords = sc.broadcast(set(frequentWordDict.keys()))"
   ]
  },
  {
   "cell_type": "code",
   "execution_count": null,
   "metadata": {
    "collapsed": false
   },
   "outputs": [],
   "source": [
    "def extract_patterns(line):\n",
    "    skip = 0\n",
    "    freqWordPattern = []\n",
    "    pattern = []\n",
    "    for word in line.msg.split():\n",
    "        if word in frequentWords.value:\n",
    "            if skip != 0:\n",
    "                pattern.append(skip)\n",
    "                skip = 0\n",
    "            freqWordPattern.append(word)\n",
    "            pattern.append(word)\n",
    "        else:\n",
    "            skip += 1    \n",
    "    return (tuple(freqWordPattern), pattern)"
   ]
  },
  {
   "cell_type": "code",
   "execution_count": null,
   "metadata": {
    "collapsed": false
   },
   "outputs": [],
   "source": [
    "def parse_list(pattern):\n",
    "    freqWordPattern, patterns = pattern\n",
    "    patterns = set([tuple(pattern) for pattern in patterns])\n",
    "    aggregate_pattern = [set()]\n",
    "    for word in freqWordPattern:\n",
    "        aggregate_pattern.append(word)\n",
    "        aggregate_pattern.append(set())\n",
    "    \n",
    "    for pattern in patterns:\n",
    "        output_loc = 0\n",
    "        prev_val = 0\n",
    "        for word in pattern:\n",
    "            if isinstance(word, int):\n",
    "                aggregate_pattern[output_loc].add(word)\n",
    "                output_loc += 1\n",
    "                prev_val = 1\n",
    "            else:\n",
    "                # TODO: Add check here that it matches what it should match\n",
    "                #if word != aggregate_pattern[output_loc+1]:\n",
    "                #    print 'ERROR', word, aggregate_pattern[output_loc]\n",
    "                if prev_val == 0:\n",
    "                    aggregate_pattern[output_loc].add(0)\n",
    "                    output_loc += 2\n",
    "                else:\n",
    "                    output_loc += 1\n",
    "                prev_val = 0\n",
    "    \n",
    "    final_pattern = []\n",
    "    for word in aggregate_pattern:\n",
    "        if isinstance(word, set):\n",
    "            if len(word) >= 2:\n",
    "                final_pattern.append('(:? S+){%d,%d}'%(min(word), max(word)))\n",
    "            elif len(word) == 1 and 0 not in word: # Always skip the same number of values\n",
    "                final_pattern.append('(:? S+){%d,%d}'%(min(word), max(word)))\n",
    "        else:\n",
    "            final_pattern.append(word)\n",
    "    return final_pattern"
   ]
  },
  {
   "cell_type": "code",
   "execution_count": null,
   "metadata": {
    "collapsed": false
   },
   "outputs": [],
   "source": [
    "t = tbird_loglines.map(extract_patterns)\\\n",
    "                  .groupByKey()\\\n",
    "                  .filter(lambda (freqWordPattern, pattern): len(pattern) > support)\\\n",
    "                  .map(parse_list)\\\n",
    "                  .collect()"
   ]
  },
  {
   "cell_type": "code",
   "execution_count": null,
   "metadata": {
    "collapsed": false
   },
   "outputs": [],
   "source": [
    "for l in sorted(t):\n",
    "    print ' '.join(l)"
   ]
  },
  {
   "cell_type": "code",
   "execution_count": null,
   "metadata": {
    "collapsed": false
   },
   "outputs": [],
   "source": [
    "len(t)"
   ]
  },
  {
   "cell_type": "code",
   "execution_count": null,
   "metadata": {
    "collapsed": false
   },
   "outputs": [],
   "source": [
    "import re\n",
    "print re.escape(' '.join(parse_list(t[0])))"
   ]
  },
  {
   "cell_type": "code",
   "execution_count": null,
   "metadata": {
    "collapsed": false
   },
   "outputs": [],
   "source": [
    "for i in t:\n",
    "    print ' '.join(parse_list(i))[:60]"
   ]
  },
  {
   "cell_type": "code",
   "execution_count": null,
   "metadata": {
    "collapsed": false
   },
   "outputs": [],
   "source": [
    "r = list(t[1][1])"
   ]
  },
  {
   "cell_type": "code",
   "execution_count": null,
   "metadata": {
    "collapsed": false
   },
   "outputs": [],
   "source": [
    "for i in range(len(t)):\n",
    "    if t[i][0][0] == 'USER':\n",
    "        print t[i][0]"
   ]
  },
  {
   "cell_type": "code",
   "execution_count": null,
   "metadata": {
    "collapsed": false
   },
   "outputs": [],
   "source": [
    "print t[3][0][0]"
   ]
  },
  {
   "cell_type": "code",
   "execution_count": null,
   "metadata": {
    "collapsed": false
   },
   "outputs": [],
   "source": [
    "list(t[0][1])"
   ]
  },
  {
   "cell_type": "code",
   "execution_count": null,
   "metadata": {
    "collapsed": true
   },
   "outputs": [],
   "source": []
  }
 ],
 "metadata": {
  "kernelspec": {
   "display_name": "Python 2",
   "language": "python",
   "name": "python2"
  },
  "language_info": {
   "codemirror_mode": {
    "name": "ipython",
    "version": 2
   },
   "file_extension": ".py",
   "mimetype": "text/x-python",
   "name": "python",
   "nbconvert_exporter": "python",
   "pygments_lexer": "ipython2",
   "version": "2.7.11"
  }
 },
 "nbformat": 4,
 "nbformat_minor": 0
}
