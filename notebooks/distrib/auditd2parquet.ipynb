{
 "cells": [
  {
   "cell_type": "code",
   "execution_count": 32,
   "metadata": {
    "collapsed": true
   },
   "outputs": [],
   "source": [
    "import json\n",
    "import re\n",
    "from collections import OrderedDict"
   ]
  },
  {
   "cell_type": "code",
   "execution_count": 34,
   "metadata": {
    "collapsed": true
   },
   "outputs": [],
   "source": [
    "# Define Helper functions\n",
    "def sanitize_key(key):\n",
    "    return re.sub('[,;/]', '_', key)\n",
    "\n",
    "\n",
    "def parseLine2(line):\n",
    "    message = OrderedDict()\n",
    "    firstTag = None\n",
    "    continuing = None\n",
    "    for seg in line.split(' '):\n",
    "        if continuing:\n",
    "            continuing.append(seg)\n",
    "            if seg[-1:] == \"'\":\n",
    "                message[sanitize_key(firstTag)] = parseLine2(' '.join(continuing)[1:-1])\n",
    "                continuing = None\n",
    "        else:\n",
    "            ind = seg.find('=')\n",
    "            if ind != -1:\n",
    "                left = seg[:ind]\n",
    "                right = seg[ind+1:]\n",
    "                #(left, right) = seg.split('=')\n",
    "                if left == 'msg' and right.startswith('audit'):\n",
    "                    message['timestamp'] =  float(re.search('audit\\(([0-9]+.[0-9]+)', seg).group(1))\n",
    "                elif right.startswith(\"'\"):\n",
    "                    firstTag = left\n",
    "                    continuing = [right]\n",
    "                else:\n",
    "                    message[sanitize_key(left)] = right\n",
    "            else:\n",
    "                message[sanitize_key(seg)] = None\n",
    "\n",
    "\n",
    "    return message"
   ]
  },
  {
   "cell_type": "code",
   "execution_count": 30,
   "metadata": {
    "collapsed": true
   },
   "outputs": [],
   "source": [
    "logs = sc.textFile(\"hdfs:///user/ytesfaye/lab41_logs_small.log.gz\").repartition(10)"
   ]
  },
  {
   "cell_type": "code",
   "execution_count": 35,
   "metadata": {
    "collapsed": false
   },
   "outputs": [],
   "source": [
    "log_map = logs.map(parseLine2).map(lambda x: json.dumps(x))\n",
    "log_map_df = sqlCtx.jsonRDD(log_map)\n",
    "#log_map_df.saveAsParquetFile('hdfs:///user/ytesfaye/lab41_logs_small_parquet')"
   ]
  },
  {
   "cell_type": "markdown",
   "metadata": {},
   "source": [
    "# Use Parquet Representation"
   ]
  },
  {
   "cell_type": "code",
   "execution_count": 5,
   "metadata": {
    "collapsed": false
   },
   "outputs": [],
   "source": [
    "# If we read from a text file then save it as a parquet RDD\n",
    "log_map_df = sqlCtx.read.parquet('hdfs:///user/ytesfaye/lab41_logs_small_parquet').repartition(4)\n",
    "log_map_df.registerTempTable('logs2')"
   ]
  },
  {
   "cell_type": "code",
   "execution_count": 3,
   "metadata": {
    "collapsed": false
   },
   "outputs": [
    {
     "name": "stdout",
     "output_type": "stream",
     "text": [
      "root\n",
      " |-- a0: string (nullable = true)\n",
      " |-- a1: string (nullable = true)\n",
      " |-- a2: string (nullable = true)\n",
      " |-- a3: string (nullable = true)\n",
      " |-- arch: string (nullable = true)\n",
      " |-- audit_backlog_limit: string (nullable = true)\n",
      " |-- auditd: string (nullable = true)\n",
      " |-- auid: string (nullable = true)\n",
      " |-- comm: string (nullable = true)\n",
      " |-- egid: string (nullable = true)\n",
      " |-- entries: string (nullable = true)\n",
      " |-- euid: string (nullable = true)\n",
      " |-- exe: string (nullable = true)\n",
      " |-- exit: string (nullable = true)\n",
      " |-- family: string (nullable = true)\n",
      " |-- format: string (nullable = true)\n",
      " |-- fsgid: string (nullable = true)\n",
      " |-- fsuid: string (nullable = true)\n",
      " |-- gid: string (nullable = true)\n",
      " |-- halt_: string (nullable = true)\n",
      " |-- items: string (nullable = true)\n",
      " |-- kernel: string (nullable = true)\n",
      " |-- key: string (nullable = true)\n",
      " |-- msg: struct (nullable = true)\n",
      " |    |-- _etc_group: string (nullable = true)\n",
      " |    |-- _etc_gshadow: string (nullable = true)\n",
      " |    |-- acct: string (nullable = true)\n",
      " |    |-- addr: string (nullable = true)\n",
      " |    |-- algo: string (nullable = true)\n",
      " |    |-- cipher: string (nullable = true)\n",
      " |    |-- cmd: string (nullable = true)\n",
      " |    |-- comment: string (nullable = true)\n",
      " |    |-- cwd: string (nullable = true)\n",
      " |    |-- direction: string (nullable = true)\n",
      " |    |-- directory: string (nullable = true)\n",
      " |    |-- exe: string (nullable = true)\n",
      " |    |-- fp: string (nullable = true)\n",
      " |    |-- group: string (nullable = true)\n",
      " |    |-- home: string (nullable = true)\n",
      " |    |-- hostname: string (nullable = true)\n",
      " |    |-- id: string (nullable = true)\n",
      " |    |-- init: string (nullable = true)\n",
      " |    |-- kind: string (nullable = true)\n",
      " |    |-- ksize: string (nullable = true)\n",
      " |    |-- laddr: string (nullable = true)\n",
      " |    |-- lport: string (nullable = true)\n",
      " |    |-- new-level: string (nullable = true)\n",
      " |    |-- old-level: string (nullable = true)\n",
      " |    |-- op: string (nullable = true)\n",
      " |    |-- res: string (nullable = true)\n",
      " |    |-- rport: string (nullable = true)\n",
      " |    |-- shadow: string (nullable = true)\n",
      " |    |-- size: string (nullable = true)\n",
      " |    |-- spid: string (nullable = true)\n",
      " |    |-- suid: string (nullable = true)\n",
      " |    |-- terminal: string (nullable = true)\n",
      " |    |-- to: string (nullable = true)\n",
      " |    |-- user: string (nullable = true)\n",
      " |-- new: string (nullable = true)\n",
      " |-- normal: string (nullable = true)\n",
      " |-- old: string (nullable = true)\n",
      " |-- pid: string (nullable = true)\n",
      " |-- ppid: string (nullable = true)\n",
      " |-- res: string (nullable = true)\n",
      " |-- sending: string (nullable = true)\n",
      " |-- ses: string (nullable = true)\n",
      " |-- sgid: string (nullable = true)\n",
      " |-- sig: string (nullable = true)\n",
      " |-- start_: string (nullable = true)\n",
      " |-- subj: string (nullable = true)\n",
      " |-- success: string (nullable = true)\n",
      " |-- suid: string (nullable = true)\n",
      " |-- syscall: string (nullable = true)\n",
      " |-- table: string (nullable = true)\n",
      " |-- timestamp: double (nullable = true)\n",
      " |-- tty: string (nullable = true)\n",
      " |-- type: string (nullable = true)\n",
      " |-- uid: string (nullable = true)\n",
      " |-- user: string (nullable = true)\n",
      " |-- ver: string (nullable = true)\n",
      "\n"
     ]
    }
   ],
   "source": [
    "# View the schema that was generated for our parquet data\n",
    "log_map_df.printSchema()"
   ]
  },
  {
   "cell_type": "code",
   "execution_count": null,
   "metadata": {
    "collapsed": false
   },
   "outputs": [],
   "source": [
    "# See what UIDs exist in logs\n",
    "for row in sqlCtx.sql(\"select distinct(uid) from logs2\").collect():\n",
    "    print row"
   ]
  },
  {
   "cell_type": "code",
   "execution_count": null,
   "metadata": {
    "collapsed": false
   },
   "outputs": [],
   "source": [
    "# See what user accounts exist in logs\n",
    "for acct in sqlCtx.sql('select distinct(msg.acct) from logs2 where msg.acct is not null').collect():\n",
    "    print type(acct.acct), acct.acct"
   ]
  },
  {
   "cell_type": "code",
   "execution_count": 7,
   "metadata": {
    "collapsed": false
   },
   "outputs": [
    {
     "name": "stdout",
     "output_type": "stream",
     "text": [
      "(invalid user)\n"
     ]
    }
   ],
   "source": [
    "# Some user account names are in hex, decode\n",
    "import binascii\n",
    "acct_name = '28696E76616C6964207573657229'\n",
    "\n",
    "print binascii.unhexlify(acct_name)"
   ]
  },
  {
   "cell_type": "code",
   "execution_count": 8,
   "metadata": {
    "collapsed": false
   },
   "outputs": [
    {
     "name": "stdout",
     "output_type": "stream",
     "text": [
      "{u'CONFIG_CHANGE': 24, u'USER_START': 16, u'CRED_ACQ': 20, u'LOGIN': 19, u'USER_CHAUTHTOK': 21, u'SYSCALL': 5, u'CRED_REFR': 17, u'DAEMON_START': 7, u'CRYPTO_SESSION': 14, u'ADD_USER': 11, u'DAEMON_END': 8, u'USER_CMD': 3, u'SYSTEM_SHUTDOWN': 18, u'USER_AUTH': 10, u'CRYPTO_KEY_USER': 6, u'ANOM_ABEND': 0, u'CRED_DISP': 13, u'USER_ACCT': 9, u'USER_ERR': 12, u'USER_END': 23, u'ADD_GROUP': 4, u'USER_LOGOUT': 15, u'SYSTEM_RUNLEVEL': 1, u'USER_LOGIN': 2, u'NETFILTER_CFG': 22}\n"
     ]
    }
   ],
   "source": [
    "# Look at values in the type field\n",
    "lookup_code = {}\n",
    "counter = 0\n",
    "for row in sqlCtx.sql('select distinct(type) from logs2').collect():\n",
    "    lookup_code[row.type] = counter\n",
    "    counter += 1\n",
    "print lookup_code"
   ]
  }
 ],
 "metadata": {
  "kernelspec": {
   "display_name": "Python 2",
   "language": "python",
   "name": "python2"
  },
  "language_info": {
   "codemirror_mode": {
    "name": "ipython",
    "version": 2
   },
   "file_extension": ".py",
   "mimetype": "text/x-python",
   "name": "python",
   "nbconvert_exporter": "python",
   "pygments_lexer": "ipython2",
   "version": "2.7.10"
  }
 },
 "nbformat": 4,
 "nbformat_minor": 0
}
