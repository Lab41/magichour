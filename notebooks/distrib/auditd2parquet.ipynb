{
 "cells": [
  {
   "cell_type": "code",
   "execution_count": null,
   "metadata": {
    "collapsed": true
   },
   "outputs": [],
   "source": [
    "import json\n",
    "import re\n",
    "from collections import OrderedDict"
   ]
  },
  {
   "cell_type": "code",
   "execution_count": null,
   "metadata": {
    "collapsed": true
   },
   "outputs": [],
   "source": [
    "# Define Helper functions\n",
    "def sanitize_key(key):\n",
    "    return re.sub('[,;/]', '_', key)\n",
    "\n",
    "\n",
    "def parseLine2(line):\n",
    "    message = OrderedDict()\n",
    "    firstTag = None\n",
    "    continuing = None\n",
    "    for seg in line.split(' '):\n",
    "        if continuing:\n",
    "            continuing.append(seg)\n",
    "            if seg[-1:] == \"'\":\n",
    "                message[sanitize_key(firstTag)] = parseLine2(' '.join(continuing)[1:-1])\n",
    "                continuing = None\n",
    "        else:\n",
    "            ind = seg.find('=')\n",
    "            if ind != -1:\n",
    "                left = seg[:ind]\n",
    "                right = seg[ind+1:]\n",
    "                #(left, right) = seg.split('=')\n",
    "                if left == 'msg' and right.startswith('audit'):\n",
    "                    message['timestamp'] =  float(re.search('audit\\(([0-9]+.[0-9]+)', seg).group(1))\n",
    "                elif right.startswith(\"'\"):\n",
    "                    firstTag = left\n",
    "                    continuing = [right]\n",
    "                else:\n",
    "                    message[sanitize_key(left)] = right\n",
    "            else:\n",
    "                message[sanitize_key(seg)] = None\n",
    "\n",
    "\n",
    "    return message"
   ]
  },
  {
   "cell_type": "code",
   "execution_count": null,
   "metadata": {
    "collapsed": true
   },
   "outputs": [],
   "source": [
    "logs = sc.textFile(\"hdfs:///user/ytesfaye/lab41_logs_small.log.gz\").repartition(10)"
   ]
  },
  {
   "cell_type": "code",
   "execution_count": null,
   "metadata": {
    "collapsed": false
   },
   "outputs": [],
   "source": [
    "log_map = logs.map(parseLine2).map(lambda x: json.dumps(x))\n",
    "log_map_df = sqlCtx.jsonRDD(log_map)\n",
    "#log_map_df.saveAsParquetFile('hdfs:///user/ytesfaye/lab41_logs_small_parquet')"
   ]
  },
  {
   "cell_type": "markdown",
   "metadata": {},
   "source": [
    "# Use Parquet Representation"
   ]
  },
  {
   "cell_type": "code",
   "execution_count": null,
   "metadata": {
    "collapsed": false
   },
   "outputs": [],
   "source": [
    "# If we read from a text file then save it as a parquet RDD\n",
    "log_map_df = sqlCtx.read.parquet('hdfs:///user/ytesfaye/lab41_logs_small_parquet').repartition(4)\n",
    "log_map_df.registerTempTable('logs2')"
   ]
  },
  {
   "cell_type": "code",
   "execution_count": null,
   "metadata": {
    "collapsed": false
   },
   "outputs": [],
   "source": [
    "# View the schema that was generated for our parquet data\n",
    "log_map_df.printSchema()"
   ]
  },
  {
   "cell_type": "code",
   "execution_count": null,
   "metadata": {
    "collapsed": false
   },
   "outputs": [],
   "source": [
    "# See what UIDs exist in logs\n",
    "for row in sqlCtx.sql(\"select distinct(uid) from logs2\").collect():\n",
    "    print row"
   ]
  },
  {
   "cell_type": "code",
   "execution_count": null,
   "metadata": {
    "collapsed": false
   },
   "outputs": [],
   "source": [
    "# See what user accounts exist in logs\n",
    "for acct in sqlCtx.sql('select distinct(msg.acct) from logs2 where msg.acct is not null').collect():\n",
    "    print type(acct.acct), acct.acct"
   ]
  },
  {
   "cell_type": "code",
   "execution_count": null,
   "metadata": {
    "collapsed": false
   },
   "outputs": [],
   "source": [
    "# Some user account names are in hex, decode\n",
    "import binascii\n",
    "acct_name = '28696E76616C6964207573657229'\n",
    "\n",
    "print binascii.unhexlify(acct_name)"
   ]
  },
  {
   "cell_type": "code",
   "execution_count": null,
   "metadata": {
    "collapsed": false
   },
   "outputs": [],
   "source": [
    "# Look at values in the type field\n",
    "lookup_code = {}\n",
    "counter = 0\n",
    "for row in sqlCtx.sql('select distinct(type) from logs2').collect():\n",
    "    lookup_code[row.type] = counter\n",
    "    counter += 1\n",
    "print lookup_code"
   ]
  }
 ],
 "metadata": {
  "kernelspec": {
   "display_name": "Python 2",
   "language": "python",
   "name": "python2"
  },
  "language_info": {
   "codemirror_mode": {
    "name": "ipython",
    "version": 2
   },
   "file_extension": ".py",
   "mimetype": "text/x-python",
   "name": "python",
   "nbconvert_exporter": "python",
   "pygments_lexer": "ipython2",
   "version": "2.7.11"
  }
 },
 "nbformat": 4,
 "nbformat_minor": 0
}
