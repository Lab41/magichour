{
 "cells": [
  {
   "cell_type": "code",
   "execution_count": 17,
   "metadata": {
    "collapsed": false
   },
   "outputs": [],
   "source": [
    "import sys\n",
    "import os\n",
    "from collections import namedtuple"
   ]
  },
  {
   "cell_type": "code",
   "execution_count": 18,
   "metadata": {
    "collapsed": false
   },
   "outputs": [],
   "source": [
    "\n",
    "Entry = namedtuple('Entry',['ts','cluster'])\n",
    "Writer = namedtuple('Writer',['start','end','fid'])"
   ]
  },
  {
   "cell_type": "code",
   "execution_count": 19,
   "metadata": {
    "collapsed": false
   },
   "outputs": [],
   "source": [
    "def makeCounters(fPrefix,start,length,overlap,num):\n",
    "    c = list()\n",
    "    for x in range(num):\n",
    "        s = float(start) + length*x\n",
    "        e =  s + length\n",
    "        s0 = s + length/2\n",
    "        e0 = s0 + length\n",
    "        \n",
    "        w1 = Writer(s,e,open('%s%i-%i.out' % (fPrefix,int(s),int(e)),'w'))\n",
    "        w2 = Writer(s0,e0,open('%s%i-%i.out' % (fPrefix,int(s0),int(e0)),'w'))\n",
    "        \n",
    "        c.append(w1)\n",
    "        c.append(w2)\n",
    "        \n",
    "    return c\n",
    "      \n",
    "    "
   ]
  },
  {
   "cell_type": "code",
   "execution_count": 20,
   "metadata": {
    "collapsed": false
   },
   "outputs": [],
   "source": [
    "length=5*60*60\n",
    "overlap=2.5*60*60"
   ]
  },
  {
   "cell_type": "code",
   "execution_count": 21,
   "metadata": {
    "collapsed": false
   },
   "outputs": [],
   "source": [
    "def putLogLine(entry,writers):\n",
    "    putSomewhere = False\n",
    "    for w in writers:\n",
    "        if (float(entry.ts) >= float(w.start)) and (float(entry.ts) <= float(w.end)):\n",
    "            w.fid.write('%s ' % (entry.cluster))\n",
    "            putSomewhere = True\n",
    "        else:\n",
    "            if float(entry.ts) > float(w.end):\n",
    "                if not w.fid.closed:\n",
    "                    w.fid.write('\\n')\n",
    "                else:\n",
    "                    w.fid.close()\n",
    "                \n",
    "    if not putSomewhere:\n",
    "        print 'BAD BAD BAD BAD'\n",
    "        \n",
    "    for w in writers:\n",
    "        if not w.fid.closed:\n",
    "            return False\n",
    "    return True"
   ]
  },
  {
   "cell_type": "code",
   "execution_count": 22,
   "metadata": {
    "collapsed": true
   },
   "outputs": [],
   "source": [
    "def writeThings(f,fPrefix,length,overlap):\n",
    "    initialized = False\n",
    "    startingPoint = 0.0\n",
    "    writers = list()\n",
    "    read = 0\n",
    "    for current in f.readlines():\n",
    "        \n",
    "        c,d,e = current.split(',',2)\n",
    "        entry = Entry(c,d)\n",
    "        if not initialized:\n",
    "            startingPoint = entry.ts\n",
    "            initialized = True\n",
    "            writers = makeCounters(fPrefix,startingPoint,length,overlap,10)\n",
    "        moreNeeded = putLogLine(entry,writers)\n",
    "        read += 1\n",
    "        if moreNeeded:\n",
    "            print 'moar writers'\n",
    "            startingPoint = entry.ts\n",
    "            writers = makeCounters(fPrefix,startingPoint,length,overlap,10)\n",
    "            putLogLine(entry,writers)\n",
    "    \n",
    "    for w in writers:\n",
    "        w.fid.close()\n",
    "    \n",
    "    print 'read:',read"
   ]
  },
  {
   "cell_type": "code",
   "execution_count": 23,
   "metadata": {
    "collapsed": false
   },
   "outputs": [],
   "source": [
    "os.chdir('/Users/dgrossman/data')"
   ]
  },
  {
   "cell_type": "code",
   "execution_count": 25,
   "metadata": {
    "collapsed": false
   },
   "outputs": [
    {
     "name": "stdout",
     "output_type": "stream",
     "text": [
      "read: 326094\n"
     ]
    }
   ],
   "source": [
    "writeThings(open('./tbird.500k.normal.350Support.out.clustered.noJunk','r'),'tbirdOverlap',length,overlap)"
   ]
  },
  {
   "cell_type": "code",
   "execution_count": 24,
   "metadata": {
    "collapsed": false
   },
   "outputs": [
    {
     "data": {
      "text/plain": [
       "u'/Users/dgrossman/data'"
      ]
     },
     "execution_count": 24,
     "metadata": {},
     "output_type": "execute_result"
    }
   ],
   "source": [
    "pwd()"
   ]
  },
  {
   "cell_type": "code",
   "execution_count": null,
   "metadata": {
    "collapsed": true
   },
   "outputs": [],
   "source": []
  }
 ],
 "metadata": {
  "kernelspec": {
   "display_name": "Python 2",
   "language": "python",
   "name": "python2"
  },
  "language_info": {
   "codemirror_mode": {
    "name": "ipython",
    "version": 2
   },
   "file_extension": ".py",
   "mimetype": "text/x-python",
   "name": "python",
   "nbconvert_exporter": "python",
   "pygments_lexer": "ipython2",
   "version": "2.7.11"
  }
 },
 "nbformat": 4,
 "nbformat_minor": 0
}
