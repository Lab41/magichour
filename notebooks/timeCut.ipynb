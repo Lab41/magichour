{
 "cells": [
  {
   "cell_type": "code",
   "execution_count": 1,
   "metadata": {
    "collapsed": false
   },
   "outputs": [],
   "source": [
    "import sys\n",
    "import os\n",
    "import gzip\n",
    "from collections import namedtuple"
   ]
  },
  {
   "cell_type": "code",
   "execution_count": null,
   "metadata": {
    "collapsed": true
   },
   "outputs": [],
   "source": [
    "def openFile(name, mode):\n",
    "    if name.lower().endswith('.gz'):\n",
    "        return gzip.open(name, mode+'b')\n",
    "    else:\n",
    "        return open(name, mode)"
   ]
  },
  {
   "cell_type": "code",
   "execution_count": 2,
   "metadata": {
    "collapsed": false
   },
   "outputs": [],
   "source": [
    "\n",
    "Entry = namedtuple('Entry',['ts','cluster'])\n",
    "Writer = namedtuple('Writer',['start','end','fid'])\n"
   ]
  },
  {
   "cell_type": "code",
   "execution_count": 3,
   "metadata": {
    "collapsed": false
   },
   "outputs": [],
   "source": [
    "def makeCounters(fPrefix,start,length,overlap,num):\n",
    "    c = list()\n",
    "    for x in range(num):\n",
    "        s = float(start) + length*x\n",
    "        e =  s + length\n",
    "        s0 = s + length*overlap\n",
    "        e0 = s0 + length\n",
    "        \n",
    "        w1 = Writer(s,e,openFile('%s%i-%i.out' % (fPrefix,int(s),int(e)),'w'))\n",
    "        \n",
    "        c.append(w1)\n",
    "        \n",
    "        if (overlap !=0):\n",
    "            w2 = Writer(s0,e0,openFile('%s%i-%i.out' % (fPrefix,int(s0),int(e0)),'w'))\n",
    "            c.append(w2)\n",
    "        \n",
    "    return c\n",
    "      \n",
    "    "
   ]
  },
  {
   "cell_type": "code",
   "execution_count": 4,
   "metadata": {
    "collapsed": false
   },
   "outputs": [],
   "source": [
    "def delZero(path,prefix):\n",
    "    files =  os.listdir(path)\n",
    "    for f in files:\n",
    "        if f.startswith(prefix) and (os.path.getsize(f) == 0):\n",
    "            os.remove(f)\n"
   ]
  },
  {
   "cell_type": "code",
   "execution_count": 5,
   "metadata": {
    "collapsed": false
   },
   "outputs": [],
   "source": [
    "def putLogLine(entry,writers):\n",
    "    putSomewhere = False\n",
    "    for w in writers:\n",
    "        if (float(entry.ts) >= float(w.start)) and (float(entry.ts) <= float(w.end)):\n",
    "            w.fid.write('%s ' % (entry.cluster))\n",
    "            putSomewhere = True\n",
    "        else:\n",
    "            if float(entry.ts) > float(w.end):\n",
    "                if not w.fid.closed:\n",
    "                    w.fid.close()\n",
    "                \n",
    "    if not putSomewhere:\n",
    "        print 'BAD BAD BAD BAD'\n",
    "        \n",
    "    for w in writers:\n",
    "        if not w.fid.closed:\n",
    "            return False\n",
    "    return True"
   ]
  },
  {
   "cell_type": "code",
   "execution_count": 6,
   "metadata": {
    "collapsed": false
   },
   "outputs": [],
   "source": [
    "def writeThings(f,fPrefix,length,overlap):\n",
    "    initialized = False\n",
    "    startingPoint = 0.0\n",
    "    writers = list()\n",
    "    read = 0\n",
    "    for current in f.readlines():\n",
    "        \n",
    "        c,d,e = current.split(',',2)\n",
    "        entry = Entry(c,d)\n",
    "        if not initialized:\n",
    "            startingPoint = entry.ts\n",
    "            initialized = True\n",
    "            writers = makeCounters(fPrefix,startingPoint,length,overlap,100)\n",
    "        moreNeeded = putLogLine(entry,writers)\n",
    "        read += 1\n",
    "        if moreNeeded:\n",
    "            print 'moar writers'\n",
    "            startingPoint = entry.ts\n",
    "            writers = makeCounters(fPrefix,startingPoint,length,overlap,100)\n",
    "            putLogLine(entry,writers)\n",
    "    \n",
    "    for w in writers:\n",
    "        w.fid.close()\n",
    "    \n",
    "    print 'read:',read"
   ]
  },
  {
   "cell_type": "code",
   "execution_count": 7,
   "metadata": {
    "collapsed": true
   },
   "outputs": [],
   "source": [
    "prefix = 'tbirdBig'"
   ]
  },
  {
   "cell_type": "code",
   "execution_count": 8,
   "metadata": {
    "collapsed": true
   },
   "outputs": [],
   "source": [
    "dataDir = '/Users/dgrossman/data'"
   ]
  },
  {
   "cell_type": "code",
   "execution_count": 9,
   "metadata": {
    "collapsed": false
   },
   "outputs": [],
   "source": [
    "inputFile = 'tbird.log.preProc.200.supports.out'"
   ]
  },
  {
   "cell_type": "code",
   "execution_count": 10,
   "metadata": {
    "collapsed": false
   },
   "outputs": [],
   "source": [
    "length=2*60*60\n",
    "overlap=0"
   ]
  },
  {
   "cell_type": "code",
   "execution_count": 11,
   "metadata": {
    "collapsed": false
   },
   "outputs": [],
   "source": [
    "os.chdir(dataDir)"
   ]
  },
  {
   "cell_type": "code",
   "execution_count": 12,
   "metadata": {
    "collapsed": false
   },
   "outputs": [],
   "source": [
    "writeThings(openFile(inputFile,'r'),prefix,length,overlap)"
   ]
  },
  {
   "cell_type": "code",
   "execution_count": 13,
   "metadata": {
    "collapsed": false
   },
   "outputs": [],
   "source": [
    "delZero(dataDir,prefix)"
   ]
  },
  {
   "cell_type": "code",
   "execution_count": null,
   "metadata": {
    "collapsed": true
   },
   "outputs": [],
   "source": []
  }
 ],
 "metadata": {
  "kernelspec": {
   "display_name": "Python 2",
   "language": "python",
   "name": "python2"
  },
  "language_info": {
   "codemirror_mode": {
    "name": "ipython",
    "version": 2
   },
   "file_extension": ".py",
   "mimetype": "text/x-python",
   "name": "python",
   "nbconvert_exporter": "python",
   "pygments_lexer": "ipython2",
   "version": "2.7.11"
  }
 },
 "nbformat": 4,
 "nbformat_minor": 0
}
