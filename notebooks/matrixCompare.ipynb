{
 "cells": [
  {
   "cell_type": "code",
   "execution_count": null,
   "metadata": {
    "collapsed": true
   },
   "outputs": [],
   "source": [
    "from collections import defaultdict\n",
    "from collections import namedtuple\n",
    "import matplotlib.pyplot as plt\n",
    "import numpy as np\n",
    "%matplotlib\n",
    "Returns = namedtuple('Returns',['left','top','matrix'])"
   ]
  },
  {
   "cell_type": "code",
   "execution_count": null,
   "metadata": {
    "collapsed": true
   },
   "outputs": [],
   "source": [
    "left = './tbird.log.out.logCluster.processed.10secwindows.loghound.300.out'\n",
    "top = './tbird.log.out.logCluster.processed.10secwindows.loghound.300.out'"
   ]
  },
  {
   "cell_type": "code",
   "execution_count": null,
   "metadata": {
    "collapsed": true
   },
   "outputs": [],
   "source": [
    "def makeMatrix(top,left):\n",
    "    topF = open(top,'r')\n",
    "    leftF = open(left,'r')\n",
    "    topList = list()\n",
    "    leftList = list()\n",
    "    \n",
    "    for i in topF.readlines():\n",
    "        topList.append(set(i.split()))\n",
    "        \n",
    "    for i in leftF.readlines():\n",
    "        leftList.append(set(i.split()))\n",
    "    \n",
    "    mat = defaultdict(int)\n",
    "    \n",
    "    print len(topList),len(leftList)\n",
    "    \n",
    "    for i in range(len(topList)):\n",
    "        for j in range(len(leftList)):\n",
    "            intersection = len(topList[i].intersection(leftList[j]))\n",
    "            intersection = topList[i].intersection(leftList[j])\n",
    "            t1 = intersection.symmetric_difference(topList[i])\n",
    "            t2 = intersection.symmetric_difference(leftList[j])\n",
    "            intersection = len(intersection)/(len(t1)+len(t2)+1)\n",
    "            if intersection > 0:\n",
    "                mat[(i,j)] = intersection\n",
    "    return Returns(leftList,topList,mat)\n",
    "    \n",
    "def interesting(returns,thresh):\n",
    "        out = defaultdict(int)\n",
    "        \n",
    "        for x in returns.matrix.itervalues():\n",
    "            if x > 0:\n",
    "                out[x] +=1\n",
    "        print out\n",
    "        \n",
    "        for key,value in returns.matrix.iteritems():\n",
    "            if value >= thresh:\n",
    "                intersection = returns.left[key[1]].intersection(returns.top[key[0]])\n",
    "                leftOnly = intersection.symmetric_difference(returns.left[key[1]])\n",
    "                topOnly = intersection.symmetric_difference(returns.top[key[0]])\n",
    "                print 'same:',len(intersection),',leftOnly:',len(leftOnly),',topOnly:',len(topOnly)\n"
   ]
  },
  {
   "cell_type": "code",
   "execution_count": null,
   "metadata": {
    "collapsed": false
   },
   "outputs": [],
   "source": [
    "def samplemat(rtrn):\n",
    "    \"\"\"Make a matrix with all zeros and increasing elements on the diagonal\"\"\"\n",
    "    xx = len(rtrn.top)\n",
    "    yy = len(rtrn.left)\n",
    "    aa = np.zeros((yy,xx))\n",
    "    for key,value in rtrn.matrix.iteritems():\n",
    "        aa[key[1],key[0]] = value\n",
    "    return aa"
   ]
  },
  {
   "cell_type": "code",
   "execution_count": null,
   "metadata": {
    "collapsed": false
   },
   "outputs": [],
   "source": [
    "def plotPowerCorner(a):\n",
    "    \n",
    "    b=np.sum(a,axis=0)\n",
    "    idx = b.argsort()\n",
    "    c = np.take(a,idx,axis=1)\n",
    "\n",
    "    d = np.sum(c,axis=1)\n",
    "    idx = d.argsort()\n",
    "    e = np.take(c,idx,axis=0)\n",
    "\n",
    "    plt.matshow(e)\n",
    "    plt.show()\n"
   ]
  },
  {
   "cell_type": "code",
   "execution_count": null,
   "metadata": {
    "collapsed": false
   },
   "outputs": [],
   "source": [
    "outx = makeMatrix(top,left)"
   ]
  },
  {
   "cell_type": "code",
   "execution_count": null,
   "metadata": {
    "collapsed": false
   },
   "outputs": [],
   "source": [
    "interesting(outx,6)"
   ]
  },
  {
   "cell_type": "code",
   "execution_count": null,
   "metadata": {
    "collapsed": false
   },
   "outputs": [],
   "source": [
    "a = samplemat(outx)\n",
    "b=a*1000"
   ]
  },
  {
   "cell_type": "code",
   "execution_count": null,
   "metadata": {
    "collapsed": false
   },
   "outputs": [],
   "source": [
    "plotPowerCorner(b.transpose())"
   ]
  }
 ],
 "metadata": {
  "kernelspec": {
   "display_name": "Python 2",
   "language": "python",
   "name": "python2"
  },
  "language_info": {
   "codemirror_mode": {
    "name": "ipython",
    "version": 2
   },
   "file_extension": ".py",
   "mimetype": "text/x-python",
   "name": "python",
   "nbconvert_exporter": "python",
   "pygments_lexer": "ipython2",
   "version": "2.7.11"
  }
 },
 "nbformat": 4,
 "nbformat_minor": 0
}
