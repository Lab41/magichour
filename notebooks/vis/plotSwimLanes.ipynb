{
 "cells": [
  {
   "cell_type": "code",
   "execution_count": null,
   "metadata": {
    "collapsed": false
   },
   "outputs": [],
   "source": [
    "import gzip\n",
    "from collections import defaultdict\n",
    "from collections import namedtuple\n",
    "import matplotlib.pyplot as plt\n",
    "import numpy as np\n",
    "import pandas as pd\n",
    "import numpy as np\n",
    "\n",
    "import math\n",
    "from bokeh.charts import Scatter, output_file, show\n",
    "from bokeh.models import HoverTool\n",
    "from bokeh.plotting import figure, output_file, show, ColumnDataSource\n",
    "from collections import OrderedDict\n",
    "\n",
    "%matplotlib"
   ]
  },
  {
   "cell_type": "code",
   "execution_count": null,
   "metadata": {
    "collapsed": false
   },
   "outputs": [],
   "source": [
    "def windowEvents(outFile,logLines,windowSec=120):\n",
    "\n",
    "    a = gzip.open(logLines,'rb')\n",
    "    o = gzip.open(outFile,'wb')\n",
    "\n",
    "    currentTime=0\n",
    "    oldTime=0\n",
    "\n",
    "    setup = False\n",
    "    outSet = set()\n",
    "    for line in a.readlines():\n",
    "        time, tid = line.strip().rstrip().split(',')\n",
    "        currentTime = int(float(time)/windowSec)\n",
    "\n",
    "        if not setup:\n",
    "            setup = True\n",
    "            oldTime = currentTime\n",
    "\n",
    "        if oldTime != currentTime:\n",
    "            if len(outSet) > 0:\n",
    "                outText = '%s\\n'%(' '.join(str(i) for i in outSet))\n",
    "                o.write(outText)\n",
    "                outSet.clear()\n",
    "\n",
    "        outSet.add(tid)    \n",
    "        oldTime = currentTime\n",
    "\n",
    "    o.close()\n",
    "    a.close()"
   ]
  },
  {
   "cell_type": "code",
   "execution_count": null,
   "metadata": {
    "collapsed": false
   },
   "outputs": [],
   "source": [
    "def readPatterns(patterns):\n",
    "    pat = open(patterns,'r').readlines()\n",
    "    listSetPat = list()\n",
    "\n",
    "    for p in pat:\n",
    "        line = p.strip().rstrip().split(' ')\n",
    "        listSetPat.append(set(line))\n",
    "    return (listSetPat,pat)"
   ]
  },
  {
   "cell_type": "code",
   "execution_count": null,
   "metadata": {
    "collapsed": false
   },
   "outputs": [],
   "source": [
    "def makeWindowSet(outFile):\n",
    "    w = gzip.open(outFile,'rb')\n",
    "    windowLines = w.readlines()\n",
    "\n",
    "    windowListSet = list()\n",
    "\n",
    "    for windowLine in windowLines:\n",
    "        line = windowLine.strip().rstrip().split(' ')\n",
    "        windowListSet.append(set(line))\n",
    "    return windowListSet"
   ]
  },
  {
   "cell_type": "code",
   "execution_count": null,
   "metadata": {
    "collapsed": false
   },
   "outputs": [],
   "source": [
    "def makeSwimLanes(swimOutFile,windowSet):\n",
    "    o = gzip.open(swimOutFile,'wb')\n",
    "    window = list()\n",
    "    for wset in windowListSet:\n",
    "        outSet = set()\n",
    "        for index, pset in enumerate(listSetPat):\n",
    "            if wset.issuperset(pset):\n",
    "                outSet.add(index)\n",
    "        outText = '%s\\n'%(' '.join(str(i) for i in outSet))\n",
    "        window.append(outText.strip().rstrip())\n",
    "        o.write(outText)\n",
    "        outSet.clear()\n",
    "    o.close()\n",
    "    return window"
   ]
  },
  {
   "cell_type": "code",
   "execution_count": null,
   "metadata": {
    "collapsed": false
   },
   "outputs": [],
   "source": [
    "def getTemplates(templateFile):\n",
    "    templates = open(templateFile,'r')\n",
    "    templateDict = dict()\n",
    "    for i in templates.readlines():\n",
    "        tid,text = i.strip().rstrip().split(',',1)\n",
    "        templateDict[tid]=text\n",
    "    return templateDict\n",
    "\n"
   ]
  },
  {
   "cell_type": "code",
   "execution_count": null,
   "metadata": {
    "collapsed": true
   },
   "outputs": [],
   "source": [
    "def makeEventWords(e,templateDict,e2p):\n",
    "    words = set()\n",
    "    for logline in e2p[int(e)].rstrip().strip().split(' '):\n",
    "        for d in templateDict[logline].split(' '):\n",
    "            words.add(d)\n",
    "    return words"
   ]
  },
  {
   "cell_type": "code",
   "execution_count": null,
   "metadata": {
    "collapsed": false
   },
   "outputs": [],
   "source": [
    "def samplemat(swim,y,x,templateDict,e2p,plot=True):\n",
    "    mat = np.zeros((y,x))\n",
    "    xval =0\n",
    "    vizLine = list()\n",
    "    for s in swim:\n",
    "        if int(xval) >= int(x):\n",
    "            if plot:\n",
    "                plt.matshow(mat,cmap=plt.cm.bone_r)\n",
    "                plt.xlabel('time')\n",
    "                plt.ylabel('events')\n",
    "            return (mat,vizLine)\n",
    "        \n",
    "        z = s.strip().rstrip().split(' ')\n",
    "\n",
    "        for items in z:\n",
    "            if items:\n",
    "                #print xval,items\n",
    "                mat[int(items),int(xval)] = 10000\n",
    "                words = makeEventWords(items,templateDict,e2p)\n",
    "                vizLine.append((xval,items,' '.join(words)))\n",
    "        xval = xval+1\n",
    "        "
   ]
  },
  {
   "cell_type": "code",
   "execution_count": null,
   "metadata": {
    "collapsed": false
   },
   "outputs": [],
   "source": [
    "def writeVizFile(vizFile,samplematViz):\n",
    "    outFile = open(vizFile,'w')\n",
    "    for i in samplematViz:\n",
    "        temp = '%s,%s,%s\\n'%(i[0],i[1],i[2])\n",
    "        outFile.write(temp)\n",
    "    outFile.close()"
   ]
  },
  {
   "cell_type": "code",
   "execution_count": null,
   "metadata": {
    "collapsed": false
   },
   "outputs": [],
   "source": [
    " colors = ['#FFC0CB', '#FFB6C1', '#FF69B4', '#FF1493', '#DB7093', '#C71585', '#FFA07A', '#FA8072', '#E9967A', '#F08080', '#CD5C5C', '#DC143C', '#B22222',\n",
    "    '#8B0000', '#FF0000', '#FF4500', '#FF6347', '#FF7F50', '#FF8C00', '#FFA500', '#FFFF00', '#FFFFE0', '#FFFACD', '#FAFAD2', '#FFEFD5', '#FFE4B5',\n",
    "    '#FFDAB9', '#EEE8AA', '#F0E68C', '#BDB76B', '#FFD700', '#FFF8DC', '#FFEBCD', '#FFE4C4', '#FFDEAD', '#F5DEB3', '#DEB887', '#D2B48C', '#BC8F8F',\n",
    "    '#F4A460', '#DAA520', '#B8860B', '#CD853F', '#D2691E', '#8B4513', '#A0522D', '#A52A2A', '#800000', '#556B2F', '#808000', '#6B8E23', '#9ACD32',\n",
    "    '#32CD32', '#00FF00', '#7CFC00', '#7FFF00', '#ADFF2F', '#00FF7F', '#00FA9A', '#90EE90', '#98FB98', '#8FBC8F', '#3CB371', '#2E8B57', '#228B22',\n",
    "    '#008000', '#006400', '#66CDAA', '#00FFFF', '#00FFFF', '#E0FFFF', '#AFEEEE', '#7FFFD4', '#40E0D0', '#48D1CC', '#00CED1', '#20B2AA', '#5F9EA0',\n",
    "    '#008B8B', '#008080', '#B0C4DE', '#B0E0E6', '#ADD8E6', '#87CEEB', '#87CEFA', '#00BFFF', '#1E90FF', '#6495ED', '#4682B4', '#4169E1', '#0000FF',\n",
    "    '#0000CD', '#00008B', '#000080', '#191970', '#E6E6FA', '#D8BFD8', '#DDA0DD', '#EE82EE', '#DA70D6', '#FF00FF', '#FF00FF', '#BA55D3', '#9370DB',\n",
    "    '#8A2BE2', '#9400D3', '#9932CC', '#8B008B', '#800080', '#4B0082', '#483D8B', '#6A5ACD', '#7B68EE', '#FFFFFF', '#FFFAFA', '#F0FFF0', '#F5FFFA',\n",
    "    '#F0FFFF', '#F0F8FF', '#F8F8FF', '#F5F5F5', '#FFF5EE', '#F5F5DC', '#FDF5E6', '#FFFAF0', '#FFFFF0', '#FAEBD7', '#FAF0E6', '#FFF0F5', '#FFE4E1',\n",
    "    '#DCDCDC', '#D3D3D3', '#C0C0C0', '#A9A9A9', '#808080', '#696969', '#778899', '#708090', '#2F4F4F', '#000000']\n",
    "\n",
    "pallete = dict()\n",
    "\n",
    "for i,color in enumerate(colors):\n",
    "    pallete[i] = color\n",
    "\n",
    "def pal(x,pallete):\n",
    "    return pallete[(int(x)*20 + 5 )% 100]\n",
    "\n",
    "def plotSwimLanes(swimFile,pal=pal):\n",
    "\n",
    "    df = pd.read_csv(swimFile, header=0,names=[\"window\", \"event\",'words'],error_bad_lines=True)\n",
    "    source = ColumnDataSource(\n",
    "    data=dict(\n",
    "            x=df['window'],\n",
    "            y=df['event'],\n",
    "            desc=df['words'],\n",
    "            color =  df['event'].map(lambda x: pal(x,pallete))\n",
    "        )\n",
    "    )\n",
    "\n",
    "    hover = HoverTool(\n",
    "        tooltips=[\n",
    "            (\"cluster\", \"@color:@y:@desc\")\n",
    "        ]\n",
    "    )\n",
    "\n",
    "    p = figure(tools=\"pan,wheel_zoom,box_zoom,reset,resize\",\n",
    "               title=\"swim lanes\" , x_axis_label = \"Time\",\n",
    "               y_axis_label = \"Events (sets of logLines)\")\n",
    "\n",
    "    p.add_tools(hover)\n",
    "\n",
    "    p.circle('x', 'y',color='color', size=3, source=source)\n",
    "\n",
    "    show(p)   "
   ]
  },
  {
   "cell_type": "code",
   "execution_count": null,
   "metadata": {
    "collapsed": false
   },
   "outputs": [],
   "source": [
    "patterns = './PARIS_10sec_complete.results'\n",
    "logLines = './timeId.out.gz'\n",
    "templateFile = './templates.txt'\n",
    "\n",
    "\n",
    "outFile = './windowLines.gz'\n",
    "swimOutFile = './swimlanes.gz'\n",
    "vizOutputFile = './viz.out'"
   ]
  },
  {
   "cell_type": "code",
   "execution_count": null,
   "metadata": {
    "collapsed": false
   },
   "outputs": [],
   "source": [
    "windowEvents(outFile,logLines,120)"
   ]
  },
  {
   "cell_type": "code",
   "execution_count": null,
   "metadata": {
    "collapsed": false
   },
   "outputs": [],
   "source": [
    "listSetPat,pat = readPatterns(patterns)\n"
   ]
  },
  {
   "cell_type": "code",
   "execution_count": null,
   "metadata": {
    "collapsed": false
   },
   "outputs": [],
   "source": [
    "windowListSet = makeWindowSet(outFile)"
   ]
  },
  {
   "cell_type": "code",
   "execution_count": null,
   "metadata": {
    "collapsed": false
   },
   "outputs": [],
   "source": [
    "windowedSwimLanes = makeSwimLanes(swimOutFile,windowListSet)"
   ]
  },
  {
   "cell_type": "code",
   "execution_count": null,
   "metadata": {
    "collapsed": true
   },
   "outputs": [],
   "source": [
    "templateDict = getTemplates(templateFile)"
   ]
  },
  {
   "cell_type": "code",
   "execution_count": null,
   "metadata": {
    "collapsed": false
   },
   "outputs": [],
   "source": [
    "a,w = samplemat(windowedSwimLanes,450,2000,templateDict,pat,plot=False)"
   ]
  },
  {
   "cell_type": "code",
   "execution_count": null,
   "metadata": {
    "collapsed": false
   },
   "outputs": [],
   "source": [
    "writeVizFile(vizOutputFile,w)"
   ]
  },
  {
   "cell_type": "code",
   "execution_count": null,
   "metadata": {
    "collapsed": false
   },
   "outputs": [],
   "source": [
    "plotSwimLanes(vizOutputFile)"
   ]
  },
  {
   "cell_type": "code",
   "execution_count": null,
   "metadata": {
    "collapsed": false
   },
   "outputs": [],
   "source": [
    "output_file('swimLanes.html')"
   ]
  },
  {
   "cell_type": "code",
   "execution_count": null,
   "metadata": {
    "collapsed": true
   },
   "outputs": [],
   "source": []
  }
 ],
 "metadata": {
  "kernelspec": {
   "display_name": "Python 2",
   "language": "python",
   "name": "python2"
  },
  "language_info": {
   "codemirror_mode": {
    "name": "ipython",
    "version": 2
   },
   "file_extension": ".py",
   "mimetype": "text/x-python",
   "name": "python",
   "nbconvert_exporter": "python",
   "pygments_lexer": "ipython2",
   "version": "2.7.11"
  }
 },
 "nbformat": 4,
 "nbformat_minor": 0
}
