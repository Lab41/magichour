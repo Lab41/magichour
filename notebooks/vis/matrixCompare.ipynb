{
 "cells": [
  {
   "cell_type": "code",
   "execution_count": 130,
   "metadata": {
    "collapsed": false
   },
   "outputs": [
    {
     "name": "stdout",
     "output_type": "stream",
     "text": [
      "Using matplotlib backend: MacOSX\n"
     ]
    }
   ],
   "source": [
    "from collections import defaultdict\n",
    "from collections import namedtuple\n",
    "import matplotlib.pyplot as plt\n",
    "import numpy as np\n",
    "%matplotlib\n",
    "Returns = namedtuple('Returns',['left','top','matrix','topName','leftName'])"
   ]
  },
  {
   "cell_type": "code",
   "execution_count": 212,
   "metadata": {
    "collapsed": true
   },
   "outputs": [],
   "source": [
    "left = '/Users/dgrossman/data/matrix/PARIS_10secwindows_partial_clean.txt'\n",
    "top = '/Users/dgrossman/data/matrix/tbird.log.out.logCluster.processed.10secwindows.loghound.300.out'"
   ]
  },
  {
   "cell_type": "code",
   "execution_count": 213,
   "metadata": {
    "collapsed": true
   },
   "outputs": [],
   "source": [
    "def makeMatrix(top,left,scaled=False):\n",
    "\n",
    "    topF = open(top,'r')\n",
    "    leftF = open(left,'r')\n",
    "    topList = list()\n",
    "    leftList = list()\n",
    "    \n",
    "    for i in topF.readlines():\n",
    "        topList.append(set(i.split()))\n",
    "        \n",
    "    for i in leftF.readlines():\n",
    "        leftList.append(set(i.split()))\n",
    "    \n",
    "    mat = defaultdict(int)\n",
    "    \n",
    "    print len(topList),len(leftList)\n",
    "    \n",
    "    for i in range(len(topList)):\n",
    "        for j in range(len(leftList)):\n",
    "            intersection = len(topList[i].intersection(leftList[j]))\n",
    "            intersection = topList[i].intersection(leftList[j])\n",
    "            t1 = (topList[i]).difference(intersection)\n",
    "            t2 = (leftList[j]).difference(intersection)\n",
    "            intersection = len(intersection)\n",
    "            \n",
    "            if scaled:\n",
    "                intersection = intersection / (len(t1) + len(t2)+1)\n",
    "            \n",
    "            if intersection > 0:\n",
    "                mat[(i,j)] = intersection\n",
    "    return Returns(leftList,topList,mat,top,left)\n",
    "    \n",
    "def interesting(returns,thresh):\n",
    "        out = defaultdict(int)\n",
    "        \n",
    "        for x in returns.matrix.itervalues():\n",
    "            if x > 0:\n",
    "                out[x] +=1\n",
    "        print out\n",
    "        \n",
    "        for key,value in returns.matrix.iteritems():\n",
    "            if value >= thresh:\n",
    "                intersection = returns.left[key[1]].intersection(returns.top[key[0]])\n",
    "                leftOnly = (returns.left[key[1]]).difference(intersection)\n",
    "                topOnly = (returns.top[key[0]]).difference(intersection)\n",
    "                print 'same:',len(intersection),',leftOnly:',len(leftOnly),',topOnly:',len(topOnly)\n",
    "                if len(intersection)==16:\n",
    "                    print returns.top[key[0]]\n",
    "                    print returns.left[key[1]]\n"
   ]
  },
  {
   "cell_type": "code",
   "execution_count": 214,
   "metadata": {
    "collapsed": false
   },
   "outputs": [],
   "source": [
    "def samplemat(rtrn):\n",
    "    xx = len(rtrn.top)\n",
    "    yy = len(rtrn.left)\n",
    "    aa = np.zeros((yy,xx))\n",
    "    for key,value in rtrn.matrix.iteritems():\n",
    "        aa[key[1],key[0]] = value\n",
    "    return aa"
   ]
  },
  {
   "cell_type": "code",
   "execution_count": 215,
   "metadata": {
    "collapsed": false
   },
   "outputs": [],
   "source": [
    "def plotPowerCorner(a,mat):\n",
    "    \n",
    "    b=np.sum(a,axis=0)\n",
    "    idx = b.argsort()\n",
    "    c = np.take(a,idx,axis=1)\n",
    "\n",
    "    d = np.sum(c,axis=1)\n",
    "    idx = d.argsort()\n",
    "    e = np.take(c,idx,axis=0)\n",
    "\n",
    "   \n",
    "    \n",
    "    plt.matshow(e)\n",
    "    plt.xlabel(mat.topName.split('/')[-1])\n",
    "    plt.ylabel(mat.leftName.split('/')[-1])\n",
    "    plt.show()\n"
   ]
  },
  {
   "cell_type": "code",
   "execution_count": 216,
   "metadata": {
    "collapsed": false
   },
   "outputs": [
    {
     "name": "stdout",
     "output_type": "stream",
     "text": [
      "1853 318\n"
     ]
    }
   ],
   "source": [
    "outx = makeMatrix(top,left)"
   ]
  },
  {
   "cell_type": "code",
   "execution_count": 217,
   "metadata": {
    "collapsed": false
   },
   "outputs": [
    {
     "name": "stdout",
     "output_type": "stream",
     "text": [
      "defaultdict(<type 'int'>, {1: 21234, 2: 4558, 3: 1023, 4: 391, 5: 167, 6: 63, 7: 1, 10: 8, 11: 3, 30: 5})\n",
      "same: 5 ,leftOnly: 13 ,topOnly: 0\n",
      "same: 6 ,leftOnly: 4 ,topOnly: 1\n",
      "same: 6 ,leftOnly: 4 ,topOnly: 3\n",
      "same: 6 ,leftOnly: 0 ,topOnly: 1\n",
      "same: 6 ,leftOnly: 12 ,topOnly: 0\n",
      "same: 5 ,leftOnly: 19 ,topOnly: 0\n",
      "same: 5 ,leftOnly: 1 ,topOnly: 7\n",
      "same: 5 ,leftOnly: 1 ,topOnly: 11\n",
      "same: 5 ,leftOnly: 1 ,topOnly: 6\n",
      "same: 5 ,leftOnly: 263 ,topOnly: 0\n",
      "same: 6 ,leftOnly: 0 ,topOnly: 9\n",
      "same: 5 ,leftOnly: 1 ,topOnly: 8\n",
      "same: 5 ,leftOnly: 13 ,topOnly: 0\n",
      "same: 5 ,leftOnly: 13 ,topOnly: 0\n",
      "same: 5 ,leftOnly: 1 ,topOnly: 5\n",
      "same: 10 ,leftOnly: 0 ,topOnly: 2\n",
      "same: 5 ,leftOnly: 1 ,topOnly: 7\n",
      "same: 5 ,leftOnly: 1 ,topOnly: 6\n",
      "same: 5 ,leftOnly: 13 ,topOnly: 0\n",
      "same: 5 ,leftOnly: 1 ,topOnly: 8\n",
      "same: 5 ,leftOnly: 1 ,topOnly: 8\n",
      "same: 5 ,leftOnly: 1 ,topOnly: 7\n",
      "same: 5 ,leftOnly: 13 ,topOnly: 0\n",
      "same: 5 ,leftOnly: 263 ,topOnly: 0\n",
      "same: 5 ,leftOnly: 1 ,topOnly: 1\n",
      "same: 5 ,leftOnly: 1 ,topOnly: 8\n",
      "same: 5 ,leftOnly: 1 ,topOnly: 4\n",
      "same: 5 ,leftOnly: 263 ,topOnly: 0\n",
      "same: 5 ,leftOnly: 1 ,topOnly: 9\n",
      "same: 5 ,leftOnly: 1 ,topOnly: 3\n",
      "same: 5 ,leftOnly: 13 ,topOnly: 0\n",
      "same: 6 ,leftOnly: 0 ,topOnly: 9\n",
      "same: 5 ,leftOnly: 1 ,topOnly: 3\n",
      "same: 5 ,leftOnly: 1 ,topOnly: 9\n",
      "same: 5 ,leftOnly: 1 ,topOnly: 9\n",
      "same: 11 ,leftOnly: 13 ,topOnly: 0\n",
      "same: 5 ,leftOnly: 1 ,topOnly: 3\n",
      "same: 5 ,leftOnly: 1 ,topOnly: 7\n",
      "same: 5 ,leftOnly: 1 ,topOnly: 8\n",
      "same: 6 ,leftOnly: 0 ,topOnly: 9\n",
      "same: 5 ,leftOnly: 263 ,topOnly: 0\n",
      "same: 5 ,leftOnly: 1 ,topOnly: 3\n",
      "same: 6 ,leftOnly: 0 ,topOnly: 10\n",
      "same: 5 ,leftOnly: 1 ,topOnly: 8\n",
      "same: 5 ,leftOnly: 3 ,topOnly: 0\n",
      "same: 6 ,leftOnly: 0 ,topOnly: 2\n",
      "same: 6 ,leftOnly: 0 ,topOnly: 1\n",
      "same: 6 ,leftOnly: 12 ,topOnly: 0\n",
      "same: 5 ,leftOnly: 263 ,topOnly: 0\n",
      "same: 5 ,leftOnly: 263 ,topOnly: 0\n",
      "same: 5 ,leftOnly: 13 ,topOnly: 0\n",
      "same: 5 ,leftOnly: 2 ,topOnly: 1\n",
      "same: 6 ,leftOnly: 12 ,topOnly: 0\n",
      "same: 6 ,leftOnly: 262 ,topOnly: 0\n",
      "same: 6 ,leftOnly: 0 ,topOnly: 10\n",
      "same: 5 ,leftOnly: 263 ,topOnly: 0\n",
      "same: 10 ,leftOnly: 0 ,topOnly: 2\n",
      "same: 5 ,leftOnly: 263 ,topOnly: 0\n",
      "same: 5 ,leftOnly: 13 ,topOnly: 0\n",
      "same: 5 ,leftOnly: 1 ,topOnly: 8\n",
      "same: 6 ,leftOnly: 18 ,topOnly: 0\n",
      "same: 6 ,leftOnly: 0 ,topOnly: 9\n",
      "same: 5 ,leftOnly: 1 ,topOnly: 9\n",
      "same: 5 ,leftOnly: 1 ,topOnly: 9\n",
      "same: 6 ,leftOnly: 0 ,topOnly: 9\n",
      "same: 5 ,leftOnly: 1 ,topOnly: 9\n",
      "same: 5 ,leftOnly: 22 ,topOnly: 7\n",
      "same: 5 ,leftOnly: 1 ,topOnly: 3\n",
      "same: 5 ,leftOnly: 2 ,topOnly: 0\n",
      "same: 5 ,leftOnly: 13 ,topOnly: 0\n",
      "same: 5 ,leftOnly: 1 ,topOnly: 30\n",
      "same: 5 ,leftOnly: 1 ,topOnly: 6\n",
      "same: 5 ,leftOnly: 1 ,topOnly: 7\n",
      "same: 5 ,leftOnly: 1 ,topOnly: 6\n",
      "same: 5 ,leftOnly: 1 ,topOnly: 8\n",
      "same: 6 ,leftOnly: 262 ,topOnly: 0\n",
      "same: 5 ,leftOnly: 263 ,topOnly: 0\n",
      "same: 5 ,leftOnly: 1 ,topOnly: 8\n",
      "same: 5 ,leftOnly: 1 ,topOnly: 10\n",
      "same: 5 ,leftOnly: 13 ,topOnly: 0\n",
      "same: 5 ,leftOnly: 3 ,topOnly: 0\n",
      "same: 5 ,leftOnly: 13 ,topOnly: 0\n",
      "same: 6 ,leftOnly: 0 ,topOnly: 7\n",
      "same: 6 ,leftOnly: 0 ,topOnly: 8\n",
      "same: 6 ,leftOnly: 262 ,topOnly: 0\n",
      "same: 5 ,leftOnly: 1 ,topOnly: 3\n",
      "same: 10 ,leftOnly: 0 ,topOnly: 2\n",
      "same: 5 ,leftOnly: 263 ,topOnly: 0\n",
      "same: 5 ,leftOnly: 1 ,topOnly: 3\n",
      "same: 30 ,leftOnly: 0 ,topOnly: 5\n",
      "same: 5 ,leftOnly: 13 ,topOnly: 0\n",
      "same: 6 ,leftOnly: 0 ,topOnly: 8\n",
      "same: 5 ,leftOnly: 1 ,topOnly: 5\n",
      "same: 5 ,leftOnly: 13 ,topOnly: 0\n",
      "same: 6 ,leftOnly: 12 ,topOnly: 0\n",
      "same: 5 ,leftOnly: 263 ,topOnly: 0\n",
      "same: 11 ,leftOnly: 3 ,topOnly: 0\n",
      "same: 5 ,leftOnly: 1 ,topOnly: 8\n",
      "same: 5 ,leftOnly: 263 ,topOnly: 0\n",
      "same: 6 ,leftOnly: 0 ,topOnly: 4\n",
      "same: 5 ,leftOnly: 1 ,topOnly: 7\n",
      "same: 6 ,leftOnly: 12 ,topOnly: 0\n",
      "same: 5 ,leftOnly: 1 ,topOnly: 8\n",
      "same: 5 ,leftOnly: 263 ,topOnly: 0\n",
      "same: 5 ,leftOnly: 22 ,topOnly: 7\n",
      "same: 6 ,leftOnly: 0 ,topOnly: 9\n",
      "same: 5 ,leftOnly: 263 ,topOnly: 0\n",
      "same: 5 ,leftOnly: 1 ,topOnly: 8\n",
      "same: 5 ,leftOnly: 1 ,topOnly: 8\n",
      "same: 5 ,leftOnly: 22 ,topOnly: 7\n",
      "same: 5 ,leftOnly: 1 ,topOnly: 8\n",
      "same: 6 ,leftOnly: 0 ,topOnly: 7\n",
      "same: 10 ,leftOnly: 0 ,topOnly: 2\n",
      "same: 5 ,leftOnly: 263 ,topOnly: 0\n",
      "same: 6 ,leftOnly: 4 ,topOnly: 2\n",
      "same: 5 ,leftOnly: 1 ,topOnly: 7\n",
      "same: 5 ,leftOnly: 3 ,topOnly: 0\n",
      "same: 6 ,leftOnly: 0 ,topOnly: 7\n",
      "same: 5 ,leftOnly: 263 ,topOnly: 0\n",
      "same: 5 ,leftOnly: 263 ,topOnly: 0\n",
      "same: 5 ,leftOnly: 263 ,topOnly: 0\n",
      "same: 10 ,leftOnly: 0 ,topOnly: 1\n",
      "same: 5 ,leftOnly: 13 ,topOnly: 0\n",
      "same: 5 ,leftOnly: 1 ,topOnly: 9\n",
      "same: 5 ,leftOnly: 263 ,topOnly: 0\n",
      "same: 5 ,leftOnly: 1 ,topOnly: 6\n",
      "same: 5 ,leftOnly: 3 ,topOnly: 0\n",
      "same: 5 ,leftOnly: 263 ,topOnly: 0\n",
      "same: 6 ,leftOnly: 0 ,topOnly: 10\n",
      "same: 5 ,leftOnly: 13 ,topOnly: 0\n",
      "same: 5 ,leftOnly: 263 ,topOnly: 0\n",
      "same: 5 ,leftOnly: 1 ,topOnly: 9\n",
      "same: 6 ,leftOnly: 12 ,topOnly: 0\n",
      "same: 5 ,leftOnly: 3 ,topOnly: 0\n",
      "same: 5 ,leftOnly: 1 ,topOnly: 5\n",
      "same: 5 ,leftOnly: 263 ,topOnly: 0\n",
      "same: 5 ,leftOnly: 22 ,topOnly: 7\n",
      "same: 5 ,leftOnly: 1 ,topOnly: 8\n",
      "same: 30 ,leftOnly: 0 ,topOnly: 1\n",
      "same: 5 ,leftOnly: 1 ,topOnly: 8\n",
      "same: 5 ,leftOnly: 1 ,topOnly: 7\n",
      "same: 5 ,leftOnly: 22 ,topOnly: 7\n",
      "same: 5 ,leftOnly: 13 ,topOnly: 0\n",
      "same: 5 ,leftOnly: 1 ,topOnly: 2\n",
      "same: 5 ,leftOnly: 263 ,topOnly: 0\n",
      "same: 6 ,leftOnly: 12 ,topOnly: 0\n",
      "same: 5 ,leftOnly: 263 ,topOnly: 0\n",
      "same: 6 ,leftOnly: 2 ,topOnly: 0\n",
      "same: 6 ,leftOnly: 0 ,topOnly: 1\n",
      "same: 5 ,leftOnly: 1 ,topOnly: 8\n",
      "same: 5 ,leftOnly: 1 ,topOnly: 8\n",
      "same: 5 ,leftOnly: 1 ,topOnly: 4\n",
      "same: 5 ,leftOnly: 1 ,topOnly: 5\n",
      "same: 5 ,leftOnly: 1 ,topOnly: 8\n",
      "same: 5 ,leftOnly: 13 ,topOnly: 0\n",
      "same: 5 ,leftOnly: 1 ,topOnly: 4\n",
      "same: 6 ,leftOnly: 0 ,topOnly: 10\n",
      "same: 6 ,leftOnly: 0 ,topOnly: 10\n",
      "same: 6 ,leftOnly: 4 ,topOnly: 3\n",
      "same: 6 ,leftOnly: 4 ,topOnly: 3\n",
      "same: 5 ,leftOnly: 263 ,topOnly: 0\n",
      "same: 5 ,leftOnly: 263 ,topOnly: 0\n",
      "same: 5 ,leftOnly: 1 ,topOnly: 8\n",
      "same: 5 ,leftOnly: 1 ,topOnly: 9\n",
      "same: 30 ,leftOnly: 0 ,topOnly: 2\n",
      "same: 5 ,leftOnly: 1 ,topOnly: 6\n",
      "same: 5 ,leftOnly: 1 ,topOnly: 7\n",
      "same: 6 ,leftOnly: 0 ,topOnly: 10\n",
      "same: 6 ,leftOnly: 4 ,topOnly: 2\n",
      "same: 6 ,leftOnly: 0 ,topOnly: 5\n",
      "same: 6 ,leftOnly: 12 ,topOnly: 0\n",
      "same: 5 ,leftOnly: 13 ,topOnly: 0\n",
      "same: 7 ,leftOnly: 0 ,topOnly: 0\n",
      "same: 6 ,leftOnly: 262 ,topOnly: 0\n",
      "same: 5 ,leftOnly: 263 ,topOnly: 0\n",
      "same: 6 ,leftOnly: 0 ,topOnly: 9\n",
      "same: 5 ,leftOnly: 263 ,topOnly: 0\n",
      "same: 5 ,leftOnly: 1 ,topOnly: 1\n",
      "same: 5 ,leftOnly: 1 ,topOnly: 5\n",
      "same: 5 ,leftOnly: 3 ,topOnly: 0\n",
      "same: 6 ,leftOnly: 262 ,topOnly: 0\n",
      "same: 5 ,leftOnly: 1 ,topOnly: 7\n",
      "same: 5 ,leftOnly: 1 ,topOnly: 3\n",
      "same: 5 ,leftOnly: 13 ,topOnly: 0\n",
      "same: 5 ,leftOnly: 1 ,topOnly: 8\n",
      "same: 5 ,leftOnly: 263 ,topOnly: 0\n",
      "same: 6 ,leftOnly: 0 ,topOnly: 7\n",
      "same: 5 ,leftOnly: 13 ,topOnly: 0\n",
      "same: 5 ,leftOnly: 1 ,topOnly: 2\n",
      "same: 5 ,leftOnly: 263 ,topOnly: 0\n",
      "same: 5 ,leftOnly: 1 ,topOnly: 4\n",
      "same: 5 ,leftOnly: 1 ,topOnly: 9\n",
      "same: 6 ,leftOnly: 12 ,topOnly: 0\n",
      "same: 5 ,leftOnly: 263 ,topOnly: 0\n",
      "same: 6 ,leftOnly: 0 ,topOnly: 8\n",
      "same: 5 ,leftOnly: 1 ,topOnly: 1\n",
      "same: 5 ,leftOnly: 1 ,topOnly: 5\n",
      "same: 5 ,leftOnly: 1 ,topOnly: 8\n",
      "same: 6 ,leftOnly: 0 ,topOnly: 8\n",
      "same: 5 ,leftOnly: 3 ,topOnly: 0\n",
      "same: 30 ,leftOnly: 0 ,topOnly: 2\n",
      "same: 5 ,leftOnly: 1 ,topOnly: 5\n",
      "same: 10 ,leftOnly: 14 ,topOnly: 0\n",
      "same: 5 ,leftOnly: 1 ,topOnly: 1\n",
      "same: 5 ,leftOnly: 13 ,topOnly: 0\n",
      "same: 6 ,leftOnly: 2 ,topOnly: 0\n",
      "same: 5 ,leftOnly: 22 ,topOnly: 7\n",
      "same: 5 ,leftOnly: 13 ,topOnly: 0\n",
      "same: 5 ,leftOnly: 1 ,topOnly: 9\n",
      "same: 6 ,leftOnly: 262 ,topOnly: 0\n",
      "same: 5 ,leftOnly: 263 ,topOnly: 0\n",
      "same: 5 ,leftOnly: 13 ,topOnly: 0\n",
      "same: 6 ,leftOnly: 0 ,topOnly: 10\n",
      "same: 5 ,leftOnly: 1 ,topOnly: 8\n",
      "same: 6 ,leftOnly: 0 ,topOnly: 8\n",
      "same: 11 ,leftOnly: 7 ,topOnly: 0\n",
      "same: 6 ,leftOnly: 0 ,topOnly: 9\n",
      "same: 5 ,leftOnly: 1 ,topOnly: 8\n",
      "same: 5 ,leftOnly: 1 ,topOnly: 8\n",
      "same: 5 ,leftOnly: 263 ,topOnly: 0\n",
      "same: 5 ,leftOnly: 1 ,topOnly: 6\n",
      "same: 6 ,leftOnly: 2 ,topOnly: 0\n",
      "same: 5 ,leftOnly: 263 ,topOnly: 0\n",
      "same: 6 ,leftOnly: 0 ,topOnly: 8\n",
      "same: 5 ,leftOnly: 1 ,topOnly: 3\n",
      "same: 6 ,leftOnly: 0 ,topOnly: 1\n",
      "same: 5 ,leftOnly: 13 ,topOnly: 0\n",
      "same: 5 ,leftOnly: 1 ,topOnly: 9\n",
      "same: 6 ,leftOnly: 0 ,topOnly: 10\n",
      "same: 5 ,leftOnly: 3 ,topOnly: 0\n",
      "same: 5 ,leftOnly: 1 ,topOnly: 8\n",
      "same: 5 ,leftOnly: 22 ,topOnly: 6\n",
      "same: 5 ,leftOnly: 1 ,topOnly: 9\n",
      "same: 10 ,leftOnly: 0 ,topOnly: 2\n",
      "same: 6 ,leftOnly: 0 ,topOnly: 9\n",
      "same: 10 ,leftOnly: 0 ,topOnly: 2\n",
      "same: 30 ,leftOnly: 0 ,topOnly: 3\n",
      "same: 5 ,leftOnly: 13 ,topOnly: 0\n",
      "same: 5 ,leftOnly: 1 ,topOnly: 9\n",
      "same: 5 ,leftOnly: 263 ,topOnly: 0\n",
      "same: 6 ,leftOnly: 0 ,topOnly: 9\n",
      "same: 6 ,leftOnly: 0 ,topOnly: 1\n",
      "same: 5 ,leftOnly: 1 ,topOnly: 5\n",
      "same: 5 ,leftOnly: 1 ,topOnly: 6\n",
      "same: 6 ,leftOnly: 262 ,topOnly: 0\n",
      "same: 5 ,leftOnly: 1 ,topOnly: 9\n",
      "same: 6 ,leftOnly: 262 ,topOnly: 0\n"
     ]
    }
   ],
   "source": [
    "interesting(outx,5)"
   ]
  },
  {
   "cell_type": "code",
   "execution_count": 218,
   "metadata": {
    "collapsed": false
   },
   "outputs": [],
   "source": [
    "a = samplemat(outx)\n",
    "b=a*1000"
   ]
  },
  {
   "cell_type": "code",
   "execution_count": 219,
   "metadata": {
    "collapsed": false
   },
   "outputs": [],
   "source": [
    "plotPowerCorner(b,outx)"
   ]
  },
  {
   "cell_type": "code",
   "execution_count": 195,
   "metadata": {
    "collapsed": false
   },
   "outputs": [
    {
     "data": {
      "text/plain": [
       "69"
      ]
     },
     "execution_count": 195,
     "metadata": {},
     "output_type": "execute_result"
    }
   ],
   "source": [
    "len(top)"
   ]
  },
  {
   "cell_type": "code",
   "execution_count": 170,
   "metadata": {
    "collapsed": false
   },
   "outputs": [
    {
     "data": {
      "text/plain": [
       "69"
      ]
     },
     "execution_count": 170,
     "metadata": {},
     "output_type": "execute_result"
    }
   ],
   "source": [
    "len(left)"
   ]
  },
  {
   "cell_type": "code",
   "execution_count": 149,
   "metadata": {
    "collapsed": false
   },
   "outputs": [
    {
     "data": {
      "text/plain": [
       "80"
      ]
     },
     "execution_count": 149,
     "metadata": {},
     "output_type": "execute_result"
    }
   ],
   "source": [
    "len(outx.left)"
   ]
  },
  {
   "cell_type": "code",
   "execution_count": 150,
   "metadata": {
    "collapsed": false
   },
   "outputs": [
    {
     "data": {
      "text/plain": [
       "318"
      ]
     },
     "execution_count": 150,
     "metadata": {},
     "output_type": "execute_result"
    }
   ],
   "source": [
    "len(outx.top)"
   ]
  },
  {
   "cell_type": "code",
   "execution_count": null,
   "metadata": {
    "collapsed": true
   },
   "outputs": [],
   "source": []
  }
 ],
 "metadata": {
  "kernelspec": {
   "display_name": "Python 2",
   "language": "python",
   "name": "python2"
  },
  "language_info": {
   "codemirror_mode": {
    "name": "ipython",
    "version": 2
   },
   "file_extension": ".py",
   "mimetype": "text/x-python",
   "name": "python",
   "nbconvert_exporter": "python",
   "pygments_lexer": "ipython2",
   "version": "2.7.11"
  }
 },
 "nbformat": 4,
 "nbformat_minor": 0
}
