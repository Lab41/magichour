{
 "cells": [
  {
   "cell_type": "code",
   "execution_count": null,
   "metadata": {
    "collapsed": false
   },
   "outputs": [],
   "source": [
    "logs = sc.textFile(\"hdfs://namenode/datasets/magichour/tbird.log.gz\").repartition(30)\n",
    "simpleTransformations = sc.textFile(\"hdfs://namenode/magichour/simpleTrans\")"
   ]
  },
  {
   "cell_type": "code",
   "execution_count": null,
   "metadata": {
    "collapsed": false
   },
   "outputs": [],
   "source": [
    "#logs.count()\n",
    "#simpleTransformations.count()"
   ]
  },
  {
   "cell_type": "code",
   "execution_count": null,
   "metadata": {
    "collapsed": false
   },
   "outputs": [],
   "source": [
    "from collections import namedtuple\n",
    "import re\n",
    "\n",
    "TransformLine = namedtuple('TransformLine',['id','type','NAME','transform','compiled'])\n",
    "LogLine = namedtuple('LogLine', ['ts','msg','processed','dictionary','supportId'])\n",
    "\n",
    "def get_Transforms(line):\n",
    "    if line.lstrip()[0] != '#':\n",
    "        l = line.lstrip().rstrip().split(',', 3)  #id,type,name,transform\n",
    "        return TransformLine(int(l[0]),l[1],l[2],l[3],re.compile(l[3]))\n",
    "    else:\n",
    "        return TransformLine('COMMENT','COMMENT','COMMENT','COMMENT','COMMENT')\n",
    "\n",
    "logTransforms = simpleTransformations.map(get_Transforms).cache()\n",
    "#logTransformList = sc.broadcast(list(simpleTransformations))\n",
    "\n"
   ]
  },
  {
   "cell_type": "code",
   "execution_count": null,
   "metadata": {
    "collapsed": false
   },
   "outputs": [],
   "source": [
    "# logTransforms.take(5)"
   ]
  },
  {
   "cell_type": "code",
   "execution_count": null,
   "metadata": {
    "collapsed": false
   },
   "outputs": [],
   "source": [
    "a = logTransforms.collect()\n",
    "lTrans = list()\n",
    "\n",
    "for l in a:\n",
    "    if l.id != 'COMMENT':\n",
    "        lTrans.append(l)\n",
    "        \n",
    "logTrans= sc.broadcast(lTrans)"
   ]
  },
  {
   "cell_type": "code",
   "execution_count": null,
   "metadata": {
    "collapsed": true
   },
   "outputs": [],
   "source": []
  },
  {
   "cell_type": "raw",
   "metadata": {
    "collapsed": true
   },
   "source": [
    "def makeTransformedLine(l):\n",
    "    '''\n",
    "    apply a list of regex replacements to a line, make note of\n",
    "    all the remplacements peformed in a dictionary(list)\n",
    "\n",
    "    Args:\n",
    "        l(LogLine): logline to work on\n",
    "        transforms(list(TransformLine)): replacemnts to make with\n",
    "\n",
    "    Returns:\n",
    "        retval(LogLine): logline with the processed, and dictionary portions\n",
    "                         filled in\n",
    "    '''\n",
    "    \n",
    "    \n",
    "    text = l.msg.strip()\n",
    "    replaceDict = dict()\n",
    "    # logTrans is broadcast\n",
    "    for t in logTrans.value:\n",
    "        if t.type == 'REPLACE':\n",
    "            replaceList = t.compiled.findall(text)\n",
    "            if replaceList:\n",
    "                replaceDict[t.NAME] = replaceList\n",
    "            text = t.compiled.sub(t.NAME, text, 0)\n",
    "\n",
    "        if t.type == 'REPLACELIST':\n",
    "            print 'REPLACELIST not implemented yet'\n",
    "\n",
    "    processed = ' '.join(text.split())\n",
    "    retVal = LogLine(l.ts, l.msg.lstrip().rstrip(),\n",
    "                     processed.lstrip().rstrip(), replaceDict, None)\n",
    "\n",
    "    return retVal\n",
    "\n"
   ]
  },
  {
   "cell_type": "code",
   "execution_count": null,
   "metadata": {
    "collapsed": false
   },
   "outputs": [],
   "source": [
    "potato = tsLine.map(makeTransformedLine)"
   ]
  },
  {
   "cell_type": "code",
   "execution_count": null,
   "metadata": {
    "collapsed": false
   },
   "outputs": [],
   "source": [
    "potato.take(100)"
   ]
  },
  {
   "cell_type": "code",
   "execution_count": null,
   "metadata": {
    "collapsed": true
   },
   "outputs": [],
   "source": [
    "potato.count()"
   ]
  },
  {
   "cell_type": "code",
   "execution_count": null,
   "metadata": {
    "collapsed": true
   },
   "outputs": [],
   "source": [
    "from collections import namedtuple\n",
    "import re\n",
    "\n",
    "TransformLine = namedtuple('TransformLine',\n",
    "                           ['id', 'type', 'NAME', 'transform', 'compiled'])\n",
    "\n",
    "LogLine = namedtuple('LogLine', ['ts', 'msg',\n",
    "                                 'processed', 'dictionary', 'supportId'])\n",
    "\n",
    "\n",
    "def rdd_TransformLine(line):\n",
    "    '''\n",
    "    process transformations into RDD format\n",
    "\n",
    "    Args:\n",
    "        line(string): line from the transform defintion file.\n",
    "                      lines beginning with # are considered comments\n",
    "                      and will need to be removed\n",
    "    Returns:\n",
    "        retval(TransformLine): namedTuple representation of the tasking\n",
    "    '''\n",
    "\n",
    "    if line.lstrip()[0] != '#':\n",
    "        # id,type,name,transform\n",
    "        l = line.lstrip().rstrip().split(',', 3)\n",
    "        return TransformLine(int(l[0]), l[1], l[2], l[3], re.compile(l[3]))\n",
    "    else:\n",
    "        return TransformLine('COMMENT',\n",
    "                             'COMMENT',\n",
    "                             'COMMENT',\n",
    "                             'COMMENT',\n",
    "                             'COMMENT')\n",
    "\n",
    "\n",
    "def rdd_LogLine(line):\n",
    "    '''\n",
    "    process a log line into a RDD\n",
    "\n",
    "    Args:\n",
    "        line(string): string from the logline\n",
    "\n",
    "    Returns:\n",
    "        retval(LogLine): fills in the first two portions of the LogLine\n",
    "                         namedtuple\n",
    "    '''\n",
    "\n",
    "    # depends on tbird log structure\n",
    "    l = line.strip().rstrip().split(' ', 3)\n",
    "    return LogLine(float(l[2]), l[3], None, None, None)\n",
    "\n",
    "\n",
    "def lineRegexReplacement(line):\n",
    "    '''\n",
    "    apply a list of regex replacements to a line, make note of\n",
    "    all the remplacements peformed in a dictionary(list)\n",
    "\n",
    "    Args:\n",
    "        line(LogLine): logline to work on\n",
    "\n",
    "    Globals:\n",
    "        transforms(RDD(TransformLine)): replacemnts to make with\n",
    "\n",
    "    Returns:\n",
    "        retval(LogLine): logline with the processed, and dictionary portions\n",
    "                         filled in\n",
    "    '''\n",
    "    global logTrans\n",
    "    text = line.msg.strip()\n",
    "    replaceDict = dict()\n",
    "\n",
    "    # logTrans is broadcast\n",
    "    for t in logTrans.value:\n",
    "        if t.type == 'REPLACE':\n",
    "            replaceList = t.compiled.findall(text)\n",
    "            if replaceList:\n",
    "                replaceDict[t.NAME] = replaceList\n",
    "            text = t.compiled.sub(t.NAME, text, 0)\n",
    "\n",
    "        if t.type == 'REPLACELIST':\n",
    "            print 'REPLACELIST not implemented yet'\n",
    "\n",
    "    processed = ' '.join(text.split())\n",
    "    retVal = LogLine(line.ts, line.msg.lstrip().rstrip(),\n",
    "                     processed.lstrip().rstrip(), replaceDict, None)\n",
    "\n",
    "    return retVal\n",
    "\n",
    "\n",
    "def readTransforms(transFile):\n",
    "\n",
    "    # map the transFile\n",
    "    simpleTransformations = sc.textFile(transFile)\n",
    "\n",
    "    # parse loglines\n",
    "    return simpleTransformations.map(rdd_TransformLine).cache()\n",
    "\n",
    "   \n",
    "\n",
    "def doPreProcess(logFile, transFile, partitions):\n",
    "    '''\n",
    "        take a series of loglines and pre-process the lines\n",
    "        replace ipaddresses, directories, urls, etc with constants\n",
    "        keep a dictionary of the replacements done to the line\n",
    "\n",
    "        Args:\n",
    "            logFile(string): location of the log data in HDFS\n",
    "            transFile(string): location of the replacement regex in HDFS\n",
    "            partitions(int): number of partitions to apply to the logFile\n",
    "\n",
    "        Returns:\n",
    "            retval(RDD(LogLines)): preprocessed log lines ready for next\n",
    "                                   stage of processing\n",
    "   '''\n",
    "\n",
    "    # read the logs\n",
    "    logs = sc.textFile(logFile).repartition(partitions)\n",
    "\n",
    "    # read the transforms, removing comments\n",
    "    logTransforms = readTransforms(transFile)\n",
    "\n",
    "    trans = logTransforms.collect()\n",
    "    lTrans = list()\n",
    "\n",
    "    for t in trans:\n",
    "        if t.id != 'COMMENT':\n",
    "            lTrans.append(t)\n",
    "\n",
    "    logTrans = sc.broadcast(lTrans)\n",
    "\n",
    "    \n",
    "    tsLine = logs.map(rdd_LogLine)\n",
    "    return tsLine.map(lineRegexReplacement)\n",
    "\n",
    "\n",
    "\n",
    "\n",
    "\n"
   ]
  },
  {
   "cell_type": "code",
   "execution_count": null,
   "metadata": {
    "collapsed": true
   },
   "outputs": [],
   "source": [
    "logs = 'hdfs://namenode/datasets/magichour/tbird.log.gz'\n",
    "logs = 'hdfs://namenode/user/dgrossman/tbird.log.10000.gz'\n",
    "trans = 'hdfs://namenode/magichour/simpleTrans'\n"
   ]
  },
  {
   "cell_type": "code",
   "execution_count": null,
   "metadata": {
    "collapsed": false
   },
   "outputs": [],
   "source": [
    "out = doPreProcess(logs,trans,1)"
   ]
  },
  {
   "cell_type": "code",
   "execution_count": null,
   "metadata": {
    "collapsed": false
   },
   "outputs": [],
   "source": [
    "out.take(100)"
   ]
  },
  {
   "cell_type": "code",
   "execution_count": null,
   "metadata": {
    "collapsed": true
   },
   "outputs": [],
   "source": []
  }
 ],
 "metadata": {
  "kernelspec": {
   "display_name": "Python 2",
   "language": "python",
   "name": "python2"
  },
  "language_info": {
   "codemirror_mode": {
    "name": "ipython",
    "version": 2
   },
   "file_extension": ".py",
   "mimetype": "text/x-python",
   "name": "python",
   "nbconvert_exporter": "python",
   "pygments_lexer": "ipython2",
   "version": "2.7.11"
  }
 },
 "nbformat": 4,
 "nbformat_minor": 0
}
