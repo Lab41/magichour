{
 "cells": [
  {
   "cell_type": "code",
   "execution_count": 177,
   "metadata": {
    "collapsed": false
   },
   "outputs": [],
   "source": [
    "from nltk.tokenize import RegexpTokenizer\n",
    "from nltk.stem.porter import PorterStemmer\n",
    "from gensim import corpora, models\n",
    "import gensim\n",
    "from collections import namedtuple\n",
    "\n",
    "Entry = namedtuple('Entry',['value','cluster'])"
   ]
  },
  {
   "cell_type": "code",
   "execution_count": 85,
   "metadata": {
    "collapsed": false
   },
   "outputs": [],
   "source": [
    "files =  listdir('./')"
   ]
  },
  {
   "cell_type": "code",
   "execution_count": 86,
   "metadata": {
    "collapsed": false
   },
   "outputs": [],
   "source": [
    "filelist = list()\n",
    "for f in files:\n",
    "    if f.endswith('.out'):\n",
    "        filelist.append(f)"
   ]
  },
  {
   "cell_type": "code",
   "execution_count": 87,
   "metadata": {
    "collapsed": false
   },
   "outputs": [
    {
     "data": {
      "text/plain": [
       "['tbirdOverlap1131523501-1131541501.out',\n",
       " 'tbirdOverlap1131532501-1131550501.out',\n",
       " 'tbirdOverlap1131541501-1131559501.out',\n",
       " 'tbirdOverlap1131550501-1131568501.out',\n",
       " 'tbirdOverlap1131559501-1131577501.out',\n",
       " 'tbirdOverlap1131568501-1131586501.out',\n",
       " 'tbirdOverlap1131577501-1131595501.out',\n",
       " 'tbirdOverlap1131586501-1131604501.out',\n",
       " 'tbirdOverlap1131595501-1131613501.out',\n",
       " 'tbirdOverlap1131604501-1131622501.out',\n",
       " 'tbirdOverlap1131613501-1131631501.out',\n",
       " 'tbirdOverlap1131622501-1131640501.out',\n",
       " 'tbirdOverlap1131631501-1131649501.out',\n",
       " 'tbirdOverlap1131640501-1131658501.out',\n",
       " 'tbirdOverlap1131649501-1131667501.out',\n",
       " 'tbirdOverlap1131658501-1131676501.out',\n",
       " 'tbirdOverlap1131667501-1131685501.out',\n",
       " 'tbirdOverlap1131676501-1131694501.out',\n",
       " 'tbirdOverlap1131685501-1131703501.out',\n",
       " 'tbirdOverlap1131694501-1131712501.out']"
      ]
     },
     "execution_count": 87,
     "metadata": {},
     "output_type": "execute_result"
    }
   ],
   "source": [
    "filelist"
   ]
  },
  {
   "cell_type": "code",
   "execution_count": 88,
   "metadata": {
    "collapsed": false
   },
   "outputs": [],
   "source": [
    "documents = dict()\n",
    "for f in filelist:\n",
    "    a = open(f,'r')\n",
    "    words = \"\"\n",
    "    for w in a.readlines():\n",
    "        words += w.lstrip().strip()\n",
    "        words += ' '\n",
    "    a.close()\n",
    "    documents[f] = words.strip()"
   ]
  },
  {
   "cell_type": "code",
   "execution_count": 89,
   "metadata": {
    "collapsed": false
   },
   "outputs": [],
   "source": [
    "doc_set = list()\n",
    "for d in documents.itervalues():\n",
    "    doc_set.append(d)\n"
   ]
  },
  {
   "cell_type": "code",
   "execution_count": 90,
   "metadata": {
    "collapsed": true
   },
   "outputs": [],
   "source": [
    "texts = []\n",
    "for d in doc_set:\n",
    "    tokens = tokenizer.tokenize(d)\n",
    "    texts.append(tokens)"
   ]
  },
  {
   "cell_type": "code",
   "execution_count": 91,
   "metadata": {
    "collapsed": false
   },
   "outputs": [],
   "source": [
    "\n",
    "dictionary = corpora.Dictionary(texts)"
   ]
  },
  {
   "cell_type": "code",
   "execution_count": 92,
   "metadata": {
    "collapsed": false
   },
   "outputs": [],
   "source": [
    "corpus = [dictionary.doc2bow(text) for text in texts]"
   ]
  },
  {
   "cell_type": "code",
   "execution_count": 103,
   "metadata": {
    "collapsed": false
   },
   "outputs": [],
   "source": [
    "ldamodel = gensim.models.ldamodel.LdaModel(corpus, num_topics=5, id2word = dictionary, passes=200)"
   ]
  },
  {
   "cell_type": "code",
   "execution_count": 202,
   "metadata": {
    "collapsed": false
   },
   "outputs": [],
   "source": [
    "outData = list()\n",
    "for x in(ldamodel.print_topics(num_topics=5, num_words=40)):\n",
    "    parts =  x[1].split('+')\n",
    "    sum = 0\n",
    "    lines = list()\n",
    "    empty = True\n",
    "    # print x\n",
    "    for p in parts:\n",
    "        val,cluster = p.lstrip().strip().split('*')\n",
    "        # print val,cluster\n",
    "        \n",
    "        if (sum + float(val) < .8) or empty:\n",
    "            sum += float(val)\n",
    "            # print 'adding:',cluster\n",
    "            empty = False\n",
    "            lines.append(Entry(float(val),int(cluster)))\n",
    "    #print sum,lines\n",
    "    #print\n",
    "    outData.append((sum,lines))\n",
    "            "
   ]
  },
  {
   "cell_type": "code",
   "execution_count": 173,
   "metadata": {
    "collapsed": false
   },
   "outputs": [],
   "source": [
    "import re\n",
    "templateFile = '/Users/dgrossman/data/tbird.Clusters'\n",
    "tf = open(templateFile,'r').readlines()\n",
    "templateList = list()\n",
    "for t in tf:\n",
    "    # print t.strip()\n",
    "    unescaped= re.sub(r'[\\^]','',re.sub(r'[\\\\]', '', t)).strip()\n",
    "    templateList.append(unescaped)\n"
   ]
  },
  {
   "cell_type": "code",
   "execution_count": 223,
   "metadata": {
    "collapsed": false
   },
   "outputs": [
    {
     "name": "stdout",
     "output_type": "stream",
     "text": [
      "topic=0|count=14|energy=0.798000\n",
      "\t    1| 0.1860| tbird admin INT FILEPATH rrd_update FILEPATH FILEPATH illegal attempt to update using time INT when last update time is INT minimum one second step\n",
      "\t  114| 0.0800| dn INT ntpd INT synchronized to IPADDR stratum INT\n",
      "\t  115| 0.0670| cn INT ntpd INT synchronized to IPADDR stratum INT\n",
      "\t   12| 0.0570| tbird admin INT FILEPATH data_thread got not answer from any thunderbird_a INT datasource\n",
      "\t   11| 0.0570| tbird admin INT FILEPATH data_thread got not answer from any thunderbird_b INT datasource\n",
      "\t  116| 0.0550| bn INT ntpd INT synchronized to IPADDR stratum INT\n",
      "\t   83| 0.0430| aadmin INT xinetd INT start rsync pid= INT from= IPADDR\n",
      "\t   14| 0.0410| tbird admin INT FILEPATH data_thread got not answer from any thunderbird_d INT datasource\n",
      "\t   13| 0.0410| tbird admin INT FILEPATH data_thread got not answer from any thunderbird_c INT datasource\n",
      "\t   84| 0.0410| badmin INT xinetd INT start rsync pid= INT from= IPADDR\n",
      "\t   85| 0.0370| cadmin INT xinetd INT start rsync pid= INT from= IPADDR\n",
      "\t   87| 0.0370| dadmin INT xinetd INT start rsync pid= INT from= IPADDR\n",
      "\t   57| 0.0280| en INT sshd pam_unix INT session opened for user root by uid= INT\n",
      "\t   38| 0.0280| en INT sshd INT accepted publickey for root from ffff IPADDR port INT ssh INT\n",
      "\n",
      "words used : FILEPATH INT IPADDR aadmin accepted admin answer any attempt badmin bn by cadmin cn dadmin data_thread datasource dn en ffff for from from= got illegal is last minimum not ntpd one opened pam_unix pid= port publickey root rrd_update rsync second session ssh sshd start step stratum synchronized tbird thunderbird_a thunderbird_b thunderbird_c thunderbird_d time to uid= update user using when xinetd\n",
      "\n",
      "topic=1|count=35|energy=0.798000\n",
      "\t    1| 0.2390| tbird admin INT FILEPATH rrd_update FILEPATH FILEPATH illegal attempt to update using time INT when last update time is INT minimum one second step\n",
      "\t  192| 0.1200| en INT kernel(:? S+){0,3}\n",
      "\t   83| 0.0380| aadmin INT xinetd INT start rsync pid= INT from= IPADDR\n",
      "\t   84| 0.0370| badmin INT xinetd INT start rsync pid= INT from= IPADDR\n",
      "\t   85| 0.0340| cadmin INT xinetd INT start rsync pid= INT from= IPADDR\n",
      "\t   87| 0.0340| dadmin INT xinetd INT start rsync pid= INT from= IPADDR\n",
      "\t  114| 0.0260| dn INT ntpd INT synchronized to IPADDR stratum INT\n",
      "\t  187| 0.0190| en INT sysctl AFILE = INT\n",
      "\t   12| 0.0180| tbird admin INT FILEPATH data_thread got not answer from any thunderbird_a INT datasource\n",
      "\t   11| 0.0180| tbird admin INT FILEPATH data_thread got not answer from any thunderbird_b INT datasource\n",
      "\t   32| 0.0160| en INT xinetd INT reading included configuration file FILEPATH FILEPATH line= INT\n",
      "\t  115| 0.0140| cn INT ntpd INT synchronized to IPADDR stratum INT\n",
      "\t   14| 0.0130| tbird admin INT FILEPATH data_thread got not answer from any thunderbird_d INT datasource\n",
      "\t   13| 0.0130| tbird admin INT FILEPATH data_thread got not answer from any thunderbird_c INT datasource\n",
      "\t  116| 0.0110| bn INT ntpd INT synchronized to IPADDR stratum INT\n",
      "\t   53| 0.0110| en INT sshd pam_unix INT session opened for user mwsukal by uid= INT\n",
      "\t   29| 0.0100| en INT sshd INT accepted publickey for mwsukal from ffff IPADDR port INT ssh INT\n",
      "\t   86| 0.0100| en INT sshd pam_unix INT session closed for user mwsukal\n",
      "\t   20| 0.0100| en INT kernel acpi pci interrupt INT INT AFILE a > gsi INT level low > irq INT\n",
      "\t   40| 0.0080| an INT sshd INT accepted publickey for root from ffff IPADDR port INT ssh INT\n",
      "\t   42| 0.0080| bn INT sshd INT accepted publickey for root from ffff IPADDR port INT ssh INT\n",
      "\t   59| 0.0080| an INT sshd pam_unix INT session opened for user root by uid= INT\n",
      "\t   41| 0.0080| dn INT sshd INT accepted publickey for root from ffff IPADDR port INT ssh INT\n",
      "\t   61| 0.0080| bn INT sshd pam_unix INT session opened for user root by uid= INT\n",
      "\t   60| 0.0070| dn INT sshd pam_unix INT session opened for user root by uid= INT\n",
      "\t   54| 0.0070| dn INT sshd pam_unix INT session opened for user mwsukal by uid= INT\n",
      "\t   88| 0.0070| dn INT sshd pam_unix INT session closed for user mwsukal\n",
      "\t   39| 0.0070| cn INT sshd INT accepted publickey for root from ffff IPADDR port INT ssh INT\n",
      "\t   30| 0.0070| dn INT sshd INT accepted publickey for mwsukal from ffff IPADDR port INT ssh INT\n",
      "\t   58| 0.0070| cn INT sshd pam_unix INT session opened for user root by uid= INT\n",
      "\t    5| 0.0070| tbird sm INT AFILE INT LEVEL generate sm out_of_service trap for gid= INT x INT fe INT ad INT(:? S+){0,1}\n",
      "\t   98| 0.0050| en INT kernel acpi pci interrupt routing table  AFILE\n",
      "\t  120| 0.0050| en INT kernel net registered protocol family INT\n",
      "\t    2| 0.0040| tbird sm INT AFILE INT FILEANDLINE ********************** new sweep ********************\n",
      "\t  112| 0.0040| en INT kernel hub INT INT AFILE INT ports detected\n",
      "\n",
      "words used : ******************** ********************** = > AFILE FILEANDLINE FILEPATH INT INT(:? IPADDR LEVEL S+){0,1} S+){0,3} a aadmin accepted acpi ad admin an answer any attempt badmin bn by cadmin closed cn configuration dadmin data_thread datasource detected dn en family fe ffff file for from from= generate gid= got gsi hub illegal included interrupt irq is kernel kernel(:? last level line= low minimum mwsukal net new not ntpd one opened out_of_service pam_unix pci pid= port ports protocol publickey reading registered root routing rrd_update rsync second session sm ssh sshd start step stratum sweep synchronized sysctl table tbird thunderbird_a thunderbird_b thunderbird_c thunderbird_d time to trap uid= update user using when x xinetd\n",
      "\n",
      "topic=2|count=23|energy=0.800000\n",
      "\t  114| 0.1350| dn INT ntpd INT synchronized to IPADDR stratum INT\n",
      "\t   12| 0.1240| tbird admin INT FILEPATH data_thread got not answer from any thunderbird_a INT datasource\n",
      "\t   11| 0.1240| tbird admin INT FILEPATH data_thread got not answer from any thunderbird_b INT datasource\n",
      "\t  115| 0.1110| cn INT ntpd INT synchronized to IPADDR stratum INT\n",
      "\t    1| 0.0970| tbird admin INT FILEPATH rrd_update FILEPATH FILEPATH illegal attempt to update using time INT when last update time is INT minimum one second step\n",
      "\t   14| 0.0890| tbird admin INT FILEPATH data_thread got not answer from any thunderbird_d INT datasource\n",
      "\t   13| 0.0890| tbird admin INT FILEPATH data_thread got not answer from any thunderbird_c INT datasource\n",
      "\t  126| 0.0060| # INT # logger kickstart install(:? S+){2,4}\n",
      "\t    6| 0.0060| aadmin INT dhcpd dhcpdiscover from INT INT INT e INT ba c INT via eth INT network a_net no free leases\n",
      "\t   55| 0.0050| dn INT crond pam_unix INT session opened for user root by uid= INT\n",
      "\t   99| 0.0050| dn INT crond pam_unix INT session closed for user root\n",
      "\t  132| 0.0050| dn INT crond INT root cmd run parts FILEPATH\n",
      "\t   56| 0.0040| cn INT crond pam_unix INT session opened for user root by uid= INT\n",
      "\t  102| 0.0000| tbird sm INT AFILE INT FILEANDLINE rediscover the subnet\n",
      "\t   74| 0.0000| tbird sm INT AFILE INT FILEANDLINE async events require sweep\n",
      "\t    7| 0.0000| tbird sm INT AFILE INT FILEANDLINE an existing ib node guid INT ad INT(:? S+){0,1} lid INT was removed\n",
      "\t    5| 0.0000| tbird sm INT AFILE INT LEVEL generate sm out_of_service trap for gid= INT x INT fe INT ad INT(:? S+){0,1}\n",
      "\t    3| 0.0000| en INT snmpd INT accepted smux peer oid snmpv INT smi AFILE password descr systems management snmp mib plug in manager\n",
      "\t   70| 0.0000| en INT snmpd INT smux_accept accepted fd INT from FILEANDLINE\n",
      "\t  186| 0.0000| en INT syslogd AFILE restart\n",
      "\t   58| 0.0000| cn INT sshd pam_unix INT session opened for user root by uid= INT\n",
      "\t   39| 0.0000| cn INT sshd INT accepted publickey for root from ffff IPADDR port INT ssh INT\n",
      "\t   45| 0.0000| tbird sm INT AFILE INT FILEANDLINE failed to set lft to switch= INT a INT\n",
      "\n",
      "words used : # AFILE FILEANDLINE FILEPATH INT INT(:? IPADDR LEVEL S+){0,1} S+){2,4} a a_net aadmin accepted ad admin an answer any async attempt ba by c closed cmd cn crond data_thread datasource descr dhcpd dhcpdiscover dn e en eth events existing failed fd fe ffff for free from generate gid= got guid ib illegal in install(:? is kickstart last leases lft lid logger management manager mib minimum network no node not ntpd oid one opened out_of_service pam_unix parts password peer plug port publickey rediscover removed require restart root rrd_update run second session set sm smi smux smux_accept snmp snmpd snmpv ssh sshd step stratum subnet sweep switch= synchronized syslogd systems tbird the thunderbird_a thunderbird_b thunderbird_c thunderbird_d time to trap uid= update user using via was when x\n",
      "\n",
      "topic=3|count=40|energy=0.770000\n",
      "\t    1| 0.2800| tbird admin INT FILEPATH rrd_update FILEPATH FILEPATH illegal attempt to update using time INT when last update time is INT minimum one second step\n",
      "\t  192| 0.2060| en INT kernel(:? S+){0,3}\n",
      "\t  187| 0.0330| en INT sysctl AFILE = INT\n",
      "\t   32| 0.0280| en INT xinetd INT reading included configuration file FILEPATH FILEPATH line= INT\n",
      "\t   20| 0.0170| en INT kernel acpi pci interrupt INT INT AFILE a > gsi INT level low > irq INT\n",
      "\t   86| 0.0130| en INT sshd pam_unix INT session closed for user mwsukal\n",
      "\t   29| 0.0130| en INT sshd INT accepted publickey for mwsukal from ffff IPADDR port INT ssh INT\n",
      "\t   53| 0.0130| en INT sshd pam_unix INT session opened for user mwsukal by uid= INT\n",
      "\t    5| 0.0110| tbird sm INT AFILE INT LEVEL generate sm out_of_service trap for gid= INT x INT fe INT ad INT(:? S+){0,1}\n",
      "\t  120| 0.0080| en INT kernel net registered protocol family INT\n",
      "\t   98| 0.0080| en INT kernel acpi pci interrupt routing table  AFILE\n",
      "\t  112| 0.0070| en INT kernel hub INT INT AFILE INT ports detected\n",
      "\t  124| 0.0070| en INT kernel hub INT INT AFILE usb hub found\n",
      "\t   88| 0.0060| dn INT sshd pam_unix INT session closed for user mwsukal\n",
      "\t   30| 0.0060| dn INT sshd INT accepted publickey for mwsukal from ffff IPADDR port INT ssh INT\n",
      "\t   54| 0.0060| dn INT sshd pam_unix INT session opened for user mwsukal by uid= INT\n",
      "\t  114| 0.0060| dn INT ntpd INT synchronized to IPADDR stratum INT\n",
      "\t  104| 0.0060| en INT kernel ip_tables c INT INT netfilter core team\n",
      "\t  107| 0.0060| en INT kernel ext INT fs on sda INT internal journal\n",
      "\t   80| 0.0060| en INT kernel kjournald starting commit interval INT seconds\n",
      "\t   47| 0.0060| en INT kernel acpi lapic_nmi acpi_id INT x INT high edge lint INT x INT\n",
      "\t   62| 0.0050| en INT kernel ext INT fs mounted filesystem with ordered data mode\n",
      "\t   52| 0.0050| en INT kernel pci setting latency timer of device INT INT AFILE to INT\n",
      "\t  127| 0.0040| an INT shutdown shutting down for system halt\n",
      "\t  158| 0.0040| an INT init switching to runlevel INT\n",
      "\t  146| 0.0040| an INT messagebus messagebus shutdown failed\n",
      "\t   21| 0.0040| en INT kernel ioapic INT apic_id INT version INT address INT xfec INT gsi INT INT\n",
      "\t  128| 0.0040| bn INT shutdown shutting down for system halt\n",
      "\t   48| 0.0040| en INT kernel acpi ioapic id INT x INT address INT xfec INT gsi_base INT\n",
      "\t  145| 0.0040| en INT kernel probing ide interface ide INT\n",
      "\t  129| 0.0040| dn INT shutdown shutting down for system halt\n",
      "\t  130| 0.0040| cn INT shutdown shutting down for system halt\n",
      "\t  159| 0.0040| bn INT init switching to runlevel INT\n",
      "\t   81| 0.0040| en INT kernel uhci_hcd INT INT AFILE uhci host controller\n",
      "\t   19| 0.0040| en INT kernel uhci_hcd INT INT AFILE new usb bus registered assigned bus number INT\n",
      "\t  160| 0.0040| en INT kernel cpu l INT cache INT k\n",
      "\t  131| 0.0040| en INT kernel cpu hyper threading is disabled\n",
      "\t  161| 0.0040| dn INT init switching to runlevel INT\n",
      "\t   66| 0.0040| en INT kernel cpu LEVEL cache INT k uops l INT d cache INT k\n",
      "\t  147| 0.0040| bn INT messagebus messagebus shutdown failed\n",
      "\n",
      "words used : = > AFILE FILEPATH INT INT(:? IPADDR LEVEL S+){0,1} S+){0,3} a accepted acpi acpi_id ad address admin an apic_id assigned attempt bn bus by c cache closed cn commit configuration controller core cpu d data detected device disabled dn down edge en ext failed family fe ffff file filesystem for found from fs generate gid= gsi gsi_base halt high host hub hyper id ide illegal included init interface internal interrupt interval ioapic ip_tables irq is journal k kernel kernel(:? kjournald l lapic_nmi last latency level line= lint low messagebus minimum mode mounted mwsukal net netfilter new ntpd number of on one opened ordered out_of_service pam_unix pci port ports probing protocol publickey reading registered routing rrd_update runlevel sda second seconds session setting shutdown shutting sm ssh sshd starting step stratum switching synchronized sysctl system table tbird team threading time timer to trap uhci uhci_hcd uid= uops update usb user using version when with x xfec xinetd\n",
      "\n",
      "topic=4|count=8|energy=0.799000\n",
      "\t    1| 0.5090| tbird admin INT FILEPATH rrd_update FILEPATH FILEPATH illegal attempt to update using time INT when last update time is INT minimum one second step\n",
      "\t   11| 0.0670| tbird admin INT FILEPATH data_thread got not answer from any thunderbird_b INT datasource\n",
      "\t   12| 0.0670| tbird admin INT FILEPATH data_thread got not answer from any thunderbird_a INT datasource\n",
      "\t   13| 0.0510| tbird admin INT FILEPATH data_thread got not answer from any thunderbird_c INT datasource\n",
      "\t   14| 0.0460| tbird admin INT FILEPATH data_thread got not answer from any thunderbird_d INT datasource\n",
      "\t  115| 0.0460| cn INT ntpd INT synchronized to IPADDR stratum INT\n",
      "\t   45| 0.0090| tbird sm INT AFILE INT FILEANDLINE failed to set lft to switch= INT a INT\n",
      "\t   36| 0.0040| dn INT xinetd INT reading included configuration file FILEPATH FILEPATH line= INT\n",
      "\n",
      "words used : AFILE FILEANDLINE FILEPATH INT IPADDR a admin answer any attempt cn configuration data_thread datasource dn failed file from got illegal included is last lft line= minimum not ntpd one reading rrd_update second set sm step stratum switch= synchronized tbird thunderbird_a thunderbird_b thunderbird_c thunderbird_d time to update using when xinetd\n",
      "\n"
     ]
    }
   ],
   "source": [
    "for topic, X in enumerate(outData):\n",
    "    s = X[0]\n",
    "    ent = X[1]\n",
    "    print 'topic=%i|count=%i|energy=%f' % (topic, len(ent), s)\n",
    "    wordBag = set()\n",
    "    for e in ent:\n",
    "        cluster, string = templateList[e.cluster].split(',',1)\n",
    "        print '\\t%5i| %1.4f| %s' % (int(cluster),e.value,string)\n",
    "        for s in string.split():\n",
    "            wordBag.add(s)\n",
    "    print\n",
    "    print 'words used : %s' % ' '.join(sorted(wordBag))\n",
    "    print\n",
    "    "
   ]
  },
  {
   "cell_type": "code",
   "execution_count": null,
   "metadata": {
    "collapsed": true
   },
   "outputs": [],
   "source": []
  }
 ],
 "metadata": {
  "kernelspec": {
   "display_name": "Python 2",
   "language": "python",
   "name": "python2"
  },
  "language_info": {
   "codemirror_mode": {
    "name": "ipython",
    "version": 2
   },
   "file_extension": ".py",
   "mimetype": "text/x-python",
   "name": "python",
   "nbconvert_exporter": "python",
   "pygments_lexer": "ipython2",
   "version": "2.7.10"
  }
 },
 "nbformat": 4,
 "nbformat_minor": 0
}
