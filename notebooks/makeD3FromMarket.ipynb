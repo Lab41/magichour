{
 "cells": [
  {
   "cell_type": "code",
   "execution_count": null,
   "metadata": {
    "collapsed": false
   },
   "outputs": [],
   "source": [
    "import os\n",
    "from collections import defaultdict\n",
    "import matplotlib.pyplot as plt\n",
    "import numpy as np\n",
    "\n",
    "%matplotlib"
   ]
  },
  {
   "cell_type": "code",
   "execution_count": null,
   "metadata": {
    "collapsed": false
   },
   "outputs": [],
   "source": [
    "dataFile = '/Users/dgrossman/data/spmf_fpgrowth_output.txt'\n",
    "dataFile = '/Users/dgrossman/work/netStorage/davec/tbird.TFIDF.60s.FPGrowth.minsup002'\n",
    "\n",
    "dataFile = '/Users/dgrossman/Downloads/PARIS_Results_500k.py'\n",
    "\n",
    "#dataFile = '/Users/dgrossman/work/netStorage/davec/8Jan2016/tbird.log.preProc.200.supports.30sec.Transactions.FPGrowth.3minsup'\n",
    "#dataFile = '/Users/dgrossman/work/netStorage/davec/8Jan2016/tbird.log.preProc.200.supports.20sec.Transactions.FPGrowth.02minsup'\n",
    "\n",
    "\n",
    "dataClusters = '/Users/dgrossman/data/tbird.log.preProc.200.supports.clusters'\n",
    "\n",
    "nodeFile = open(dataFile,'r')\n",
    "clusterFile = open(dataClusters,'r')\n"
   ]
  },
  {
   "cell_type": "code",
   "execution_count": null,
   "metadata": {
    "collapsed": false
   },
   "outputs": [],
   "source": [
    "import re\n",
    "edgeSet = set()\n",
    "edgeDict = defaultdict(int)\n",
    "procLine = list()\n",
    "clusterDict = dict()\n",
    "\n",
    "for line in clusterFile:\n",
    "    cluster,text = line.strip().split(',',1)\n",
    "    text = re.sub(r'\\\\','',text,re.MULTILINE| re.DOTALL)\n",
    "    text2 = re.sub(r',','',text,re.MULTILINE | re.DOTALL)\n",
    "    clusterDict[cluster] = text2\n",
    "    \n",
    "clusterDict['-1'] = 'JunkDrawer'\n",
    "    \n",
    "for line in nodeFile:\n",
    "    if re.search('#SUP',line):\n",
    "        procLine.append(line.strip().split('#',1)[0].strip())\n",
    "    else:\n",
    "        procLine.append(line.strip())"
   ]
  },
  {
   "cell_type": "code",
   "execution_count": null,
   "metadata": {
    "collapsed": false
   },
   "outputs": [],
   "source": [
    "\n",
    "print procLine[:5]\n",
    "print clusterDict['1']\n"
   ]
  },
  {
   "cell_type": "code",
   "execution_count": null,
   "metadata": {
    "collapsed": false
   },
   "outputs": [],
   "source": [
    "import itertools\n",
    "\n",
    "for p in procLine:\n",
    "    l = p.split(' ')\n",
    "    if len(l) > 1:\n",
    "        comb = itertools.combinations(l, 2)\n",
    "        for start,finish in comb:\n",
    "            val = (start,finish)\n",
    "            edgeDict[val] += 1\n",
    "            edgeSet.add(val)\n",
    "    "
   ]
  },
  {
   "cell_type": "code",
   "execution_count": null,
   "metadata": {
    "collapsed": false
   },
   "outputs": [],
   "source": [
    "import math\n",
    "dataOutFile = '/Users/dgrossman/work/magichour/d3/data3.csv'\n",
    "header = 'source,target,value,sTitle,tTitle\\n'\n",
    "outFile = open(dataOutFile,'w')\n",
    "outFile.write(header)\n",
    "for edge,count in edgeDict.iteritems():\n",
    "    o =  '%s,%s,%f,%s %s,%s %s\\n' % (edge[0],edge[1],math.log(int(count))+1,\n",
    "                                     edge[0],clusterDict[edge[0]],\n",
    "                                     edge[1],clusterDict[edge[1]])\n",
    "    outFile.write(o)\n",
    "outFile.close()"
   ]
  },
  {
   "cell_type": "code",
   "execution_count": null,
   "metadata": {
    "collapsed": false
   },
   "outputs": [],
   "source": [
    "import networkx as nx\n",
    "import matplotlib.pyplot as plt\n",
    "\n",
    "def draw_graph(graph):\n",
    "\n",
    "    # extract nodes from graph\n",
    "    nodes = set([n1 for n1, n2 in graph] + [n2 for n1, n2 in graph])\n",
    "\n",
    "    # create networkx graph\n",
    "    G=nx.Graph()\n",
    "\n",
    "    # add nodes\n",
    "    for node in nodes:\n",
    "        G.add_node(node)\n",
    "\n",
    "    # add edges\n",
    "    for edge in graph:\n",
    "        G.add_edge(edge[0], edge[1])\n",
    "\n",
    "    # draw graph\n",
    "    pos = nx.spring_layout(G,k=2)\n",
    "    nx.draw(G, pos)\n",
    "\n",
    "    # show graph\n",
    "    plt.show()\n",
    "\n",
    "# draw example\n",
    "graph = edges\n",
    "draw_graph(graph)"
   ]
  },
  {
   "cell_type": "code",
   "execution_count": null,
   "metadata": {
    "collapsed": false
   },
   "outputs": [],
   "source": [
    "import networkx as nx\n",
    "from wordcloud import WordCloud\n",
    "import matplotlib.pyplot as plt\n",
    "\n",
    "\n",
    "G=nx.Graph()\n",
    "edges = list()\n",
    "for x in edgeDict.iterkeys():\n",
    "    edges.append(x)\n",
    "G.add_edges_from(edges)\n",
    "\n",
    "nodeweight = defaultdict(int)\n",
    "\n",
    "for k,v in edgeDict.iteritems():\n",
    "    nodeweight[k[0]] += v\n",
    "    nodeweight[k[1]] += v\n",
    "\n",
    "\n",
    "\n",
    "\n",
    "components = nx.connected_components(G)\n",
    "temp =0\n",
    "for x in components:\n",
    "    temp = temp+1\n",
    "\n",
    "numFigs = math.ceil(math.sqrt(temp))\n",
    "\n",
    "fig = plt.figure()\n",
    "\n",
    "components = nx.connected_components(G)\n",
    "\n",
    "temp = 1\n",
    "for c in components:\n",
    "    wordWeight = defaultdict(int)\n",
    "    wordList = list()\n",
    "    for cID in c:    \n",
    "        for word in clusterDict[cID].split():\n",
    "            if word not in  [' ','{','}','[',']',':'] and word.islower():\n",
    "                wordWeight[word] += nodeweight[cID]\n",
    "    for k,v in wordWeight.iteritems():\n",
    "        wordList.append((k,v))\n",
    "    #print len(wordList)\n",
    "    #print wordList\n",
    "    print 'image'\n",
    "    print wordList[:10]\n",
    "    wordcloud = WordCloud(max_font_size=40, relative_scaling=.5).generate_from_frequencies(wordList)\n",
    "        # print wordWeight\n",
    "    plt.subplot(numFigs,numFigs,temp)\n",
    "    plt.title('component %i' % temp)\n",
    "    plt.imshow(wordcloud)\n",
    "    plt.axis(\"off\")\n",
    "    temp=temp+1\n",
    "plt.show()\n",
    "\n"
   ]
  },
  {
   "cell_type": "code",
   "execution_count": null,
   "metadata": {
    "collapsed": true
   },
   "outputs": [],
   "source": []
  },
  {
   "cell_type": "code",
   "execution_count": null,
   "metadata": {
    "collapsed": true
   },
   "outputs": [],
   "source": []
  }
 ],
 "metadata": {
  "kernelspec": {
   "display_name": "Python 2",
   "language": "python",
   "name": "python2"
  },
  "language_info": {
   "codemirror_mode": {
    "name": "ipython",
    "version": 2
   },
   "file_extension": ".py",
   "mimetype": "text/x-python",
   "name": "python",
   "nbconvert_exporter": "python",
   "pygments_lexer": "ipython2",
   "version": "2.7.11"
  }
 },
 "nbformat": 4,
 "nbformat_minor": 0
}
