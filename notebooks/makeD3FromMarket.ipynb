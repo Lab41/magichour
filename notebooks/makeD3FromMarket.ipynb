{
 "cells": [
  {
   "cell_type": "code",
   "execution_count": null,
   "metadata": {
    "collapsed": false
   },
   "outputs": [],
   "source": [
    "import os\n",
    "from collections import defaultdict\n",
    "import matplotlib.pyplot as plt\n",
    "import numpy as np\n",
    "\n",
    "%matplotlib"
   ]
  },
  {
   "cell_type": "code",
   "execution_count": null,
   "metadata": {
    "collapsed": true
   },
   "outputs": [],
   "source": [
    "dataFile = '/Users/dgrossman/data/spmf_fpgrowth_output.txt'\n",
    "dataFile = '/Users/dgrossman/work/netStorage/davec/tbird.TFIDF.60s.FPGrowth.minsup002'\n",
    "dataClusters = '/Users/dgrossman/data/tbird.500k.LogCluster.Clusters'\n",
    "\n",
    "nodeFile = open(dataFile,'r')\n",
    "clusterFile = open(dataClusters,'r')\n"
   ]
  },
  {
   "cell_type": "code",
   "execution_count": null,
   "metadata": {
    "collapsed": false
   },
   "outputs": [],
   "source": [
    "import re\n",
    "edgeSet = set()\n",
    "edgeDict = defaultdict(int)\n",
    "procLine = list()\n",
    "clusterDict = dict()\n",
    "\n",
    "for line in clusterFile:\n",
    "    cluster,text = line.strip().split(',',1)\n",
    "    text = re.sub(r'\\\\','',text,re.MULTILINE| re.DOTALL)\n",
    "    clusterDict[cluster] = text\n",
    "\n",
    "for line in nodeFile:\n",
    "    procLine.append(line.strip().split('#',1)[0].strip())"
   ]
  },
  {
   "cell_type": "code",
   "execution_count": null,
   "metadata": {
    "collapsed": false
   },
   "outputs": [],
   "source": [
    "print procLine[:5]\n",
    "print clusterDict['1']"
   ]
  },
  {
   "cell_type": "code",
   "execution_count": null,
   "metadata": {
    "collapsed": false
   },
   "outputs": [],
   "source": [
    "for p in procLine:\n",
    "    l = p.split(' ')\n",
    "    for ind in range(len(l)-1):\n",
    "        val = (l[ind],l[ind+1])\n",
    "        edgeDict[val] += 1\n",
    "        edgeSet.add(val)\n",
    "    "
   ]
  },
  {
   "cell_type": "code",
   "execution_count": null,
   "metadata": {
    "collapsed": false
   },
   "outputs": [],
   "source": [
    "import math\n",
    "dataOutFile = '/Users/dgrossman/d3/data3.csv'\n",
    "print 'source,target,value,title'\n",
    "outFile = open(dataOutFile,'w')\n",
    "for edge,count in edgeDict.iteritems():\n",
    "    o =  '%s,%s,%f,%s %s\\n' % (edge[0],edge[1],math.log(int(count))+1,edge[0],clusterDict[edge[0]])\n",
    "    outFile.write(o)\n",
    "outFile.close()"
   ]
  },
  {
   "cell_type": "code",
   "execution_count": null,
   "metadata": {
    "collapsed": false
   },
   "outputs": [],
   "source": [
    "import networkx as nx\n",
    "import matplotlib.pyplot as plt\n",
    "\n",
    "def draw_graph(graph):\n",
    "\n",
    "    # extract nodes from graph\n",
    "    nodes = set([n1 for n1, n2 in graph] + [n2 for n1, n2 in graph])\n",
    "\n",
    "    # create networkx graph\n",
    "    G=nx.Graph()\n",
    "\n",
    "    # add nodes\n",
    "    for node in nodes:\n",
    "        G.add_node(node)\n",
    "\n",
    "    # add edges\n",
    "    for edge in graph:\n",
    "        G.add_edge(edge[0], edge[1])\n",
    "\n",
    "    # draw graph\n",
    "    pos = nx.spring_layout(G,k=2)\n",
    "    nx.draw(G, pos)\n",
    "\n",
    "    # show graph\n",
    "    plt.show()\n",
    "\n",
    "# draw example\n",
    "graph = edges\n",
    "draw_graph(graph)"
   ]
  },
  {
   "cell_type": "code",
   "execution_count": null,
   "metadata": {
    "collapsed": true
   },
   "outputs": [],
   "source": []
  }
 ],
 "metadata": {
  "kernelspec": {
   "display_name": "Python 2",
   "language": "python",
   "name": "python2"
  },
  "language_info": {
   "codemirror_mode": {
    "name": "ipython",
    "version": 2
   },
   "file_extension": ".py",
   "mimetype": "text/x-python",
   "name": "python",
   "nbconvert_exporter": "python",
   "pygments_lexer": "ipython2",
   "version": "2.7.11"
  }
 },
 "nbformat": 4,
 "nbformat_minor": 0
}
