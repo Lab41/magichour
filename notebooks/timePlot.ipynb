{
 "cells": [
  {
   "cell_type": "code",
   "execution_count": 4,
   "metadata": {
    "collapsed": true
   },
   "outputs": [],
   "source": [
    "import pandas as pd\n",
    "import numpy as np\n",
    "\n",
    "import math\n",
    "from bokeh.charts import Scatter, output_file, show\n",
    "from bokeh.models import HoverTool\n",
    "from bokeh.plotting import figure, output_file, show, ColumnDataSource\n",
    "from collections import OrderedDict\n"
   ]
  },
  {
   "cell_type": "code",
   "execution_count": null,
   "metadata": {
    "collapsed": true
   },
   "outputs": [],
   "source": [
    "cluster2Topic = {1: 4, 10: 1, 18: 1, 19: 1, 20: 1, 21: 1, 22: 1, 23: 1, 24: 1, 25: 1, 26: 1, 35: 17, 39: 4, 40: 3, 41: 14, 49: 1, 50: 1, 51: 1, 52: 18, 53: 11, 54: 8, 55: 4, 57: 10, 58: 3, 59: 4, 60: 1, 61: 1, 62: 1, 65: 18, 67: 3, 68: 3, 69: 4, 70: 17, 71: 1, 74: 17, 75: 4, 76: 1, 77: 1, 79: 1, 80: 1, 81: 1, 82: 1, 83: 18, 84: 18, 85: 3, 86: 4, 87: 12, 88: 1, 89: 1, 90: 1, 91: 1, 92: 1, 94: 17, 95: 11, 96: 4, 97: 4, 98: 4, 99: 1, 100: 1, 101: 1, 102: 1, 105: 11, 106: 1, 107: 1, 108: 1, 109: 1, 110: 1, 111: 5, 112: 17, 113: 3, 114: 1, 115: 4, 116: 4, 117: 1, 118: 1, 119: 1, 120: 1, 123: 1, 124: 9, 125: 8, 126: 1, 127: 1, 128: 1, 131: 1, 132: 1, 133: 1, 134: 1, 135: 3, 136: 1, 137: 9, 139: 1, 140: 1, 141: 1, 142: 8, 143: 17, 144: 8, 145: 8, 146: 8, 147: 8, 148: 1, 149: 1, 150: 1, 152: 1, 153: 1, 154: 1, 155: 1, 156: 1, 158: 1, 159: 1, 160: 1, 161: 1, 162: 1, 163: 5, 164: 18, 165: 8, 166: 9, 167: 1, 168: 1, 169: 1, 170: 1, 171: 1, 172: 14, 173: 1, 174: 1, 175: 1, 176: 1, 177: 1, 178: 10, 179: 1, 180: 15, 181: 9, 182: 17, 183: 10, 184: 1, 185: 1, 186: 18, 187: 9, 188: 1, 189: 1, 191: 4, 192: 1, 193: 14, 194: 17, 195: 17, 196: 17, 197: 17, 198: 13, 199: 8, 200: 8, 201: 1, 202: 1, 203: 1, 204: 11, 205: 1, 206: 1, 207: 1, 208: 1, 209: 1, 210: 1, 211: 6, 212: 1, 213: 1, 214: 1, 215: 3, 216: 9, 217: 1, 218: 1, 219: 8, 220: 8, 221: 8, 222: 1, 223: 1, 224: 1, 225: 1, 226: 1, 228: 1, 229: 1, 230: 4, 231: 11, 232: 12, 233: 8, 234: 1, 235: 1, 236: 1, 237: 12, 238: 1, 239: 1, 241: 1, 242: 5, 243: 8, 244: 1, 245: 1, 246: 1, 247: 8, 249: 1, 250: 1, 251: 9, 252: 1, 253: 1, 254: 4, 255: 1, 256: 11, 257: 14, 258: 1, 259: 1, 260: 1, 261: 1, 262: 1, 263: 1, 264: 1, 265: 1, 266: 1, 267: 1, 268: 1, 269: 10, 270: 3, 271: 1, 272: 1, 273: 1, 274: 1, 275: 1, 276: 1, 277: 1, 278: 1, 279: 1, 280: 1, 281: 1, 283: 4, 284: 8, 286: 1, 287: 1, 288: 1, 289: 1, 290: 1, 291: 1, 292: 1, 293: 1, 294: 1, 295: 1, 296: 4, 297: 4, 299: 1, 300: 1, 305: 1, 306: 1, 307: 1, 308: 1, 309: 1, 310: 1, 311: 14, 312: 4, 316: 17, 317: 1, 318: 1, 319: 1, 320: 1, 321: 1, 322: 4, 323: 1, 324: 6, 325: 1, 326: 1, 327: 1, 328: 1, 329: 9, 330: 8, 331: 1, 332: 1, 333: 1, 334: 1, 335: 3, 336: 1, 337: 1, 338: 3, 339: 10, 342: 1, 343: 9, 344: 1, 345: 3, 346: 4, 347: 14, 348: 13, 350: 1, 351: 1, 352: 1, 353: 1, 354: 1, 355: 1, 356: 1, 357: 5, 358: 13, 359: 13, 360: 10, 361: 1, 362: 1, 363: 12, 364: 1, 365: 1, 366: 17, 367: 1, 368: 1, 369: 1, 370: 1, 371: 1, 372: 1, 373: 1, 374: 1, 375: 8, 376: 3, 377: 8, 378: 1, 379: 1, 380: 17, 381: 8, 382: 9, 383: 8, 384: 1, 385: 1, 386: 1, 387: 1, 388: 1, 389: 1, 390: 1, 391: 4, 392: 1, 393: 10, 394: 3, 395: 9, 396: 9, 397: 8, 398: 13, 399: 10, 400: 1, 401: 1, 402: 1, 403: 1, 404: 8, 406: 9, 407: 1, 408: 1, 409: 1, 410: 1, 412: 1, 413: 1, 414: 1, 415: 1, 416: 8, 417: 8, 418: 10, 419: 1, 420: 1, 421: 1, 422: 1, 423: 1, 424: 1, 425: 1, 426: 1, 427: 1, 429: 8, 430: 8, 432: 1, 433: 1, 434: 1, 435: 1, 436: 1, 437: 1, 438: 1, 440: 1, 441: 1, 442: 1, 445: 1, 446: 1, 447: 1, 448: 4, 449: 1, 450: 8, 451: 10, 452: 1, 453: 1, 454: 1, 455: 1, 456: 1, 457: 1, 458: 1, 459: 1, 460: 1, 461: 17, 464: 1, 465: 1, 466: 1, 467: 1, 468: 1, 469: 1, 470: 1, 471: 1, 472: 4, 473: 1, 474: 17, 475: 8, 476: 1, 477: 1, 478: 1, 479: 1, 480: 1, 481: 10, 482: 1, 483: 1, 484: 1, 485: 1, 486: 1, 487: 1, 488: 1, 489: 1, 490: 1, 491: 16, 492: 10, 493: 1, 494: 1, 495: 1, 496: 1, 497: 1, 498: 1, 499: 4, 500: 1, 501: 1, 502: 4, 503: 6, 504: 11, 505: 8, 506: 9, 507: 1, 508: 1, 509: 1, 510: 1, 511: 1, 512: 1, 513: 1, 514: 1, 515: 1, 516: 1, 517: 1, 518: 1, 519: 1, 520: 1, 521: 1, 522: 1, 523: 3, 524: 3, 525: 9, 526: 9, 527: 10, 528: 1, 529: 1, 530: 1, 531: 1, 532: 1, 533: 1, 535: 17, 536: 3, 537: 3, 538: 3, 539: 10, 540: 4, 541: 8, 542: 10, 543: 8, 544: 10, 545: 9, 546: 1, 547: 1, 548: 1, 549: 1, 550: 1, 551: 3, 552: 3, 553: 3, 554: 8, 555: 10, 556: 10, 557: 1, 558: 1, 559: 1, 560: 1, 561: 8, 562: 17, 563: 1, 564: 1, 565: 14, 566: 10, 567: 10, 568: 1, 569: 1, 570: 1, 571: 1, 572: 4, 573: 4, 574: 1, 575: 1, 576: 1, 577: 1, 578: 1, 579: 1, 580: 1, 581: 1, 582: 1, 583: 5, 584: 1, 585: 15, 586: 3, 587: 13, 588: 1, 589: 1, 590: 1, 591: 1, 592: 1, 593: 1, 594: 1, 595: 1, 596: 1, 597: 1, 598: 3, 599: 8, 600: 1, 601: 1, 602: 1, 603: 1, 604: 1, 605: 9, 606: 1, 607: 1, 608: 1, 609: 1, 611: 9, 612: 1, 613: 1, 614: 1, 615: 1, 616: 10, 617: 8, 618: 10, 620: 1, 621: 1, 622: 1, 623: 1, 624: 1, 625: 1, 626: 15, 627: 1, 628: 14, 629: 1, 630: 1, 631: 1, 632: 1, 633: 1, 634: 5, 635: 5, 636: 1, 637: 1, 638: 1, 639: 8, 640: 10, 641: 10, 642: 13, 643: 1, 644: 1, 645: 1, 646: 1, 647: 1, 648: 1, 649: 1, 650: 1, 651: 1, 652: 1, 653: 1, 654: 1, 655: 1, 656: 1, 657: 1, 658: 1, 659: 14, 660: 1, 661: 1, 662: 1, 663: 15, 664: 15, 665: 8, 666: 8, 667: 10, 668: 1, 669: 1, 670: 1, 671: 1, 672: 9, 673: 1, 674: 1, 675: 1, 676: 1, 677: 1, 678: 1, 679: 1, 680: 1, 681: 1, 682: 1, 683: 1, 684: 8, 685: 8, 686: 1, 687: 1, 688: 1, 689: 1, 690: 1, 691: 1, 692: 8, 693: 1, 694: 1, 695: 1, 696: 1, 697: 13, 698: 1, 699: 4, 700: 1, 701: 1, 702: 13, 703: 1, 704: 10, 705: 13, 706: 1, 707: 9, 708: 1, 709: 4}"
   ]
  },
  {
   "cell_type": "code",
   "execution_count": 21,
   "metadata": {
    "collapsed": false
   },
   "outputs": [],
   "source": [
    "\n",
    "def mapCluster(x):\n",
    "    if x in cluster2Topic:\n",
    "        return cluster2Topic[x]\n",
    "    return x + 10000\n",
    "\n",
    "def pal(x,pallete):\n",
    "    if x in cluster2Topic:\n",
    "        return pallete[(cluster2Topic[x]*20 + 5 )% 100]\n",
    "    return '#000000'"
   ]
  },
  {
   "cell_type": "code",
   "execution_count": 22,
   "metadata": {
    "collapsed": false
   },
   "outputs": [],
   "source": [
    "\n",
    "\n",
    "def plotEvents(inFile,outFile,secondsToABin):\n",
    "    \n",
    "    colors = ['#FFC0CB', '#FFB6C1', '#FF69B4', '#FF1493', '#DB7093', '#C71585', '#FFA07A', '#FA8072', '#E9967A', '#F08080', '#CD5C5C', '#DC143C', '#B22222',\n",
    "'#8B0000', '#FF0000', '#FF4500', '#FF6347', '#FF7F50', '#FF8C00', '#FFA500', '#FFFF00', '#FFFFE0', '#FFFACD', '#FAFAD2', '#FFEFD5', '#FFE4B5',\n",
    "'#FFDAB9', '#EEE8AA', '#F0E68C', '#BDB76B', '#FFD700', '#FFF8DC', '#FFEBCD', '#FFE4C4', '#FFDEAD', '#F5DEB3', '#DEB887', '#D2B48C', '#BC8F8F',\n",
    "'#F4A460', '#DAA520', '#B8860B', '#CD853F', '#D2691E', '#8B4513', '#A0522D', '#A52A2A', '#800000', '#556B2F', '#808000', '#6B8E23', '#9ACD32',\n",
    "'#32CD32', '#00FF00', '#7CFC00', '#7FFF00', '#ADFF2F', '#00FF7F', '#00FA9A', '#90EE90', '#98FB98', '#8FBC8F', '#3CB371', '#2E8B57', '#228B22',\n",
    "'#008000', '#006400', '#66CDAA', '#00FFFF', '#00FFFF', '#E0FFFF', '#AFEEEE', '#7FFFD4', '#40E0D0', '#48D1CC', '#00CED1', '#20B2AA', '#5F9EA0',\n",
    "'#008B8B', '#008080', '#B0C4DE', '#B0E0E6', '#ADD8E6', '#87CEEB', '#87CEFA', '#00BFFF', '#1E90FF', '#6495ED', '#4682B4', '#4169E1', '#0000FF',\n",
    "'#0000CD', '#00008B', '#000080', '#191970', '#E6E6FA', '#D8BFD8', '#DDA0DD', '#EE82EE', '#DA70D6', '#FF00FF', '#FF00FF', '#BA55D3', '#9370DB',\n",
    "'#8A2BE2', '#9400D3', '#9932CC', '#8B008B', '#800080', '#4B0082', '#483D8B', '#6A5ACD', '#7B68EE', '#FFFFFF', '#FFFAFA', '#F0FFF0', '#F5FFFA',\n",
    "'#F0FFFF', '#F0F8FF', '#F8F8FF', '#F5F5F5', '#FFF5EE', '#F5F5DC', '#FDF5E6', '#FFFAF0', '#FFFFF0', '#FAEBD7', '#FAF0E6', '#FFF0F5', '#FFE4E1',\n",
    "'#DCDCDC', '#D3D3D3', '#C0C0C0', '#A9A9A9', '#808080', '#696969', '#778899', '#708090', '#2F4F4F', '#000000']\n",
    "\n",
    "    pallete = dict()\n",
    "    for i,color in enumerate(colors):\n",
    "        pallete[i] = color\n",
    "    \n",
    "    \n",
    "    afile = pd.read_csv(inFile, header=0,names=[\"time\", \"cluster\",'logLine'])\n",
    "    time = list()\n",
    "    cluster = list()\n",
    "    logLine = list()\n",
    "    \n",
    "    # Start the bins at 0\n",
    "    first = afile['time'][0]\n",
    "    b =np.floor((afile['time']- first))\n",
    "    \n",
    "    #make it count by secondsToABin\n",
    "    c=np.floor(b/secondsToABin)\n",
    "\n",
    "    afile['time'] = c\n",
    "    \n",
    "    #how many columns of data are there\n",
    "    dUniq = 'uniq',len(np.unique(c).astype(int))\n",
    "    \n",
    "    out = dict()\n",
    "    for d in np.unique(c).astype(int):\n",
    "        current = np.where(afile['time']==d)\n",
    "        clusterSet = set()\n",
    "        for c in current[0]:\n",
    "            clusterSet.add(afile['cluster'][c])\n",
    "        # for some reason folding the following loop into the above \n",
    "        # loop will not render\n",
    "        for c in current[0]:\n",
    "            if afile['cluster'][c] in clusterSet:\n",
    "                time.append(afile['time'][c])\n",
    "                cluster.append(afile['cluster'][c])\n",
    "                logLine.append(afile['logLine'][c])\n",
    "                clusterSet.remove(afile['cluster'][c])\n",
    "            \n",
    "    df = pd.DataFrame(np.nan, index=range(len(time)), columns=['time','cluster','logLine'])\n",
    "    df['time']=time\n",
    "    df['cluster']=cluster\n",
    "    df['logLine']=logLine\n",
    "        \n",
    "    output_file(outFile)\n",
    "\n",
    "    source = ColumnDataSource(\n",
    "        data=dict(\n",
    "            x=df['time'],\n",
    "            y=df['cluster'],\n",
    "            desc=df['logLine'],\n",
    "            color =  df['cluster'].map(lambda x: pal(x,pallete))\n",
    "        )\n",
    "    )\n",
    "\n",
    "    hover = HoverTool(\n",
    "        tooltips=[\n",
    "            (\"cluster\", \"@color:@y:@desc\")\n",
    "        ]\n",
    "    )\n",
    "\n",
    "    p = figure(plot_width=1000, plot_height=400,tools=\"pan,wheel_zoom,box_zoom,reset,resize\",\n",
    "               title=\"LogLines (%s seconds to a bin)\" % (secondsToABin), x_axis_label = \"Time\",\n",
    "               y_axis_label = \"Cluster\")\n",
    "    p.add_tools(hover)\n",
    "\n",
    "    p.circle('x', 'y',color='color', size=3, source=source)\n",
    "    show(p)\n",
    "    "
   ]
  },
  {
   "cell_type": "code",
   "execution_count": 23,
   "metadata": {
    "collapsed": false
   },
   "outputs": [],
   "source": [
    "work = '/Users/dgrossman/data/tbird.500k.normal.350Support.out.clustered.noJunk'\n",
    "work = '/Users/dgrossman/data/tbird.log.preProc.200.supports.out.500k'\n",
    "plotEvents(work,'outFile.html',60*2)"
   ]
  },
  {
   "cell_type": "code",
   "execution_count": null,
   "metadata": {
    "collapsed": true
   },
   "outputs": [],
   "source": []
  }
 ],
 "metadata": {
  "kernelspec": {
   "display_name": "Python 2",
   "language": "python",
   "name": "python2"
  },
  "language_info": {
   "codemirror_mode": {
    "name": "ipython",
    "version": 2
   },
   "file_extension": ".py",
   "mimetype": "text/x-python",
   "name": "python",
   "nbconvert_exporter": "python",
   "pygments_lexer": "ipython2",
   "version": "2.7.11"
  }
 },
 "nbformat": 4,
 "nbformat_minor": 0
}
