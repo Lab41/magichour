{
 "cells": [
  {
   "cell_type": "code",
   "execution_count": 1,
   "metadata": {
    "collapsed": true
   },
   "outputs": [],
   "source": [
    "import pandas as pd\n",
    "import numpy as np\n",
    "\n",
    "import math\n",
    "from bokeh.charts import Scatter, output_file, show\n",
    "from bokeh.models import HoverTool\n",
    "from bokeh.plotting import figure, output_file, show, ColumnDataSource\n",
    "from collections import OrderedDict\n"
   ]
  },
  {
   "cell_type": "code",
   "execution_count": 2,
   "metadata": {
    "collapsed": true
   },
   "outputs": [],
   "source": [
    "cluster2Topic = {0: 11, 1: 45, 2: 39, 3: 39, 4: 45, 5: 39, 6: 1, 7: 65, 13: 23, 14: 1, 15: 1, 16: 11, 17: 1, 18: 1, 19: 11, 20: 1, 21: 1, 22: 1, 23: 1, 24: 1, 25: 1, 26: 1, 27: 1, 28: 11, 29: 65, 30: 1, 31: 65, 37: 52, 38: 52, 39: 1, 40: 23, 41: 1, 42: 11, 43: 1, 44: 1, 45: 69, 46: 1, 47: 0, 48: 1, 49: 92, 50: 39, 51: 1, 52: 12, 53: 5, 54: 5, 55: 1, 56: 92, 57: 92, 58: 23, 59: 1, 60: 0, 61: 1, 62: 1, 63: 1, 64: 1, 65: 1, 66: 1, 67: 94, 68: 73, 69: 39, 70: 1, 71: 1, 72: 1, 73: 8, 74: 35, 75: 11, 76: 1, 77: 1, 78: 1, 79: 1, 80: 1, 81: 1, 82: 1, 83: 39, 84: 11, 85: 1, 86: 8, 87: 1, 88: 1, 89: 1, 90: 40, 91: 1, 92: 1, 93: 1, 94: 1, 95: 1, 96: 1, 97: 1, 98: 40, 99: 11, 100: 1, 101: 1, 102: 1, 103: 1, 104: 1, 105: 1, 106: 1, 107: 1, 108: 1, 109: 1, 110: 1, 111: 35, 112: 12, 113: 46, 114: 30, 115: 11, 116: 12, 117: 11, 118: 35, 119: 11, 120: 0, 121: 35, 122: 1, 123: 1, 124: 84, 125: 12, 126: 33, 127: 35, 128: 30, 129: 30, 130: 46, 131: 5, 132: 1, 133: 1, 134: 1, 135: 81, 136: 1, 137: 1, 138: 1, 139: 80, 140: 5, 141: 1, 142: 11, 143: 1, 144: 1, 145: 1, 146: 12, 147: 12, 148: 12, 149: 12, 150: 33, 151: 0, 152: 94, 153: 8, 154: 30, 155: 1, 156: 53, 157: 30, 158: 1, 159: 1, 160: 1, 161: 52, 162: 5, 163: 1, 164: 1, 165: 1, 166: 1, 167: 1, 168: 1, 169: 1, 170: 86, 171: 65, 172: 1, 173: 1, 174: 1, 175: 84, 176: 8, 177: 1, 178: 1, 179: 1, 180: 1, 181: 46, 182: 94, 183: 12, 184: 33, 185: 1, 186: 1, 187: 23, 188: 5, 189: 81, 190: 1, 191: 1, 192: 1, 193: 1, 194: 1, 195: 1, 196: 1, 197: 1, 198: 1, 199: 52, 200: 1, 201: 1, 202: 1, 203: 1, 204: 1, 205: 1, 206: 91, 207: 1, 208: 1, 209: 33, 210: 1, 211: 1, 212: 1, 213: 84, 214: 1, 215: 1, 216: 1, 217: 1, 218: 1, 219: 1, 220: 1, 221: 1, 222: 8, 223: 1, 224: 1, 225: 1, 226: 1, 227: 1, 228: 1, 229: 1, 230: 1, 231: 1, 232: 1, 233: 1, 234: 1, 235: 8, 236: 33, 237: 1, 238: 1, 239: 1, 240: 1, 241: 1, 242: 1, 243: 1, 244: 1, 245: 1, 246: 1, 247: 1, 248: 86, 249: 1, 250: 1, 251: 1, 252: 1, 253: 1, 254: 39, 255: 40, 256: 1, 257: 1, 258: 1, 259: 39, 260: 39, 261: 91, 262: 35, 263: 1, 264: 1, 265: 52, 266: 1, 267: 1, 268: 53, 269: 89, 270: 33, 271: 52, 272: 1, 273: 69, 274: 1, 275: 1, 276: 8, 277: 33, 278: 33, 279: 52, 280: 91, 281: 1, 282: 1, 283: 1, 284: 1, 285: 12, 286: 8, 287: 33, 288: 52, 289: 52, 290: 1, 291: 1, 292: 1, 293: 1, 294: 1, 295: 1, 296: 1, 297: 5, 298: 30, 299: 52, 300: 33, 301: 1, 302: 1, 303: 1, 304: 1, 305: 1, 306: 27, 307: 8, 308: 8, 309: 1, 310: 1, 311: 1, 312: 1, 313: 86, 314: 65, 315: 5, 316: 33, 317: 1, 318: 1, 319: 1, 320: 1, 321: 35, 322: 89, 323: 86, 324: 33, 325: 1, 326: 1, 327: 1, 328: 1, 329: 1, 330: 1, 331: 46, 332: 12, 333: 91, 334: 86, 335: 1, 336: 1, 337: 1, 338: 1, 339: 1, 340: 1, 341: 1, 343: 1, 344: 1, 345: 1, 348: 69, 349: 33, 350: 52, 351: 1, 352: 1, 353: 1, 354: 11, 355: 1, 356: 1, 357: 1, 358: 11, 359: 69, 360: 33, 361: 1, 362: 1, 363: 1, 364: 1, 365: 1, 366: 1, 367: 1, 368: 91, 369: 65, 370: 52, 371: 33, 372: 1, 373: 1, 374: 1, 375: 1, 376: 1, 377: 1, 378: 1, 379: 1, 380: 1, 381: 1, 382: 1, 383: 65, 384: 1, 385: 1, 386: 1, 387: 1, 388: 1, 389: 1, 390: 1, 391: 1, 392: 1, 393: 1, 394: 1, 395: 69, 396: 1, 397: 1, 398: 1, 399: 1, 400: 1, 401: 1, 402: 1, 403: 1, 404: 1, 405: 1, 406: 1, 407: 45, 408: 94, 409: 40, 410: 89, 411: 8, 412: 1, 413: 1, 414: 1, 415: 1, 416: 1, 417: 1, 418: 1, 419: 1, 420: 1, 421: 1, 422: 1, 423: 1, 424: 33, 425: 1, 426: 1, 427: 1, 428: 1, 429: 1, 430: 1, 431: 1, 432: 1, 433: 5, 434: 39, 435: 8, 436: 8, 437: 40, 438: 33, 439: 1, 440: 1, 441: 1, 442: 1, 443: 1, 444: 1, 445: 69, 446: 1, 447: 1, 448: 1, 449: 12, 450: 39, 451: 39, 452: 5, 453: 33, 454: 33, 455: 40, 456: 33, 457: 5, 458: 1, 459: 1, 460: 1, 461: 1, 462: 1, 463: 1, 464: 52, 465: 8, 466: 8, 467: 86, 468: 52, 469: 33, 470: 1, 471: 11, 472: 1, 473: 86, 474: 65, 475: 33, 476: 1, 477: 1, 478: 52, 479: 1, 480: 33, 481: 33, 482: 35, 483: 69, 484: 1, 485: 1, 486: 1, 487: 1, 488: 1, 489: 11, 490: 1, 491: 1, 492: 1, 493: 12, 494: 1, 495: 40, 496: 1, 497: 1, 498: 1, 499: 1, 500: 1, 501: 1, 502: 11, 503: 1, 504: 1, 505: 3, 506: 5, 507: 33, 508: 33, 509: 1, 510: 1, 511: 1, 512: 1, 513: 1, 514: 1, 515: 1, 516: 1, 517: 1, 518: 39, 519: 1, 520: 1, 521: 1, 522: 1, 523: 46, 524: 1, 525: 5, 526: 33, 527: 91, 528: 1, 529: 1, 530: 1, 531: 8, 532: 1, 533: 1, 534: 1, 535: 1, 536: 35, 537: 33, 538: 40, 539: 1, 540: 1, 541: 1, 542: 1, 543: 1, 544: 1, 545: 1, 546: 52, 547: 1, 548: 1, 549: 1, 550: 1, 551: 1, 552: 1, 553: 46, 554: 46, 555: 33, 556: 33, 557: 35, 558: 1, 559: 35, 560: 1, 561: 1, 562: 1, 563: 1, 564: 1, 565: 1, 566: 1, 567: 1, 568: 1, 569: 1, 570: 1, 571: 1, 572: 1, 573: 52, 574: 1, 575: 1, 576: 3, 577: 3, 578: 89, 579: 33, 580: 86, 581: 52, 582: 1, 583: 1, 584: 1, 585: 1, 586: 8, 587: 1, 588: 1, 589: 1, 590: 1, 591: 1, 592: 1, 593: 1, 594: 1, 595: 1, 596: 35, 597: 86, 598: 1, 599: 1, 600: 1, 601: 1, 602: 80, 603: 1, 604: 1, 605: 1, 606: 1, 607: 1, 608: 1, 609: 1, 610: 1, 611: 1, 612: 1, 613: 1, 614: 1, 615: 1, 616: 35, 617: 1, 618: 1, 619: 1, 620: 1, 621: 1, 622: 1, 623: 1, 624: 69, 625: 1, 626: 1, 627: 1, 628: 52, 629: 33, 630: 1, 631: 1, 632: 1, 633: 1, 634: 8, 635: 11}"
   ]
  },
  {
   "cell_type": "code",
   "execution_count": 3,
   "metadata": {
    "collapsed": false
   },
   "outputs": [],
   "source": [
    "\n",
    "def mapCluster(x):\n",
    "    if x in cluster2Topic:\n",
    "        return cluster2Topic[x]\n",
    "    return x + 10000\n",
    "\n",
    "def pal(x,pallete):\n",
    "    if x in cluster2Topic:\n",
    "        return pallete[(cluster2Topic[x]*20 + 5 )% 100]\n",
    "    return '#000000'"
   ]
  },
  {
   "cell_type": "code",
   "execution_count": 4,
   "metadata": {
    "collapsed": false
   },
   "outputs": [],
   "source": [
    "\n",
    "\n",
    "def plotEvents(inFile,outFile,secondsToABin):\n",
    "    \n",
    "    colors = ['#FFC0CB', '#FFB6C1', '#FF69B4', '#FF1493', '#DB7093', '#C71585', '#FFA07A', '#FA8072', '#E9967A', '#F08080', '#CD5C5C', '#DC143C', '#B22222',\n",
    "'#8B0000', '#FF0000', '#FF4500', '#FF6347', '#FF7F50', '#FF8C00', '#FFA500', '#FFFF00', '#FFFFE0', '#FFFACD', '#FAFAD2', '#FFEFD5', '#FFE4B5',\n",
    "'#FFDAB9', '#EEE8AA', '#F0E68C', '#BDB76B', '#FFD700', '#FFF8DC', '#FFEBCD', '#FFE4C4', '#FFDEAD', '#F5DEB3', '#DEB887', '#D2B48C', '#BC8F8F',\n",
    "'#F4A460', '#DAA520', '#B8860B', '#CD853F', '#D2691E', '#8B4513', '#A0522D', '#A52A2A', '#800000', '#556B2F', '#808000', '#6B8E23', '#9ACD32',\n",
    "'#32CD32', '#00FF00', '#7CFC00', '#7FFF00', '#ADFF2F', '#00FF7F', '#00FA9A', '#90EE90', '#98FB98', '#8FBC8F', '#3CB371', '#2E8B57', '#228B22',\n",
    "'#008000', '#006400', '#66CDAA', '#00FFFF', '#00FFFF', '#E0FFFF', '#AFEEEE', '#7FFFD4', '#40E0D0', '#48D1CC', '#00CED1', '#20B2AA', '#5F9EA0',\n",
    "'#008B8B', '#008080', '#B0C4DE', '#B0E0E6', '#ADD8E6', '#87CEEB', '#87CEFA', '#00BFFF', '#1E90FF', '#6495ED', '#4682B4', '#4169E1', '#0000FF',\n",
    "'#0000CD', '#00008B', '#000080', '#191970', '#E6E6FA', '#D8BFD8', '#DDA0DD', '#EE82EE', '#DA70D6', '#FF00FF', '#FF00FF', '#BA55D3', '#9370DB',\n",
    "'#8A2BE2', '#9400D3', '#9932CC', '#8B008B', '#800080', '#4B0082', '#483D8B', '#6A5ACD', '#7B68EE', '#FFFFFF', '#FFFAFA', '#F0FFF0', '#F5FFFA',\n",
    "'#F0FFFF', '#F0F8FF', '#F8F8FF', '#F5F5F5', '#FFF5EE', '#F5F5DC', '#FDF5E6', '#FFFAF0', '#FFFFF0', '#FAEBD7', '#FAF0E6', '#FFF0F5', '#FFE4E1',\n",
    "'#DCDCDC', '#D3D3D3', '#C0C0C0', '#A9A9A9', '#808080', '#696969', '#778899', '#708090', '#2F4F4F', '#000000']\n",
    "\n",
    "    pallete = dict()\n",
    "    for i,color in enumerate(colors):\n",
    "        pallete[i] = color\n",
    "    \n",
    "    \n",
    "    afile = pd.read_csv(inFile, header=0,names=[\"time\", \"cluster\",'logLine'])\n",
    "    time = list()\n",
    "    cluster = list()\n",
    "    logLine = list()\n",
    "    \n",
    "    # Start the bins at 0\n",
    "    first = afile['time'][0]\n",
    "    b =np.floor((afile['time']- first))\n",
    "    \n",
    "    #make it count by secondsToABin\n",
    "    c=np.floor(b/secondsToABin)\n",
    "\n",
    "    afile['time'] = c\n",
    "    \n",
    "    #how many columns of data are there\n",
    "    dUniq = 'uniq',len(np.unique(c).astype(int))\n",
    "    \n",
    "    out = dict()\n",
    "    for d in np.unique(c).astype(int):\n",
    "        current = np.where(afile['time']==d)\n",
    "        clusterSet = set()\n",
    "        for c in current[0]:\n",
    "            clusterSet.add(afile['cluster'][c])\n",
    "        # for some reason folding the following loop into the above \n",
    "        # loop will not render\n",
    "        for c in current[0]:\n",
    "            if afile['cluster'][c] in clusterSet:\n",
    "                time.append(afile['time'][c])\n",
    "                cluster.append(afile['cluster'][c])\n",
    "                logLine.append(afile['logLine'][c])\n",
    "                clusterSet.remove(afile['cluster'][c])\n",
    "            \n",
    "    df = pd.DataFrame(np.nan, index=range(len(time)), columns=['time','cluster','logLine'])\n",
    "    df['time']=time\n",
    "    df['cluster']=cluster\n",
    "    df['logLine']=logLine\n",
    "        \n",
    "    output_file(outFile)\n",
    "\n",
    "    source = ColumnDataSource(\n",
    "        data=dict(\n",
    "            x=df['time'],\n",
    "            y=df['cluster'],\n",
    "            desc=df['logLine'],\n",
    "            color =  df['cluster'].map(lambda x: pal(x,pallete))\n",
    "        )\n",
    "    )\n",
    "\n",
    "    hover = HoverTool(\n",
    "        tooltips=[\n",
    "            (\"cluster\", \"@color:@y:@desc\")\n",
    "        ]\n",
    "    )\n",
    "\n",
    "    p = figure(plot_width=1000, plot_height=400,tools=\"pan,wheel_zoom,box_zoom,reset,resize\",\n",
    "               title=\"LogLines (%s seconds to a bin)\" % (secondsToABin), x_axis_label = \"Time\",\n",
    "               y_axis_label = \"Cluster\")\n",
    "    p.add_tools(hover)\n",
    "\n",
    "    p.circle('x', 'y',color='color', size=3, source=source)\n",
    "    show(p)\n",
    "    "
   ]
  },
  {
   "cell_type": "code",
   "execution_count": 5,
   "metadata": {
    "collapsed": false
   },
   "outputs": [],
   "source": [
    "work = '/Users/dgrossman/data/tbird.500k.normal.350Support.out.clustered.noJunk'\n",
    "work = '/Users/dgrossman/data/tbird.log.preProc.200.supports.out.500k'\n",
    "plotEvents(work,'outFile.html',60*2)"
   ]
  },
  {
   "cell_type": "code",
   "execution_count": null,
   "metadata": {
    "collapsed": true
   },
   "outputs": [],
   "source": []
  }
 ],
 "metadata": {
  "kernelspec": {
   "display_name": "Python 2",
   "language": "python",
   "name": "python2"
  },
  "language_info": {
   "codemirror_mode": {
    "name": "ipython",
    "version": 2
   },
   "file_extension": ".py",
   "mimetype": "text/x-python",
   "name": "python",
   "nbconvert_exporter": "python",
   "pygments_lexer": "ipython2",
   "version": "2.7.11"
  }
 },
 "nbformat": 4,
 "nbformat_minor": 0
}
