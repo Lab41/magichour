{
 "cells": [
  {
   "cell_type": "code",
   "execution_count": 1,
   "metadata": {
    "collapsed": true
   },
   "outputs": [],
   "source": [
    "import time\n",
    "import cPickle as pickle\n",
    "import multiprocessing\n",
    "\n",
    "from magichour.api.local.preprocess import preprocess\n",
    "from magichour.api.local.templates import templates, apply\n",
    "from magichour.api.local.windows import windows\n",
    "from magichour.api.local.logging_util import get_logger\n",
    "\n",
    "logger = get_logger(__name__)\n",
    "\n",
    "transforms_file = \"/Users/kylez/lab41/magichour/magichour/magichour/api/local/preprocess/simpleTrans\"\n",
    "log_file = \"/Users/kylez/lab41/magichour/magichour/magichour/api/local/preprocess/tbird.log.500k\""
   ]
  },
  {
   "cell_type": "code",
   "execution_count": 2,
   "metadata": {
    "collapsed": true
   },
   "outputs": [],
   "source": [
    "def test_preprocess():\n",
    "    logger.info(\"Reading transforms from file: %s\" % transforms_file)\n",
    "    transforms = preprocess.get_transforms(transforms_file)\n",
    "\n",
    "    logger.info(\"Reading log lines from file: %s\" % log_file)\n",
    "    lines = preprocess.get_lines(log_file, 0, 10, skip_num_chars=22)\n",
    "\n",
    "    logger.info(\"Transforming log lines...\")\n",
    "    transformed_lines = preprocess.get_transformed_lines(lines, transforms)\n",
    "\n",
    "    logger.info(\"Creating a list of transformed log lines...\")\n",
    "    start_time = time.time()\n",
    "    transformed_lines = [line for line in transformed_lines]\n",
    "    logger.info(\"Elapsed time: %s\" % (time.time() - start_time))\n",
    "    logger.info(\"# transformed lines: %s\" % len(transformed_lines))\n",
    "    return transformed_lines\n",
    "\n",
    "def test_logcluster(transformed_lines):\n",
    "    SUPPORT = 50\n",
    "    logcluster_file = \"logcluster_input.txt\"\n",
    "\n",
    "    logger.info(\"Calling logcluster with support = %s\" % SUPPORT)\n",
    "    t = templates.logcluster(transformed_lines, file_path=logcluster_file, support=str(SUPPORT))\n",
    "    return t\n",
    "\n",
    "def test_stringmatch(transformed_lines):\n",
    "    t = templates.stringmatch(transformed_lines)\n",
    "    return t"
   ]
  },
  {
   "cell_type": "code",
   "execution_count": 3,
   "metadata": {
    "collapsed": true
   },
   "outputs": [],
   "source": [
    "DIVIDER = \"=\"*20\n",
    "transformed_lines_file = \"transformed_lines.pickle\"\n",
    "template_file = \"templates.pickle\"\n",
    "timed_template_file = \"timed_templates.pickle\"\n",
    "window_file = \"windows.pickle\""
   ]
  },
  {
   "cell_type": "code",
   "execution_count": 4,
   "metadata": {
    "collapsed": false
   },
   "outputs": [
    {
     "name": "stderr",
     "output_type": "stream",
     "text": [
      "2016-01-27 17:21:35,738 [INFO] [__main__] Step 1: preprocess\n"
     ]
    }
   ],
   "source": [
    "logger.info(\"Step 1: preprocess\")"
   ]
  },
  {
   "cell_type": "code",
   "execution_count": null,
   "metadata": {
    "collapsed": false
   },
   "outputs": [
    {
     "name": "stderr",
     "output_type": "stream",
     "text": [
      "2016-01-27 17:21:37,877 [INFO] [__main__] Reading transforms from file: /Users/kylez/lab41/magichour/magichour/magichour/api/local/preprocess/simpleTrans\n",
      "2016-01-27 17:21:37,883 [INFO] [__main__] Reading log lines from file: /Users/kylez/lab41/magichour/magichour/magichour/api/local/preprocess/tbird.log.500k\n",
      "2016-01-27 17:21:37,883 [INFO] [__main__] Transforming log lines...\n",
      "2016-01-27 17:21:37,884 [INFO] [__main__] Creating a list of transformed log lines...\n",
      "2016-01-28 00:31:42,321 [INFO] [__main__] Elapsed time: 25804.4358211\n",
      "2016-01-28 00:31:42,337 [INFO] [__main__] # transformed lines: 500000\n",
      "2016-01-28 00:31:42,341 [INFO] [__main__] Writing transformed_lines to file: transformed_lines.pickle\n"
     ]
    }
   ],
   "source": [
    "transformed_lines = test_preprocess()\n",
    "logger.info(\"Writing transformed_lines to file: %s\" % transformed_lines_file)\n",
    "with open(transformed_lines_file, 'wb') as pf:\n",
    "    pickle.dump(transformed_lines, pf)"
   ]
  },
  {
   "cell_type": "code",
   "execution_count": null,
   "metadata": {
    "collapsed": false
   },
   "outputs": [
    {
     "name": "stderr",
     "output_type": "stream",
     "text": [
      "2016-01-28 00:32:02,110 [INFO] [__main__] Loading transformed_lines from file: transformed_lines.pickle\n"
     ]
    }
   ],
   "source": [
    "logger.info(\"Loading transformed_lines from file: %s\" % transformed_lines_file)\n",
    "with open(transformed_lines_file, 'rb') as pf:\n",
    "    transformed_lines = pickle.load(pf)    "
   ]
  },
  {
   "cell_type": "code",
   "execution_count": null,
   "metadata": {
    "collapsed": true
   },
   "outputs": [],
   "source": []
  }
 ],
 "metadata": {
  "kernelspec": {
   "display_name": "Python 2",
   "language": "python",
   "name": "python2"
  },
  "language_info": {
   "codemirror_mode": {
    "name": "ipython",
    "version": 2
   },
   "file_extension": ".py",
   "mimetype": "text/x-python",
   "name": "python",
   "nbconvert_exporter": "python",
   "pygments_lexer": "ipython2",
   "version": "2.7.10"
  }
 },
 "nbformat": 4,
 "nbformat_minor": 0
}
