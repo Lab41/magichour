{
 "cells": [
  {
   "cell_type": "markdown",
   "metadata": {},
   "source": [
    "# sample.ipynb\n",
    "\n",
    "This notebook is a short example of how the MagicHour pipeline works. The code was taken from the main() function in sample_driver.py. Each section in this notebook describes a separate step in the pipeline that we use to process log files. The functions that are used here are intermediate driver functions that use the underlying MagicHour API. (The driver functions provide logging and measurements of function execution time.)"
   ]
  },
  {
   "cell_type": "code",
   "execution_count": 18,
   "metadata": {
    "collapsed": true
   },
   "outputs": [],
   "source": [
    "from magichour.api.local.sample.sample_driver import *\n",
    "\n",
    "log_file = \"tbird.log.500k\"\n",
    "transforms_file = \"simpleTrans\"\n",
    "\n",
    "read_lines_args = [0, 10]\n",
    "read_lines_kwargs = {\"skip_num_chars\": 22}\n",
    "\n",
    "logcluster_kwargs = {\"support\": \"50\"}\n",
    "\n",
    "window_size = 5\n",
    "\n",
    "paris_kwargs = {\"r_slack\": None}\n",
    "fp_growth_kwargs = {\"min_support\": 10}"
   ]
  },
  {
   "cell_type": "markdown",
   "metadata": {},
   "source": [
    "---"
   ]
  },
  {
   "cell_type": "markdown",
   "metadata": {},
   "source": [
    "# Preprocess\n",
    "\n",
    "The preprocess step takes a log file and transforms it into an iterable of LogLine named tuples. While it is possible to do this without altering the original line via the get_lines() function in templates/templates.py, it is suggested that you write some transforms (see code below) and use the get_transformed_lines() function in order to perform normalizations like converting instances of things like machine/user names or IP addresses to standard tokens. Doing this will produce much better results in the Template step. We maintain the replacements in the LogLine named tuple in order to provide the ability to reconstruct LogLines throughout the pipeline."
   ]
  },
  {
   "cell_type": "markdown",
   "metadata": {},
   "source": [
    "Calculate transformed loglines from a log file+transform file."
   ]
  },
  {
   "cell_type": "code",
   "execution_count": null,
   "metadata": {
    "collapsed": false,
    "scrolled": true
   },
   "outputs": [
    {
     "name": "stderr",
     "output_type": "stream",
     "text": [
      "2016-01-28 16:03:33,060 [INFO] [magichour.api.local.sample.sample_driver] Reading transforms from file: simpleTrans\n",
      "2016-01-28 16:03:33,061 [INFO] [magichour.api.local.sample.sample_driver] Time in read_transforms_substep(): 0.000910997390747 seconds\n",
      "2016-01-28 16:03:33,062 [INFO] [magichour.api.local.sample.sample_driver] Reading log lines from file: tbird.log.500k\n",
      "2016-01-28 16:03:33,062 [INFO] [magichour.api.local.sample.sample_driver] Time in read_lines_substep(): 0.00056004524231 seconds\n",
      "2016-01-28 16:03:33,063 [INFO] [magichour.api.local.sample.sample_driver] Transforming log lines...\n",
      "2016-01-28 16:03:33,064 [INFO] [magichour.api.local.sample.sample_driver] Time in transformed_lines_substep(): 0.000664949417114 seconds\n"
     ]
    }
   ],
   "source": [
    "loglines = preprocess_step(log_file, transforms_file, *read_lines_args, **read_lines_kwargs)\n",
    "write_pickle_file(loglines, transformed_lines_file)"
   ]
  },
  {
   "cell_type": "markdown",
   "metadata": {},
   "source": [
    "Read transformed loglines from a prepared pickle file."
   ]
  },
  {
   "cell_type": "code",
   "execution_count": 2,
   "metadata": {
    "collapsed": false
   },
   "outputs": [
    {
     "name": "stderr",
     "output_type": "stream",
     "text": [
      "2016-01-28 16:23:48,246 [INFO] [magichour.api.local.sample.sample_driver] Reading pickle file: transformed_lines.pickle\n",
      "2016-01-28 16:24:13,712 [INFO] [magichour.api.local.sample.sample_driver] Time in read_pickle_file(): 25.4659278393 seconds\n"
     ]
    }
   ],
   "source": [
    "loglines = read_pickle_file(transformed_lines_file)"
   ]
  },
  {
   "cell_type": "markdown",
   "metadata": {},
   "source": [
    "You can examine and play around with the loglines output in the cell below."
   ]
  },
  {
   "cell_type": "code",
   "execution_count": 3,
   "metadata": {
    "collapsed": false
   },
   "outputs": [
    {
     "data": {
      "text/plain": [
       "LogLine(ts=1131523501.0, text='USER AFILE[INT]: tftp: client does not accept options', processed=None, replacements={'INT': ['14620'], 'AFILE': ['in.tftpd'], 'USER': ['aadmin1']}, supportId=None)"
      ]
     },
     "execution_count": 3,
     "metadata": {},
     "output_type": "execute_result"
    }
   ],
   "source": [
    "loglines[0]"
   ]
  },
  {
   "cell_type": "markdown",
   "metadata": {},
   "source": [
    "---"
   ]
  },
  {
   "cell_type": "markdown",
   "metadata": {},
   "source": [
    "# Template\n",
    "\n",
    "The template step takes in an iterable of LogLine named tuples and produces an iterable of Template named tuples. Ideally, this is the output of the previous preprocess step, however, these functions can be run independently as long as you marshal your data into iterable LogLines. In fact, the MagicHour API was designed with this in mind since we anticipate that users will want to mix and match different pipeline modules.\n",
    "\n",
    "We provide two possible templating algorithms: LogCluster and StringMatch. Additional details about LogCluster is  available at http://ristov.github.io/logcluster/. For additional details about StringMatch, see the paper \"[One Graph Is Worth a Thousand Logs: Uncovering Hidden Structures in Massive System Event Logs](http://link.springer.com/chapter/10.1007%2F978-3-642-04180-8_32)\" by Aharon, Barash, Cohen, and Mordechai. There is also a [video available](http://videolectures.net/ecmlpkdd09_barash_gwtluhsmsel/) that provides more information about StringMatch.\n",
    "\n",
    "*Note: The name \"StringMatch\" was taken from another [paper](http://users.cis.fiu.edu/~taoli/pub/liang-cikm2011.pdf) (Aharon et al do not name their algorithm).*"
   ]
  },
  {
   "cell_type": "markdown",
   "metadata": {},
   "source": [
    "### LogCluster\n",
    "\n",
    "Generate templates using the LogCluster algorithm."
   ]
  },
  {
   "cell_type": "code",
   "execution_count": 4,
   "metadata": {
    "collapsed": false
   },
   "outputs": [
    {
     "name": "stderr",
     "output_type": "stream",
     "text": [
      "2016-01-28 16:08:43,534 [INFO] [magichour.api.local.sample.sample_driver] Running template_algorithm logcluster on log lines...\n",
      "2016-01-28 16:08:43,535 [INFO] [magichour.api.local.sample.sample_driver] Running logcluster... ({'support': '50'})\n",
      "2016-01-28 16:08:43,536 [INFO] [magichour.api.local.templates.templates] This is a test!\n",
      "2016-01-28 16:08:43,541 [INFO] [magichour.api.local.templates.templates] Writing lines to temporary file: /var/folders/00/24gqj0vd2_52cqll1jf07zpr0000gq/T/tmpZ0fa3a\n",
      "2016-01-28 16:08:44,062 [INFO] [magichour.api.local.templates.LogCluster] Calling subprocess: ['perl', '/Users/kylez/lab41/magichour/magichour/magichour/lib/LogCluster/logcluster-0.03/logcluster.pl', '--input', '/var/folders/00/24gqj0vd2_52cqll1jf07zpr0000gq/T/tmpZ0fa3a', '--support', '50']\n",
      "2016-01-28 16:08:59,663 [INFO] [magichour.api.local.templates.LogCluster] Thu Jan 28 16:08:44 2016: Starting the clustering process...\n",
      "2016-01-28 16:08:59,664 [INFO] [magichour.api.local.templates.LogCluster] Thu Jan 28 16:08:50 2016: Total number of frequent words: 1420\n",
      "2016-01-28 16:08:59,665 [INFO] [magichour.api.local.templates.LogCluster] Thu Jan 28 16:08:59 2016: Total number of candidates: 1802\n",
      "2016-01-28 16:08:59,665 [INFO] [magichour.api.local.templates.LogCluster] Thu Jan 28 16:08:59 2016: Total number of frequent candidates: 593\n",
      "2016-01-28 16:08:59,666 [INFO] [magichour.api.local.templates.LogCluster] Thu Jan 28 16:08:59 2016: Total number of clusters: 593\n",
      "2016-01-28 16:08:59,667 [INFO] [magichour.api.local.templates.templates] Closing file: /var/folders/00/24gqj0vd2_52cqll1jf07zpr0000gq/T/tmpZ0fa3a\n",
      "2016-01-28 16:08:59,822 [INFO] [magichour.api.local.sample.sample_driver] Time in logcluster_substep(): 16.2869660854 seconds\n",
      "2016-01-28 16:08:59,823 [INFO] [magichour.api.local.sample.sample_driver] Time in template_step(): 16.2885029316 seconds\n"
     ]
    }
   ],
   "source": [
    "gen_templates = template_step(loglines, \"logcluster\", **logcluster_kwargs)\n",
    "write_pickle_file(gen_templates, template_file)"
   ]
  },
  {
   "cell_type": "markdown",
   "metadata": {},
   "source": [
    "### **(\\*\\*WIP\\*\\*)** StringMatch\n",
    "\n",
    "Generate tempaltes using the StringMatch algorithm."
   ]
  },
  {
   "cell_type": "code",
   "execution_count": null,
   "metadata": {
    "collapsed": true
   },
   "outputs": [],
   "source": [
    "gen_templates = template_step(loglines, \"stringmatch\")\n",
    "write_pickle_file(gen_templates, template_file)"
   ]
  },
  {
   "cell_type": "markdown",
   "metadata": {},
   "source": [
    "Read templates from a prepared pickle file."
   ]
  },
  {
   "cell_type": "code",
   "execution_count": 3,
   "metadata": {
    "collapsed": false
   },
   "outputs": [
    {
     "name": "stderr",
     "output_type": "stream",
     "text": [
      "2016-01-28 16:24:13,716 [INFO] [magichour.api.local.sample.sample_driver] Reading pickle file: templates.pickle\n",
      "2016-01-28 16:24:13,898 [INFO] [magichour.api.local.sample.sample_driver] Time in read_pickle_file(): 0.182333946228 seconds\n"
     ]
    }
   ],
   "source": [
    "gen_templates = read_pickle_file(template_file)"
   ]
  },
  {
   "cell_type": "markdown",
   "metadata": {},
   "source": [
    "You can examine and play around with the templates output in the cell below."
   ]
  },
  {
   "cell_type": "code",
   "execution_count": 12,
   "metadata": {
    "collapsed": false
   },
   "outputs": [
    {
     "data": {
      "text/plain": [
       "Template(id=462, match=<_sre.SRE_Pattern object at 0x7f9dcb11bc00>, str='MACHINENAME smartd[INT]: Device: FILEPATH Bad IEC (SMART) mode page, KEYVALUE, skip device')"
      ]
     },
     "execution_count": 12,
     "metadata": {},
     "output_type": "execute_result"
    }
   ],
   "source": [
    "gen_templates[75]"
   ]
  },
  {
   "cell_type": "markdown",
   "metadata": {},
   "source": [
    "---"
   ]
  },
  {
   "cell_type": "markdown",
   "metadata": {},
   "source": [
    "# Apply Templates\n",
    "\n",
    "The apply templates step takes in an iterable of LogLine named tuples and an iterable of Template named tuples (i.e. output of previous templating step). In this instance, we are applying the generated templates on the same log file that they came from. We believe that both this step and the Apply Events step (further down) are the only two steps that are needed to be implemented in a streaming fashion (to be able to keep up with log file ingest rates). The remainder of the steps described in this notebook could theoretically be run offline nightly (i.e. batch processing).\n",
    "\n",
    "The output of the apply templates step is an iterable of TimedTemplate named tuples, representing the instances of each template that were found in the log file. If the template_id is -1 in a TimedTemplate, then that means that no template was found that matches that particular line."
   ]
  },
  {
   "cell_type": "markdown",
   "metadata": {},
   "source": [
    "Create timed templates by applying templates generated from the last step (Template) over an iterable of LogLines."
   ]
  },
  {
   "cell_type": "code",
   "execution_count": 4,
   "metadata": {
    "collapsed": false
   },
   "outputs": [
    {
     "name": "stderr",
     "output_type": "stream",
     "text": [
      "2016-01-28 16:24:13,903 [INFO] [magichour.api.local.sample.sample_driver] Applying templates to lines...\n",
      "2016-01-28 16:25:08,345 [INFO] [magichour.api.local.sample.sample_driver] Time in apply_templates_step(): 54.4422049522 seconds\n",
      "2016-01-28 16:25:08,347 [INFO] [magichour.api.local.sample.sample_driver] Writing data to pickle file: timed_templates.pickle\n",
      "2016-01-28 16:25:13,135 [INFO] [magichour.api.local.sample.sample_driver] Time in write_pickle_file(): 4.788449049 seconds\n"
     ]
    }
   ],
   "source": [
    "timed_templates = apply_templates_step(loglines, gen_templates)\n",
    "write_pickle_file(timed_templates, timed_template_file)"
   ]
  },
  {
   "cell_type": "markdown",
   "metadata": {},
   "source": [
    "Read timed templates from a prepared pickle file."
   ]
  },
  {
   "cell_type": "code",
   "execution_count": 14,
   "metadata": {
    "collapsed": false,
    "scrolled": true
   },
   "outputs": [
    {
     "name": "stderr",
     "output_type": "stream",
     "text": [
      "2016-01-28 16:16:54,459 [INFO] [magichour.api.local.sample.sample_driver] Reading pickle file: timed_templates.pickle\n",
      "2016-01-28 16:16:59,021 [INFO] [magichour.api.local.sample.sample_driver] Time in read_pickle_file(): 4.5617480278 seconds\n"
     ]
    }
   ],
   "source": [
    "timed_templates = read_pickle_file(timed_template_file)"
   ]
  },
  {
   "cell_type": "markdown",
   "metadata": {},
   "source": [
    "You can examine and play around with the timed_templates output in the cell below."
   ]
  },
  {
   "cell_type": "code",
   "execution_count": 15,
   "metadata": {
    "collapsed": false
   },
   "outputs": [
    {
     "data": {
      "text/plain": [
       "TimedTemplate(ts=1131523501.0, template_id=423)"
      ]
     },
     "execution_count": 15,
     "metadata": {},
     "output_type": "execute_result"
    }
   ],
   "source": [
    "timed_templates[0]"
   ]
  },
  {
   "cell_type": "markdown",
   "metadata": {},
   "source": [
    "---"
   ]
  },
  {
   "cell_type": "markdown",
   "metadata": {
    "collapsed": true
   },
   "source": [
    "# Window\n",
    "\n",
    "The window step takes in an iterable of TimedTemplate named tuples (i.e. the output of the apply templates step) and returns an iterable of sets containing TimedTemplate instances. Each of these windows represent a time range in which the contained template_id's co-occurred. . In effect, we are creating transactions by grouping all TimedTemplates within *window_size*. These transactions will be passed to the next step which will perform market basket analysis on them in order to identify frequently co-occurring itemsets."
   ]
  },
  {
   "cell_type": "markdown",
   "metadata": {},
   "source": [
    "Create windows using timed templates generated from the last step (Apply Templates)."
   ]
  },
  {
   "cell_type": "code",
   "execution_count": 6,
   "metadata": {
    "collapsed": false
   },
   "outputs": [
    {
     "name": "stderr",
     "output_type": "stream",
     "text": [
      "2016-01-28 16:26:38,356 [INFO] [magichour.api.local.sample.sample_driver] Creating windows from timed_templates...\n",
      "2016-01-28 16:26:38,863 [INFO] [magichour.api.local.sample.sample_driver] Time in window_step(): 0.506636142731 seconds\n",
      "2016-01-28 16:26:38,864 [INFO] [magichour.api.local.sample.sample_driver] Writing data to pickle file: windows.pickle\n",
      "2016-01-28 16:26:41,618 [INFO] [magichour.api.local.sample.sample_driver] Time in write_pickle_file(): 2.75380682945 seconds\n"
     ]
    }
   ],
   "source": [
    "windows = window_step(timed_templates, window_size)\n",
    "write_pickle_file(windows, window_file)"
   ]
  },
  {
   "cell_type": "markdown",
   "metadata": {},
   "source": [
    "Read windows from a prepared pickle file."
   ]
  },
  {
   "cell_type": "code",
   "execution_count": 7,
   "metadata": {
    "collapsed": false
   },
   "outputs": [
    {
     "name": "stderr",
     "output_type": "stream",
     "text": [
      "2016-01-28 16:26:45,381 [INFO] [magichour.api.local.sample.sample_driver] Reading pickle file: windows.pickle\n",
      "2016-01-28 16:26:47,014 [INFO] [magichour.api.local.sample.sample_driver] Time in read_pickle_file(): 1.63275504112 seconds\n"
     ]
    }
   ],
   "source": [
    "windows = read_pickle_file(window_file)"
   ]
  },
  {
   "cell_type": "markdown",
   "metadata": {},
   "source": [
    "You can examine and play around with the window output in the cell below."
   ]
  },
  {
   "cell_type": "code",
   "execution_count": 9,
   "metadata": {
    "collapsed": false
   },
   "outputs": [
    {
     "data": {
      "text/plain": [
       "{TimedTemplate(ts=1131642881.0, template_id=10),\n",
       " TimedTemplate(ts=1131642881.0, template_id=11),\n",
       " TimedTemplate(ts=1131642883.0, template_id=1),\n",
       " TimedTemplate(ts=1131642883.0, template_id=2),\n",
       " TimedTemplate(ts=1131642884.0, template_id=1)}"
      ]
     },
     "execution_count": 9,
     "metadata": {},
     "output_type": "execute_result"
    }
   ],
   "source": [
    "windows[0]"
   ]
  },
  {
   "cell_type": "markdown",
   "metadata": {},
   "source": [
    "---"
   ]
  },
  {
   "cell_type": "markdown",
   "metadata": {},
   "source": [
    "# **(\\*\\*WIP\\*\\*)** Event"
   ]
  },
  {
   "cell_type": "markdown",
   "metadata": {},
   "source": [
    "### **(\\*\\*WIP\\*\\*)** fp_growth\n",
    "\n",
    "Generate events by applying the fp_growth algorithm on windows created from last step (Window)."
   ]
  },
  {
   "cell_type": "code",
   "execution_count": 14,
   "metadata": {
    "collapsed": false
   },
   "outputs": [
    {
     "name": "stderr",
     "output_type": "stream",
     "text": [
      "2016-01-28 16:32:07,270 [INFO] [magichour.api.local.sample.sample_driver] Running event algorithm %s on windows...\n",
      "2016-01-28 16:32:07,271 [INFO] [magichour.api.local.sample.sample_driver] Running fp_growth algorithm... ({'min_support': 10})\n",
      "2016-01-28 16:32:07,535 [INFO] [magichour.api.local.sample.sample_driver] Time in fp_growth_substep(): 0.264890909195 seconds\n",
      "2016-01-28 16:32:07,536 [INFO] [magichour.api.local.sample.sample_driver] Time in event_step(): 0.266087055206 seconds\n",
      "2016-01-28 16:32:07,536 [INFO] [magichour.api.local.sample.sample_driver] Writing data to pickle file: events.pickle\n",
      "2016-01-28 16:32:07,537 [INFO] [magichour.api.local.sample.sample_driver] Time in write_pickle_file(): 0.000615119934082 seconds\n"
     ]
    }
   ],
   "source": [
    "gen_events = event_step(windows, \"fp_growth\", **fp_growth_kwargs)\n",
    "write_pickle_file(gen_events, event_file)"
   ]
  },
  {
   "cell_type": "markdown",
   "metadata": {},
   "source": [
    "### **(\\*\\*WIP\\*\\*)** PARIS\n",
    "\n",
    "Generate events by applying the PARIS algorithm on windows created from last step (Window)."
   ]
  },
  {
   "cell_type": "code",
   "execution_count": null,
   "metadata": {
    "collapsed": false
   },
   "outputs": [],
   "source": [
    "gen_events = event_step(windows, \"paris\", **paris_kwargs)\n",
    "write_pickle_file(gen_events, event_file)"
   ]
  },
  {
   "cell_type": "markdown",
   "metadata": {},
   "source": [
    "Read events from a prepared pickle file."
   ]
  },
  {
   "cell_type": "code",
   "execution_count": 20,
   "metadata": {
    "collapsed": false
   },
   "outputs": [
    {
     "name": "stderr",
     "output_type": "stream",
     "text": [
      "2016-01-28 16:37:27,180 [INFO] [magichour.api.local.sample.sample_driver] Reading pickle file: events.pickle\n",
      "2016-01-28 16:37:27,181 [INFO] [magichour.api.local.sample.sample_driver] Time in read_pickle_file(): 0.00084400177002 seconds\n"
     ]
    }
   ],
   "source": [
    "gen_events = read_pickle_file(event_file)"
   ]
  },
  {
   "cell_type": "markdown",
   "metadata": {},
   "source": [
    "**(\\*\\*WIP\\*\\*)** You can examine and play around with the event output in the cell below."
   ]
  },
  {
   "cell_type": "code",
   "execution_count": null,
   "metadata": {
    "collapsed": false
   },
   "outputs": [],
   "source": [
    "gen_events[0]"
   ]
  },
  {
   "cell_type": "markdown",
   "metadata": {},
   "source": [
    "---"
   ]
  },
  {
   "cell_type": "markdown",
   "metadata": {},
   "source": [
    "# **(\\*\\*WIP\\*\\*)** Apply Events"
   ]
  },
  {
   "cell_type": "code",
   "execution_count": null,
   "metadata": {
    "collapsed": true
   },
   "outputs": [],
   "source": [
    "# TODO"
   ]
  }
 ],
 "metadata": {
  "celltoolbar": "Raw Cell Format",
  "kernelspec": {
   "display_name": "Python 2",
   "language": "python",
   "name": "python2"
  },
  "language_info": {
   "codemirror_mode": {
    "name": "ipython",
    "version": 2
   },
   "file_extension": ".py",
   "mimetype": "text/x-python",
   "name": "python",
   "nbconvert_exporter": "python",
   "pygments_lexer": "ipython2",
   "version": "2.7.10"
  }
 },
 "nbformat": 4,
 "nbformat_minor": 0
}
